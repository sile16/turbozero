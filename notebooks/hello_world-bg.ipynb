{
 "cells": [
  {
   "cell_type": "markdown",
   "metadata": {},
   "source": [
    "# Hello World, TurboZero Backgammon 🏁"
   ]
  },
  {
   "cell_type": "markdown",
   "metadata": {},
   "source": [
    "`turbozero` provides a vectorized implementation of AlphaZero. \n",
    "\n",
    "In a nutshell, this means we can massively speed up training, by collecting many self-play games and running Monte Carlo Tree Search in parallel across one or more GPUs!\n",
    "\n",
    "As the user, you just need to provide:\n",
    "* environment dynamics functions (step and init) that adhere to the TurboZero spec\n",
    "* a conversion function for environment state -> neural net input\n",
    "* and a few hyperparameters!\n",
    "\n",
    "TurboZero takes care of the rest. 😀 "
   ]
  },
  {
   "cell_type": "markdown",
   "metadata": {},
   "source": [
    "## Getting Started\n",
    "\n",
    "Follow the instructions in the repo readme to properly install dependencies and set up your environment."
   ]
  },
  {
   "cell_type": "markdown",
   "metadata": {},
   "source": [
    "## Environments\n",
    "\n",
    "In order to take advantage of the batched implementation of AlphaZero, we need to pair it with a vectorized environment.\n",
    "\n",
    "Fortunately, there are many great vectorized RL environment libraries, one I like in particular is [pgx](https://github.com/sotetsuk/pgx)."
   ]
  },
  {
   "cell_type": "code",
   "execution_count": 1,
   "metadata": {},
   "outputs": [
    {
     "name": "stdout",
     "output_type": "stream",
     "text": [
      "Jax Version:  0.5.3\n",
      "Default backend: gpu\n",
      "0.5.3\n",
      "True\n",
      "156\n",
      "[0.16666667 0.16666667 0.16666667 0.16666667 0.16666667 0.16666667]\n"
     ]
    },
    {
     "data": {
      "text/html": [
       "<svg baseProfile=\"full\" height=\"375.0\" version=\"1.1\" width=\"450.0\" xmlns=\"http://www.w3.org/2000/svg\" xmlns:ev=\"http://www.w3.org/2001/xml-events\" xmlns:xlink=\"http://www.w3.org/1999/xlink\"><defs /><rect fill=\"white\" height=\"425\" width=\"575\" x=\"0\" y=\"0\" /><g transform=\"scale(1.0)\"><rect fill=\"white\" height=\"375\" width=\"450\" x=\"0\" y=\"0\" /><g transform=\"translate(12.5,12.5)\"><polygon fill=\"white\" points=\"0,0 25,0 12.5,150\" stroke=\"gray\" /><polygon fill=\"gray\" points=\"25,0 50,0 37.5,150\" stroke=\"gray\" /><polygon fill=\"white\" points=\"50,0 75,0 62.5,150\" stroke=\"gray\" /><polygon fill=\"gray\" points=\"75,0 100,0 87.5,150\" stroke=\"gray\" /><polygon fill=\"white\" points=\"100,0 125,0 112.5,150\" stroke=\"gray\" /><polygon fill=\"gray\" points=\"125,0 150,0 137.5,150\" stroke=\"gray\" /><polygon fill=\"white\" points=\"175,0 200,0 187.5,150\" stroke=\"gray\" /><polygon fill=\"gray\" points=\"200,0 225,0 212.5,150\" stroke=\"gray\" /><polygon fill=\"white\" points=\"225,0 250,0 237.5,150\" stroke=\"gray\" /><polygon fill=\"gray\" points=\"250,0 275,0 262.5,150\" stroke=\"gray\" /><polygon fill=\"white\" points=\"275,0 300,0 287.5,150\" stroke=\"gray\" /><polygon fill=\"gray\" points=\"300,0 325,0 312.5,150\" stroke=\"gray\" /><polygon fill=\"gray\" points=\"0,350 25,350 12.5,200\" stroke=\"gray\" /><polygon fill=\"white\" points=\"25,350 50,350 37.5,200\" stroke=\"gray\" /><polygon fill=\"gray\" points=\"50,350 75,350 62.5,200\" stroke=\"gray\" /><polygon fill=\"white\" points=\"75,350 100,350 87.5,200\" stroke=\"gray\" /><polygon fill=\"gray\" points=\"100,350 125,350 112.5,200\" stroke=\"gray\" /><polygon fill=\"white\" points=\"125,350 150,350 137.5,200\" stroke=\"gray\" /><polygon fill=\"gray\" points=\"175,350 200,350 187.5,200\" stroke=\"gray\" /><polygon fill=\"white\" points=\"200,350 225,350 212.5,200\" stroke=\"gray\" /><polygon fill=\"gray\" points=\"225,350 250,350 237.5,200\" stroke=\"gray\" /><polygon fill=\"white\" points=\"250,350 275,350 262.5,200\" stroke=\"gray\" /><polygon fill=\"gray\" points=\"275,350 300,350 287.5,200\" stroke=\"gray\" /><polygon fill=\"white\" points=\"300,350 325,350 312.5,200\" stroke=\"gray\" /><rect fill=\"none\" height=\"350\" stroke=\"black\" width=\"325\" x=\"0\" y=\"0\" /><rect fill=\"none\" height=\"350\" stroke=\"black\" width=\"25\" x=\"150\" y=\"0\" /><circle cx=\"312.5\" cy=\"337.5\" fill=\"black\" r=\"12.5\" stroke=\"black\" /><circle cx=\"312.5\" cy=\"312.5\" fill=\"black\" r=\"12.5\" stroke=\"black\" /><circle cx=\"187.5\" cy=\"337.5\" fill=\"white\" r=\"12.5\" stroke=\"black\" /><circle cx=\"187.5\" cy=\"312.5\" fill=\"white\" r=\"12.5\" stroke=\"black\" /><circle cx=\"187.5\" cy=\"287.5\" fill=\"white\" r=\"12.5\" stroke=\"black\" /><circle cx=\"187.5\" cy=\"262.5\" fill=\"white\" r=\"12.5\" stroke=\"black\" /><circle cx=\"187.5\" cy=\"237.5\" fill=\"white\" r=\"12.5\" stroke=\"black\" /><circle cx=\"112.5\" cy=\"337.5\" fill=\"white\" r=\"12.5\" stroke=\"black\" /><circle cx=\"112.5\" cy=\"312.5\" fill=\"white\" r=\"12.5\" stroke=\"black\" /><circle cx=\"112.5\" cy=\"287.5\" fill=\"white\" r=\"12.5\" stroke=\"black\" /><circle cx=\"12.5\" cy=\"337.5\" fill=\"black\" r=\"12.5\" stroke=\"black\" /><circle cx=\"12.5\" cy=\"312.5\" fill=\"black\" r=\"12.5\" stroke=\"black\" /><circle cx=\"12.5\" cy=\"287.5\" fill=\"black\" r=\"12.5\" stroke=\"black\" /><circle cx=\"12.5\" cy=\"262.5\" fill=\"black\" r=\"12.5\" stroke=\"black\" /><circle cx=\"12.5\" cy=\"237.5\" fill=\"black\" r=\"12.5\" stroke=\"black\" /><circle cx=\"12.5\" cy=\"12.5\" fill=\"white\" r=\"12.5\" stroke=\"black\" /><circle cx=\"12.5\" cy=\"37.5\" fill=\"white\" r=\"12.5\" stroke=\"black\" /><circle cx=\"12.5\" cy=\"62.5\" fill=\"white\" r=\"12.5\" stroke=\"black\" /><circle cx=\"12.5\" cy=\"87.5\" fill=\"white\" r=\"12.5\" stroke=\"black\" /><circle cx=\"12.5\" cy=\"112.5\" fill=\"white\" r=\"12.5\" stroke=\"black\" /><circle cx=\"112.5\" cy=\"12.5\" fill=\"black\" r=\"12.5\" stroke=\"black\" /><circle cx=\"112.5\" cy=\"37.5\" fill=\"black\" r=\"12.5\" stroke=\"black\" /><circle cx=\"112.5\" cy=\"62.5\" fill=\"black\" r=\"12.5\" stroke=\"black\" /><circle cx=\"187.5\" cy=\"12.5\" fill=\"black\" r=\"12.5\" stroke=\"black\" /><circle cx=\"187.5\" cy=\"37.5\" fill=\"black\" r=\"12.5\" stroke=\"black\" /><circle cx=\"187.5\" cy=\"62.5\" fill=\"black\" r=\"12.5\" stroke=\"black\" /><circle cx=\"187.5\" cy=\"87.5\" fill=\"black\" r=\"12.5\" stroke=\"black\" /><circle cx=\"187.5\" cy=\"112.5\" fill=\"black\" r=\"12.5\" stroke=\"black\" /><circle cx=\"312.5\" cy=\"12.5\" fill=\"white\" r=\"12.5\" stroke=\"black\" /><circle cx=\"312.5\" cy=\"37.5\" fill=\"white\" r=\"12.5\" stroke=\"black\" /><rect fill=\"white\" height=\"50\" stroke=\"black\" width=\"100\" x=\"325\" y=\"0\" /><circle cx=\"350\" cy=\"25\" fill=\"black\" r=\"12.5\" stroke=\"black\" /><text fill=\"black\" font-family=\"serif\" font-size=\"34px\" x=\"365.0\" y=\"35.0\">×0</text><rect fill=\"white\" height=\"50\" stroke=\"black\" width=\"100\" x=\"325\" y=\"300\" /><circle cx=\"350\" cy=\"325\" fill=\"white\" r=\"12.5\" stroke=\"black\" /><text fill=\"black\" font-family=\"serif\" font-size=\"34px\" x=\"365.0\" y=\"335.0\">×0</text><text fill=\"black\" font-family=\"sans serif\" font-size=\"44px\" x=\"337.5\" y=\"187.5\">⚀</text><text fill=\"black\" font-family=\"sans serif\" font-size=\"44px\" x=\"370.0\" y=\"187.5\">⚃</text></g></g></svg>"
      ],
      "text/plain": [
       "<IPython.core.display.HTML object>"
      ]
     },
     "metadata": {},
     "output_type": "display_data"
    }
   ],
   "source": [
    "import jax\n",
    "print(\"Jax Version: \",jax.__version__)\n",
    "#jax.config.update('jax_platform_name', 'gpu')\n",
    "from jax.lib import xla_bridge\n",
    "from prompt_toolkit import HTML\n",
    "print(\"Default backend:\", jax.default_backend())\n",
    "\n",
    "import pgx\n",
    "import pgx.backgammon as bg\n",
    "\n",
    "print(jax.__version__)\n",
    "\n",
    "\n",
    "env = bg.Backgammon(simple_doubles=True)\n",
    "print(env.simple_doubles)\n",
    "print(env.num_actions)\n",
    "print(env.stochastic_action_probs)\n",
    "\n",
    "# create key\n",
    "key = jax.random.PRNGKey(0)\n",
    "state = env.init(key)\n",
    "from IPython.display import HTML\n",
    "display(HTML(state.to_svg()))\n",
    "\n",
    "\n",
    "\n"
   ]
  },
  {
   "cell_type": "markdown",
   "metadata": {},
   "source": [
    "## Environment Dynamics\n",
    "\n",
    "Turbozero needs to interface with the environment in order to build search trees and collect self-play episodes.\n",
    "\n",
    "We can define this interface with the following functions:\n",
    "* `env_step_fn`: given an environment state and an action, return the new environment state \n",
    "```python\n",
    "    EnvStepFn = Callable[[chex.ArrayTree, int], Tuple[chex.ArrayTree, StepMetadata]]\n",
    "```\n",
    "* `env_init_fn`: given a key, initialize and reutrn a new environment state\n",
    "```python\n",
    "    EnvInitFn = Callable[[chex.PRNGKey], Tuple[chex.ArrayTree, StepMetadata]]\n",
    "```\n",
    "Fortunately, environment libraries implement these for us! We just need to extract a few key pieces of information \n",
    "from the environment state so that we can match the TurboZero specification. We store this in a StepMetadata object:"
   ]
  },
  {
   "cell_type": "code",
   "execution_count": 2,
   "metadata": {},
   "outputs": [],
   "source": [
    "from core.types import StepMetadata\n",
    "%psource StepMetadata"
   ]
  },
  {
   "cell_type": "markdown",
   "metadata": {},
   "source": [
    "* `rewards` stores the rewards emitted for each player for the given timestep\n",
    "* `action_mask` is a mask across all possible actions, where legal actions are set to `True`, and invalid/illegal actions are set to `False`\n",
    "* `terminated` True if the environment is terminated/completed\n",
    "* `cur_player_id`: id of the current player\n",
    "* `step`: step number"
   ]
  },
  {
   "cell_type": "markdown",
   "metadata": {},
   "source": [
    "We can define the environment interface for `Backgammon` as follows:"
   ]
  },
  {
   "cell_type": "code",
   "execution_count": 4,
   "metadata": {},
   "outputs": [],
   "source": [
    "import chex\n",
    "from bg.bgcommon import bg_step_fn\n",
    "from functools import partial\n",
    "step_fn = partial(bg_step_fn, env)\n",
    "\n",
    "def init_fn(key):\n",
    "    \"\"\"Initializes a new environment state.\"\"\"\n",
    "    state = env.init(key)\n",
    "    # No need to force non-stochastic, let the environment handle it\n",
    "    return state, StepMetadata(\n",
    "        rewards=state.rewards,\n",
    "        action_mask=state.legal_action_mask,\n",
    "        terminated=state.terminated,\n",
    "        cur_player_id=state.current_player,\n",
    "        step=state._step_count\n",
    "    )"
   ]
  },
  {
   "cell_type": "markdown",
   "metadata": {},
   "source": [
    "Pretty easy!"
   ]
  },
  {
   "cell_type": "markdown",
   "metadata": {},
   "source": [
    "## Neural Network\n",
    "\n",
    "Next, we'll need to define the architecture of the neural network \n",
    "\n",
    "A simple implementation of the residual neural network used in the _AlphaZero_ paper is included for your convenience. \n",
    "\n",
    "You can implement your own architecture using `flax.linen`."
   ]
  },
  {
   "cell_type": "code",
   "execution_count": 5,
   "metadata": {},
   "outputs": [],
   "source": [
    "import jax\n",
    "import jax.numpy as jnp\n",
    "import flax.linen as nn\n",
    "\n",
    "# Define a dense residual block for vector inputs.\n",
    "class ResidualDenseBlock(nn.Module):\n",
    "    features: int\n",
    "\n",
    "    @nn.compact\n",
    "    def __call__(self, x):\n",
    "        residual = x\n",
    "        x = nn.Dense(self.features)(x)\n",
    "        x = nn.LayerNorm()(x)\n",
    "        x = nn.relu(x)\n",
    "        x = nn.Dense(self.features)(x)\n",
    "        x = nn.LayerNorm()(x)\n",
    "        return nn.relu(x + residual)\n",
    "\n",
    "# Updated ResNet-style network that accepts a 'train' keyword.\n",
    "class ResNetTurboZero(nn.Module):\n",
    "    num_actions: int       # e.g. 6 for our simplified backgammon\n",
    "    num_hidden: int = 128  # Hidden layer dimension\n",
    "    num_blocks: int = 4    # Number of residual blocks\n",
    "\n",
    "    @nn.compact\n",
    "    def __call__(self, x, train: bool = False):\n",
    "        # Initial projection.\n",
    "        x = nn.Dense(self.num_hidden)(x)\n",
    "        x = nn.LayerNorm()(x)\n",
    "        x = nn.relu(x)\n",
    "        \n",
    "        # Process through a series of residual blocks.\n",
    "        for _ in range(self.num_blocks):\n",
    "            x = ResidualDenseBlock(self.num_hidden)(x)\n",
    "        \n",
    "        # Policy head: project features to logits over possible actions.\n",
    "        policy_logits = nn.Dense(self.num_actions)(x)\n",
    "        \n",
    "        # Value head: project features to a single scalar.\n",
    "        value = nn.Dense(1)(x)\n",
    "        value = jnp.squeeze(value, axis=-1)\n",
    "        return policy_logits, value\n",
    "    \n",
    "\n",
    "resnet_model = ResNetTurboZero(env.num_actions, num_hidden=128, num_blocks=2)"
   ]
  },
  {
   "cell_type": "markdown",
   "metadata": {},
   "source": [
    "We also need a way to convert our environment's state into something our neural network can take as input (i.e. structured data -> Array). `pgx` conveniently includes this in `state.observation`, but for other environments you may need to perform the conversion yourself."
   ]
  },
  {
   "cell_type": "code",
   "execution_count": 6,
   "metadata": {},
   "outputs": [],
   "source": [
    "def state_to_nn_input(state):\n",
    "    return state.observation"
   ]
  },
  {
   "cell_type": "markdown",
   "metadata": {},
   "source": [
    "## Evaluator\n",
    "\n",
    "Next, we can initialize our evaluator, AlphaZero, which takes the following parameters:\n",
    "\n",
    "* `eval_fn`: function used to evaluate a leaf node (returns a policy and value)\n",
    "* `num_iterations`: number of MCTS iterations to run before returning the final policy\n",
    "* `max_nodes`: maximum capacity of search tree\n",
    "* `branching_factor`: branching factor of search tree == policy_size\n",
    "* `action_selector`: the algorithm used to select an action to take at any given search node, choose between:\n",
    "    * `PUCTSelector`: AlphaZero action selection algorithm\n",
    "    * `MuZeroPUCTSelector`: MuZero action selection algorithm\n",
    "    * or write your own! :)\n",
    "\n",
    "There are also a few other optional parameters, a few of the important ones are:\n",
    "* `temperature`: temperature applied to move probabilities prior to sampling (0.0 == argmax, ->inf == completely random sampling). I reccommend setting this to 1.0 for training (default) and 0.0 for evaluation.\n",
    "* `dirichlet_alpha`: magnitude of Dirichlet noise to add to root policy (default 0.3). Generally, the more actions are possible in a game, the smaller this value should be. \n",
    "* `dirichlet_epsilon`: proportion of root policy composed of Dirichlet noise (default 0.25)\n",
    "\n",
    "\n",
    "We use `make_nn_eval_fn` to create a leaf evaluation function that uses our neural network to generate a policy and a value for the given state. "
   ]
  },
  {
   "cell_type": "code",
   "execution_count": 7,
   "metadata": {},
   "outputs": [],
   "source": [
    "\n",
    "from core.evaluators.evaluation_fns import make_nn_eval_fn\n",
    "from core.evaluators.mcts.action_selection import PUCTSelector\n",
    "from core.evaluators.mcts.stochastic_mcts import StochasticMCTS\n",
    "import jax.numpy as jnp\n",
    "\n",
    "# Training evaluator: StochasticMCTS using NN\n",
    "evaluator = StochasticMCTS(   #Explores new moves\n",
    "    eval_fn=make_nn_eval_fn(resnet_model, state_to_nn_input),\n",
    "    stochastic_action_probs=env.stochastic_action_probs,\n",
    "    num_iterations=300,  \n",
    "    max_nodes=500,      \n",
    "    branching_factor=env.num_actions,\n",
    "    action_selector=PUCTSelector(),\n",
    "    temperature=1.0,\n",
    ")"
   ]
  },
  {
   "cell_type": "markdown",
   "metadata": {},
   "source": [
    "We also define a separate evaluator with different parameters to use for testing purposes. We'll give this one a larger budget (num_iterations), and set the temperature to zero so it always chooses the most-visited action after search is complete."
   ]
  },
  {
   "cell_type": "code",
   "execution_count": 8,
   "metadata": {},
   "outputs": [],
   "source": [
    "\n",
    "evaluator_test = StochasticMCTS(   #Use optimized moves, temperature=0.0\n",
    "    eval_fn=make_nn_eval_fn(resnet_model, state_to_nn_input),\n",
    "    stochastic_action_probs=env.stochastic_action_probs,\n",
    "    num_iterations=300,  # Very few iterations\n",
    "    max_nodes=500,      # Very small tree\n",
    "    branching_factor=env.num_actions,\n",
    "    action_selector=PUCTSelector(),\n",
    "    temperature=0.0,\n",
    ")"
   ]
  },
  {
   "cell_type": "markdown",
   "metadata": {},
   "source": [
    "We can use similar ideas to write a greedy baseline evaluation function, one that doesn't use a neural network at all!\n",
    "\n",
    "Instead, it simply counts the number of tiles for the active player and compares it to the number of tiles controlled by the other player, so the value is higher for states where the active player controls more tiles than the other player.\n",
    "\n",
    "Using similar techniques as before, we can create another AlphaZero evaluator to test against."
   ]
  },
  {
   "cell_type": "code",
   "execution_count": 9,
   "metadata": {},
   "outputs": [],
   "source": [
    "from core.evaluators.evaluation_fns import make_nn_eval_fn_no_params_callable\n",
    "import chex\n",
    "from bg.bgcommon import bg_hit2_eval\n",
    "\n",
    "\n",
    "# Test evaluator: Regular MCTS using pip count\n",
    "pip_count_mcts_evaluator_test = StochasticMCTS(  # optimizes for moves\n",
    "    eval_fn=bg_hit2_eval, # Use pip count eval fn\n",
    "    stochastic_action_probs=env.stochastic_action_probs,\n",
    "    num_iterations=30, # Give it slightly more iterations maybe\n",
    "    max_nodes=100,\n",
    "    branching_factor=env.num_actions,\n",
    "    action_selector=PUCTSelector(),\n",
    "    temperature=0.0 # Deterministic action selection for testing\n",
    ")"
   ]
  },
  {
   "cell_type": "markdown",
   "metadata": {},
   "source": [
    "## Replay Memory Buffer\n",
    "\n",
    "Next, we'll initialize a replay memory buffer to hold selfplay trajectories that we can sample from during training. This actually just defines an interface, the buffer state itself will be initialized and managed internally.\n",
    "\n",
    "The replay buffer is batched, it retains a buffer of trajectories across a batch dimension. We specify a `capacity`: the amount of samples stored in a single buffer. The total capacity of the entire replay buffer is then `batch_size * capacity`, where `batch_size` is the number of environments/self-play games being run in parallel."
   ]
  },
  {
   "cell_type": "code",
   "execution_count": 10,
   "metadata": {},
   "outputs": [],
   "source": [
    "from core.memory.replay_memory import EpisodeReplayBuffer\n",
    "\n",
    "replay_memory = EpisodeReplayBuffer(capacity=100000)"
   ]
  },
  {
   "cell_type": "markdown",
   "metadata": {},
   "source": [
    "## Rendering\n",
    "We can optionally provide a `render_fn` that will record games played by our model against one of the baselines and save it as a `.gif`.\n",
    "\n",
    "I've included a helper fn that takes care of this:"
   ]
  },
  {
   "cell_type": "markdown",
   "metadata": {},
   "source": [
    "This helper function depends upon cairoSVG, which itself depends upon `cairo`, which you'll need to install on your system.\n",
    "\n",
    "On Ubuntu, this can be done with:"
   ]
  },
  {
   "cell_type": "code",
   "execution_count": 11,
   "metadata": {},
   "outputs": [
    {
     "name": "stdout",
     "output_type": "stream",
     "text": [
      "\r\n",
      "Reading package lists... 0%\r\n",
      "\r\n",
      "Reading package lists... 100%\r\n",
      "\r\n",
      "Reading package lists... Done\r\n",
      "\r\n",
      "E: Could not open lock file /var/lib/apt/lists/lock - open (13: Permission denied)\r\n",
      "E: Unable to lock directory /var/lib/apt/lists/\r\n",
      "W: Problem unlinking the file /var/cache/apt/pkgcache.bin - RemoveCaches (13: Permission denied)\r\n",
      "W: Problem unlinking the file /var/cache/apt/srcpkgcache.bin - RemoveCaches (13: Permission denied)\r\n"
     ]
    },
    {
     "name": "stderr",
     "output_type": "stream",
     "text": [
      "/home/sile/.pyenv/versions/3.12.8/lib/python3.12/pty.py:95: RuntimeWarning: os.fork() was called. os.fork() is incompatible with multithreaded code, and JAX is multithreaded, so this will likely lead to a deadlock.\n",
      "  pid, fd = os.forkpty()\n"
     ]
    }
   ],
   "source": [
    "! apt-get update && apt-get -y install libcairo2-dev"
   ]
  },
  {
   "cell_type": "markdown",
   "metadata": {},
   "source": [
    "If you're on another OS, consult https://www.cairographics.org/download/ for installation guidelines"
   ]
  },
  {
   "cell_type": "code",
   "execution_count": 12,
   "metadata": {},
   "outputs": [],
   "source": [
    "from functools import partial\n",
    "from core.testing.utils import render_pgx_2p\n",
    "render_fn = partial(render_pgx_2p, p1_label='Black', p2_label='White', duration=900)\n"
   ]
  },
  {
   "cell_type": "markdown",
   "metadata": {},
   "source": [
    "## Trainer Initialization\n",
    "Now that we have all the proper pieces defined, we are ready to initialize a Trainer and start training!\n",
    "\n",
    "The `Trainer` takes many parameters, so let's walk through them all:\n",
    "* `batch_size`: # of parallel environments used to collect self-play games\n",
    "* `train_batch_size`: size of minibatch used during training step\n",
    "* `warmup_steps`: # of steps (per batch) to collect via self-play prior to entering the training loop. This is used to populate the replay memory with some initial samples\n",
    "* `collection_steps_per_epoch`: # of steps (per batch) to collect via self-play per epoch\n",
    "* `train_steps_per_epoch`: # of train steps per epoch\n",
    "* `nn`: neural network (`linen.Module`)\n",
    "* `loss_fn`: loss function used for training, we use a provided default loss which implements the loss function used in the `AlphaZero` paper\n",
    "* `optimizer`: an `optax` optimizer used for training\n",
    "* `evaluator`: the `Evaluator` to use during self-play, we initialized ours using `AlphaZero(MCTS)`\n",
    "* `memory_buffer`: the memory buffer used to store samples from self-play games, we  initialized ours using `EpisodeReplayBuffer`\n",
    "* `max_episode_steps`: maximum number of steps/turns to allow before truncating an episode\n",
    "* `env_step_fn`: environment step function (we defined ours above)\n",
    "* `env_init_fn`: environment init function (we defined ours above)\n",
    "* `state_to_nn_input_fn`: function to convert environment state to nn input (we defined ours above)\n",
    "* `testers`: any number of `Tester`s, used to evaluate a given model and take their own parameters. We'll use the two evaluators defined above to initialize two Testers.\n",
    "* `evaluator_test`: (Optional) Evaluator used within Testers. By default used `evaluator`, but sometimes you may want to test with a larger MCTS iteration budget for example, or a different move sampling temperature\n",
    "* `data_transform_fns`: (optional) list of data transform functions to apply to self-play experiences (e.g. rotation, reflection, etc.)\n",
    "* `extract_model_params_fn`: (Optional) in special cases we need to define how to extract all model parameters from a flax `TrainState`. The default function handles BatchNorm, but if another special-case technique applied across batches is used (e.g. Dropout) we would need to define a function to extract the appropriate parameters. You usually won't need to define this!\n",
    "* `wandb_project_name`: (Optional) Weights and Biases project name. You will be prompted to login if a name is provided. If a name is provided, a run will be initialized and loss and other metrics will be logged to the given wandb project.\n",
    "* `ckpt_dir`: (Optional) directory to store checkpoints in, by default this is set to `/tmp/turbozero_checkpoints`\n",
    "* `max_checkpoints`: (Optional) maximum number of most-recent checkpoints to retain (default: 2)\n",
    "* `num_devices`: (Optional) number of hardware accelerators (GPUs/TPUs) to use. If not given, all available hardware accelerators are used\n",
    "* `wandb_run`: (Optional) continues from an initialized `wandb` run if provided, otherwise a new one is initialized\n",
    "* `extra_wandb_config`: (Optional) any extra metadata to store in the `wandb` run config\n",
    "\n",
    "A training epoch is comprised of M collection steps, followed by N training steps sampling minibatches from replay memory. Optionally, any number of Testers evaluate the current model. At the end of each epoch, a checkpoint is saved.\n",
    "\n",
    "If you are using one or more GPUs (reccommended), TurboZero by default will run on all your available hardware."
   ]
  },
  {
   "cell_type": "code",
   "execution_count": 13,
   "metadata": {},
   "outputs": [
    {
     "name": "stderr",
     "output_type": "stream",
     "text": [
      "ERROR:wandb.jupyter:Failed to detect the name of this notebook, you can set it manually with the WANDB_NOTEBOOK_NAME environment variable to enable code saving.\n",
      "\u001b[34m\u001b[1mwandb\u001b[0m: Using wandb-core as the SDK backend.  Please refer to https://wandb.me/wandb-core for more information.\n",
      "\u001b[34m\u001b[1mwandb\u001b[0m: Currently logged in as: \u001b[33msile16\u001b[0m (\u001b[33msile16-self\u001b[0m). Use \u001b[1m`wandb login --relogin`\u001b[0m to force relogin\n",
      "\u001b[34m\u001b[1mwandb\u001b[0m: \u001b[33mWARNING\u001b[0m Unable to render HTML, can't import display from ipython.core\n",
      "\u001b[34m\u001b[1mwandb\u001b[0m: \u001b[33mWARNING\u001b[0m Unable to render HTML, can't import display from ipython.core\n",
      "\u001b[34m\u001b[1mwandb\u001b[0m: \u001b[33mWARNING\u001b[0m Unable to render HTML, can't import display from ipython.core\n",
      "\u001b[34m\u001b[1mwandb\u001b[0m: \u001b[33mWARNING\u001b[0m Unable to render HTML, can't import display from ipython.core\n",
      "\u001b[34m\u001b[1mwandb\u001b[0m: \u001b[33mWARNING\u001b[0m Unable to render HTML, can't import display from ipython.core\n"
     ]
    }
   ],
   "source": [
    "from functools import partial\n",
    "from core.testing.two_player_baseline import TwoPlayerBaseline\n",
    "from core.training.loss_fns import az_default_loss_fn\n",
    "from core.training.stochastic_train import StochasticTrainer\n",
    "from core.training.train import Trainer\n",
    "import optax\n",
    "\n",
    "\n",
    "trainer = StochasticTrainer(\n",
    "    batch_size=64,      \n",
    "    train_batch_size=32,\n",
    "    warmup_steps=0,\n",
    "    collection_steps_per_epoch=512,  \n",
    "    train_steps_per_epoch=512,       \n",
    "    nn=resnet_model,\n",
    "    loss_fn=partial(az_default_loss_fn, l2_reg_lambda=1e-4),\n",
    "    optimizer=optax.adam(1e-4),\n",
    "    # Use the stochastic evaluator for training\n",
    "    evaluator=evaluator, \n",
    "    memory_buffer=replay_memory,\n",
    "    max_episode_steps=500,  # should be enough for most games\n",
    "    env_step_fn=step_fn,\n",
    "    env_init_fn=init_fn,\n",
    "    state_to_nn_input_fn=state_to_nn_input,\n",
    "    ckpt_dir = \"/tmp/ckpts\",\n",
    "    testers=[\n",
    "        # Use our custom BackgammonTwoPlayerBaseline\n",
    "        TwoPlayerBaseline(\n",
    "            num_episodes=50,\n",
    "            baseline_evaluator=pip_count_mcts_evaluator_test,\n",
    "            #render_fn=render_fn,\n",
    "            #render_dir='training_eval/pip_count_baseline',\n",
    "            name='hit2_eval'\n",
    "        )\n",
    "    ],\n",
    "    # Use the pip count MCTS evaluator for testing\n",
    "    evaluator_test=evaluator_test, \n",
    "    data_transform_fns=[],  # No data transforms as requested\n",
    "    wandb_project_name=\"TurboZero-Backgammon-Notebook\"\n",
    ")"
   ]
  },
  {
   "cell_type": "markdown",
   "metadata": {},
   "source": [
    "## Training\n",
    "\n",
    "Now all that's left to do is to kick off the training loop! We need to pass an initial seed for reproducibility, and the number of epochs to run for!\n",
    "\n",
    "If you've set up `wandb`, you can track metrics via plots in the run dashboard. Metrics will also be printed to the console. \n",
    "\n",
    "IMPORTANT: The first epoch will not execute quickly! This is because there is significant overhead in JAX compilation (nearly all of the training loop is JIT-compiled). This will cause the first epoch to run very slowly, as JIT-compiled functions are traced and compiled the first time they are run. Expect epochs after the first to execute much more quickly. Typically, GPU utilization will also be low/zero during this period.\n",
    "\n",
    "It's also worth mentioning that the hyperparameters in this notebook are just here for example purposes. Regardless of the task, they will need to be tuned according to the characteristics of the environment as well as your available hardware and time/cost constraints."
   ]
  },
  {
   "cell_type": "code",
   "execution_count": 14,
   "metadata": {},
   "outputs": [
    {
     "name": "stdout",
     "output_type": "stream",
     "text": [
      "Epoch 0: {'l2_reg': '0.1420', 'loss': '2.3701', 'policy_entropy': '0.8630', 'policy_loss': '1.1293', 'value_loss': '1.0988', 'buffer/size': '25401.0000', 'buffer/valid_samples': '186899.0000', 'buffer/fullness_pct': '13.2297', 'perf/train_steps_per_sec': '4.0000', 'perf/samples_per_sec': '128.0000', 'perf/collect_time_sec': '383.2286', 'perf/train_time_sec': '26.3936', 'perf/collect_steps_per_sec': '1.3360', 'perf/collect_game_steps_per_sec': '85.5051', 'game/terminated_count': '0.0000', 'game/terminated_pct': '0.0000'}\n",
      "Epoch 0: {'hit2_eval_avg_outcome': '0.2200'}\n",
      "Epoch 1: {'l2_reg': '0.1404', 'loss': '2.0396', 'policy_entropy': '0.8905', 'policy_loss': '1.0226', 'value_loss': '0.8766', 'buffer/size': '50956.0000', 'buffer/valid_samples': '187787.0000', 'buffer/fullness_pct': '26.5396', 'perf/train_steps_per_sec': '512000000.0000', 'perf/samples_per_sec': '16384000000.0000', 'perf/collect_time_sec': '380.8166', 'perf/train_time_sec': '22.0349', 'perf/collect_steps_per_sec': '1.3445', 'perf/collect_game_steps_per_sec': '86.0467', 'game/terminated_count': '0.0000', 'game/terminated_pct': '0.0000'}\n",
      "Epoch 2: {'l2_reg': '0.1395', 'loss': '1.9622', 'policy_entropy': '0.8966', 'policy_loss': '0.9907', 'value_loss': '0.8320', 'buffer/size': '76566.0000', 'buffer/valid_samples': '187541.0000', 'buffer/fullness_pct': '39.8781', 'perf/train_steps_per_sec': '512000000.0000', 'perf/samples_per_sec': '16384000000.0000', 'perf/collect_time_sec': '386.3634', 'perf/train_time_sec': '21.8689', 'perf/collect_steps_per_sec': '1.3252', 'perf/collect_game_steps_per_sec': '84.8113', 'game/terminated_count': '0.0000', 'game/terminated_pct': '0.0000'}\n",
      "Epoch 3: {'l2_reg': '0.1389', 'loss': '1.9000', 'policy_entropy': '0.8816', 'policy_loss': '0.9528', 'value_loss': '0.8084', 'buffer/size': '102166.0000', 'buffer/valid_samples': '188018.0000', 'buffer/fullness_pct': '53.2115', 'perf/train_steps_per_sec': '512000000.0000', 'perf/samples_per_sec': '16384000000.0000', 'perf/collect_time_sec': '378.5865', 'perf/train_time_sec': '21.1066', 'perf/collect_steps_per_sec': '1.3524', 'perf/collect_game_steps_per_sec': '86.5535', 'game/terminated_count': '0.0000', 'game/terminated_pct': '0.0000'}\n",
      "Epoch 4: {'l2_reg': '0.1383', 'loss': '1.9009', 'policy_entropy': '0.8749', 'policy_loss': '0.9387', 'value_loss': '0.8239', 'buffer/size': '127735.0000', 'buffer/valid_samples': '188075.0000', 'buffer/fullness_pct': '66.5286', 'perf/train_steps_per_sec': '512000000.0000', 'perf/samples_per_sec': '16384000000.0000', 'perf/collect_time_sec': '378.7528', 'perf/train_time_sec': '21.0363', 'perf/collect_steps_per_sec': '1.3518', 'perf/collect_game_steps_per_sec': '86.5155', 'game/terminated_count': '0.0000', 'game/terminated_pct': '0.0000'}\n",
      "Epoch 5: {'l2_reg': '0.1378', 'loss': '1.8863', 'policy_entropy': '0.8755', 'policy_loss': '0.9288', 'value_loss': '0.8197', 'buffer/size': '153348.0000', 'buffer/valid_samples': '187513.0000', 'buffer/fullness_pct': '79.8688', 'perf/train_steps_per_sec': '4.0000', 'perf/samples_per_sec': '128.0000', 'perf/collect_time_sec': '384.8001', 'perf/train_time_sec': '22.1096', 'perf/collect_steps_per_sec': '1.3306', 'perf/collect_game_steps_per_sec': '85.1559', 'game/terminated_count': '0.0000', 'game/terminated_pct': '0.0000'}\n",
      "Epoch 5: {'hit2_eval_avg_outcome': '0.3800'}\n",
      "Epoch 6: {'l2_reg': '0.1373', 'loss': '1.8645', 'policy_entropy': '0.8771', 'policy_loss': '0.9274', 'value_loss': '0.7999', 'buffer/size': '178931.0000', 'buffer/valid_samples': '187922.0000', 'buffer/fullness_pct': '93.1932', 'perf/train_steps_per_sec': '4.0000', 'perf/samples_per_sec': '128.0000', 'perf/collect_time_sec': '384.4675', 'perf/train_time_sec': '21.6228', 'perf/collect_steps_per_sec': '1.3317', 'perf/collect_game_steps_per_sec': '85.2296', 'game/terminated_count': '0.0000', 'game/terminated_pct': '0.0000'}\n",
      "Epoch 7: {'l2_reg': '0.1367', 'loss': '1.8161', 'policy_entropy': '0.8619', 'policy_loss': '0.9095', 'value_loss': '0.7698', 'buffer/size': '192000.0000', 'buffer/valid_samples': '187661.0000', 'buffer/fullness_pct': '100.0000', 'perf/train_steps_per_sec': '4.0000', 'perf/samples_per_sec': '128.0000', 'perf/collect_time_sec': '363.8943', 'perf/train_time_sec': '20.6625', 'perf/collect_steps_per_sec': '1.4070', 'perf/collect_game_steps_per_sec': '90.0481', 'game/terminated_count': '0.0000', 'game/terminated_pct': '0.0000'}\n",
      "Epoch 8: {'l2_reg': '0.1362', 'loss': '1.8235', 'policy_entropy': '0.8545', 'policy_loss': '0.8978', 'value_loss': '0.7895', 'buffer/size': '192000.0000', 'buffer/valid_samples': '187454.0000', 'buffer/fullness_pct': '100.0000', 'perf/train_steps_per_sec': '4.0000', 'perf/samples_per_sec': '128.0000', 'perf/collect_time_sec': '361.1091', 'perf/train_time_sec': '20.6558', 'perf/collect_steps_per_sec': '1.4179', 'perf/collect_game_steps_per_sec': '90.7426', 'game/terminated_count': '0.0000', 'game/terminated_pct': '0.0000'}\n",
      "Epoch 9: {'l2_reg': '0.1356', 'loss': '1.8197', 'policy_entropy': '0.8564', 'policy_loss': '0.8974', 'value_loss': '0.7866', 'buffer/size': '192000.0000', 'buffer/valid_samples': '186985.0000', 'buffer/fullness_pct': '100.0000', 'perf/train_steps_per_sec': '4.0000', 'perf/samples_per_sec': '128.0000', 'perf/collect_time_sec': '379.5916', 'perf/train_time_sec': '20.5517', 'perf/collect_steps_per_sec': '1.3488', 'perf/collect_game_steps_per_sec': '86.3244', 'game/terminated_count': '0.0000', 'game/terminated_pct': '0.0000'}\n",
      "Epoch 10: {'l2_reg': '0.1351', 'loss': '1.8354', 'policy_entropy': '0.8598', 'policy_loss': '0.9058', 'value_loss': '0.7945', 'buffer/size': '192000.0000', 'buffer/valid_samples': '187744.0000', 'buffer/fullness_pct': '100.0000', 'perf/train_steps_per_sec': '4.0000', 'perf/samples_per_sec': '128.0000', 'perf/collect_time_sec': '361.5577', 'perf/train_time_sec': '21.2190', 'perf/collect_steps_per_sec': '1.4161', 'perf/collect_game_steps_per_sec': '90.6301', 'game/terminated_count': '0.0000', 'game/terminated_pct': '0.0000'}\n",
      "Epoch 10: {'hit2_eval_avg_outcome': '0.3400'}\n",
      "Epoch 11: {'l2_reg': '0.1345', 'loss': '1.8488', 'policy_entropy': '0.8656', 'policy_loss': '0.9082', 'value_loss': '0.8061', 'buffer/size': '192000.0000', 'buffer/valid_samples': '187864.0000', 'buffer/fullness_pct': '100.0000', 'perf/train_steps_per_sec': '512000000.0000', 'perf/samples_per_sec': '16384000000.0000', 'perf/collect_time_sec': '374.5335', 'perf/train_time_sec': '20.7464', 'perf/collect_steps_per_sec': '1.3670', 'perf/collect_game_steps_per_sec': '87.4902', 'game/terminated_count': '0.0000', 'game/terminated_pct': '0.0000'}\n",
      "Epoch 12: {'l2_reg': '0.1340', 'loss': '1.8526', 'policy_entropy': '0.8759', 'policy_loss': '0.9164', 'value_loss': '0.8022', 'buffer/size': '192000.0000', 'buffer/valid_samples': '187854.0000', 'buffer/fullness_pct': '100.0000', 'perf/train_steps_per_sec': '512000000.0000', 'perf/samples_per_sec': '16384000000.0000', 'perf/collect_time_sec': '371.5454', 'perf/train_time_sec': '21.1345', 'perf/collect_steps_per_sec': '1.3780', 'perf/collect_game_steps_per_sec': '88.1938', 'game/terminated_count': '0.0000', 'game/terminated_pct': '0.0000'}\n",
      "Epoch 13: {'l2_reg': '0.1335', 'loss': '1.8443', 'policy_entropy': '0.8770', 'policy_loss': '0.9121', 'value_loss': '0.7987', 'buffer/size': '192000.0000', 'buffer/valid_samples': '187536.0000', 'buffer/fullness_pct': '100.0000', 'perf/train_steps_per_sec': '4.0000', 'perf/samples_per_sec': '128.0000', 'perf/collect_time_sec': '379.5715', 'perf/train_time_sec': '20.8758', 'perf/collect_steps_per_sec': '1.3489', 'perf/collect_game_steps_per_sec': '86.3289', 'game/terminated_count': '0.0000', 'game/terminated_pct': '0.0000'}\n",
      "Epoch 14: {'l2_reg': '0.1329', 'loss': '1.8477', 'policy_entropy': '0.8841', 'policy_loss': '0.9150', 'value_loss': '0.7998', 'buffer/size': '192000.0000', 'buffer/valid_samples': '187652.0000', 'buffer/fullness_pct': '100.0000', 'perf/train_steps_per_sec': '4.0000', 'perf/samples_per_sec': '128.0000', 'perf/collect_time_sec': '359.7947', 'perf/train_time_sec': '21.7690', 'perf/collect_steps_per_sec': '1.4230', 'perf/collect_game_steps_per_sec': '91.0742', 'game/terminated_count': '0.0000', 'game/terminated_pct': '0.0000'}\n",
      "Epoch 15: {'l2_reg': '0.1324', 'loss': '1.8568', 'policy_entropy': '0.8803', 'policy_loss': '0.9134', 'value_loss': '0.8109', 'buffer/size': '192000.0000', 'buffer/valid_samples': '188487.0000', 'buffer/fullness_pct': '100.0000', 'perf/train_steps_per_sec': '4.0000', 'perf/samples_per_sec': '128.0000', 'perf/collect_time_sec': '360.6590', 'perf/train_time_sec': '20.5253', 'perf/collect_steps_per_sec': '1.4196', 'perf/collect_game_steps_per_sec': '90.8559', 'game/terminated_count': '0.0000', 'game/terminated_pct': '0.0000'}\n"
     ]
    },
    {
     "name": "stdout",
     "output_type": "stream",
     "text": [
      "Epoch 15: {'hit2_eval_avg_outcome': '-0.0200'}\n",
      "Epoch 16: {'l2_reg': '0.1319', 'loss': '1.8407', 'policy_entropy': '0.8770', 'policy_loss': '0.9104', 'value_loss': '0.7984', 'buffer/size': '192000.0000', 'buffer/valid_samples': '187647.0000', 'buffer/fullness_pct': '100.0000', 'perf/train_steps_per_sec': '4.0000', 'perf/samples_per_sec': '128.0000', 'perf/collect_time_sec': '380.4002', 'perf/train_time_sec': '20.3989', 'perf/collect_steps_per_sec': '1.3460', 'perf/collect_game_steps_per_sec': '86.1409', 'game/terminated_count': '0.0000', 'game/terminated_pct': '0.0000'}\n",
      "Epoch 17: {'l2_reg': '0.1315', 'loss': '1.8495', 'policy_entropy': '0.8791', 'policy_loss': '0.9080', 'value_loss': '0.8100', 'buffer/size': '192000.0000', 'buffer/valid_samples': '187598.0000', 'buffer/fullness_pct': '100.0000', 'perf/train_steps_per_sec': '4.0000', 'perf/samples_per_sec': '128.0000', 'perf/collect_time_sec': '378.0464', 'perf/train_time_sec': '20.8375', 'perf/collect_steps_per_sec': '1.3543', 'perf/collect_game_steps_per_sec': '86.6772', 'game/terminated_count': '0.0000', 'game/terminated_pct': '0.0000'}\n",
      "Epoch 19: {'l2_reg': '0.1306', 'loss': '1.8250', 'policy_entropy': '0.8791', 'policy_loss': '0.9072', 'value_loss': '0.7872', 'buffer/size': '192000.0000', 'buffer/valid_samples': '187764.0000', 'buffer/fullness_pct': '100.0000', 'perf/train_steps_per_sec': '512000000.0000', 'perf/samples_per_sec': '16384000000.0000', 'perf/collect_time_sec': '375.8723', 'perf/train_time_sec': '21.4955', 'perf/collect_steps_per_sec': '1.3622', 'perf/collect_game_steps_per_sec': '87.1785', 'game/terminated_count': '0.0000', 'game/terminated_pct': '0.0000'}\n",
      "Epoch 20: {'l2_reg': '0.1302', 'loss': '1.8265', 'policy_entropy': '0.8721', 'policy_loss': '0.8981', 'value_loss': '0.7982', 'buffer/size': '192000.0000', 'buffer/valid_samples': '187612.0000', 'buffer/fullness_pct': '100.0000', 'perf/train_steps_per_sec': '512000000.0000', 'perf/samples_per_sec': '16384000000.0000', 'perf/collect_time_sec': '377.9915', 'perf/train_time_sec': '20.3212', 'perf/collect_steps_per_sec': '1.3545', 'perf/collect_game_steps_per_sec': '86.6898', 'game/terminated_count': '0.0000', 'game/terminated_pct': '0.0000'}\n",
      "Epoch 20: {'hit2_eval_avg_outcome': '0.1200'}\n",
      "Epoch 21: {'l2_reg': '0.1298', 'loss': '1.7993', 'policy_entropy': '0.8763', 'policy_loss': '0.8988', 'value_loss': '0.7707', 'buffer/size': '192000.0000', 'buffer/valid_samples': '187381.0000', 'buffer/fullness_pct': '100.0000', 'perf/train_steps_per_sec': '512000000.0000', 'perf/samples_per_sec': '16384000000.0000', 'perf/collect_time_sec': '371.8658', 'perf/train_time_sec': '21.1326', 'perf/collect_steps_per_sec': '1.3768', 'perf/collect_game_steps_per_sec': '88.1178', 'game/terminated_count': '0.0000', 'game/terminated_pct': '0.0000'}\n",
      "Epoch 22: {'l2_reg': '0.1294', 'loss': '1.8051', 'policy_entropy': '0.8819', 'policy_loss': '0.9071', 'value_loss': '0.7686', 'buffer/size': '192000.0000', 'buffer/valid_samples': '187659.0000', 'buffer/fullness_pct': '100.0000', 'perf/train_steps_per_sec': '4.0000', 'perf/samples_per_sec': '128.0000', 'perf/collect_time_sec': '357.2665', 'perf/train_time_sec': '21.0538', 'perf/collect_steps_per_sec': '1.4331', 'perf/collect_game_steps_per_sec': '91.7187', 'game/terminated_count': '0.0000', 'game/terminated_pct': '0.0000'}\n",
      "Epoch 23: {'l2_reg': '0.1290', 'loss': '1.8020', 'policy_entropy': '0.8788', 'policy_loss': '0.9039', 'value_loss': '0.7692', 'buffer/size': '192000.0000', 'buffer/valid_samples': '188073.0000', 'buffer/fullness_pct': '100.0000', 'perf/train_steps_per_sec': '4.0000', 'perf/samples_per_sec': '128.0000', 'perf/collect_time_sec': '359.6827', 'perf/train_time_sec': '21.2050', 'perf/collect_steps_per_sec': '1.4235', 'perf/collect_game_steps_per_sec': '91.1025', 'game/terminated_count': '0.0000', 'game/terminated_pct': '0.0000'}\n",
      "Epoch 24: {'l2_reg': '0.1286', 'loss': '1.8144', 'policy_entropy': '0.8893', 'policy_loss': '0.9123', 'value_loss': '0.7735', 'buffer/size': '192000.0000', 'buffer/valid_samples': '187517.0000', 'buffer/fullness_pct': '100.0000', 'perf/train_steps_per_sec': '512000000.0000', 'perf/samples_per_sec': '16384000000.0000', 'perf/collect_time_sec': '373.3414', 'perf/train_time_sec': '21.5109', 'perf/collect_steps_per_sec': '1.3714', 'perf/collect_game_steps_per_sec': '87.7695', 'game/terminated_count': '0.0000', 'game/terminated_pct': '0.0000'}\n",
      "Epoch 25: {'l2_reg': '0.1282', 'loss': '1.8094', 'policy_entropy': '0.8864', 'policy_loss': '0.9132', 'value_loss': '0.7680', 'buffer/size': '192000.0000', 'buffer/valid_samples': '187301.0000', 'buffer/fullness_pct': '100.0000', 'perf/train_steps_per_sec': '512000000.0000', 'perf/samples_per_sec': '16384000000.0000', 'perf/collect_time_sec': '360.2923', 'perf/train_time_sec': '21.0012', 'perf/collect_steps_per_sec': '1.4211', 'perf/collect_game_steps_per_sec': '90.9484', 'game/terminated_count': '0.0000', 'game/terminated_pct': '0.0000'}\n",
      "Epoch 25: {'hit2_eval_avg_outcome': '-0.1200'}\n",
      "Epoch 26: {'l2_reg': '0.1278', 'loss': '1.8392', 'policy_entropy': '0.8959', 'policy_loss': '0.9190', 'value_loss': '0.7924', 'buffer/size': '192000.0000', 'buffer/valid_samples': '186782.0000', 'buffer/fullness_pct': '100.0000', 'perf/train_steps_per_sec': '4.0000', 'perf/samples_per_sec': '128.0000', 'perf/collect_time_sec': '356.7724', 'perf/train_time_sec': '20.9464', 'perf/collect_steps_per_sec': '1.4351', 'perf/collect_game_steps_per_sec': '91.8457', 'game/terminated_count': '0.0000', 'game/terminated_pct': '0.0000'}\n",
      "Epoch 27: {'l2_reg': '0.1274', 'loss': '1.8562', 'policy_entropy': '0.9046', 'policy_loss': '0.9280', 'value_loss': '0.8007', 'buffer/size': '192000.0000', 'buffer/valid_samples': '187452.0000', 'buffer/fullness_pct': '100.0000', 'perf/train_steps_per_sec': '4.0000', 'perf/samples_per_sec': '128.0000', 'perf/collect_time_sec': '360.3733', 'perf/train_time_sec': '21.2038', 'perf/collect_steps_per_sec': '1.4207', 'perf/collect_game_steps_per_sec': '90.9279', 'game/terminated_count': '0.0000', 'game/terminated_pct': '0.0000'}\n",
      "Epoch 28: {'l2_reg': '0.1270', 'loss': '1.8103', 'policy_entropy': '0.8925', 'policy_loss': '0.9095', 'value_loss': '0.7738', 'buffer/size': '192000.0000', 'buffer/valid_samples': '187019.0000', 'buffer/fullness_pct': '100.0000', 'perf/train_steps_per_sec': '4.0000', 'perf/samples_per_sec': '128.0000', 'perf/collect_time_sec': '365.6945', 'perf/train_time_sec': '20.6893', 'perf/collect_steps_per_sec': '1.4001', 'perf/collect_game_steps_per_sec': '89.6048', 'game/terminated_count': '0.0000', 'game/terminated_pct': '0.0000'}\n",
      "Epoch 29: {'l2_reg': '0.1267', 'loss': '1.8230', 'policy_entropy': '0.9001', 'policy_loss': '0.9191', 'value_loss': '0.7772', 'buffer/size': '192000.0000', 'buffer/valid_samples': '187885.0000', 'buffer/fullness_pct': '100.0000', 'perf/train_steps_per_sec': '4.0000', 'perf/samples_per_sec': '128.0000', 'perf/collect_time_sec': '362.5943', 'perf/train_time_sec': '20.6979', 'perf/collect_steps_per_sec': '1.4120', 'perf/collect_game_steps_per_sec': '90.3710', 'game/terminated_count': '0.0000', 'game/terminated_pct': '0.0000'}\n",
      "Epoch 30: {'l2_reg': '0.1263', 'loss': '1.8309', 'policy_entropy': '0.8902', 'policy_loss': '0.9086', 'value_loss': '0.7960', 'buffer/size': '192000.0000', 'buffer/valid_samples': '187822.0000', 'buffer/fullness_pct': '100.0000', 'perf/train_steps_per_sec': '4.0000', 'perf/samples_per_sec': '128.0000', 'perf/collect_time_sec': '374.9511', 'perf/train_time_sec': '20.9499', 'perf/collect_steps_per_sec': '1.3655', 'perf/collect_game_steps_per_sec': '87.3927', 'game/terminated_count': '0.0000', 'game/terminated_pct': '0.0000'}\n",
      "Epoch 30: {'hit2_eval_avg_outcome': '-0.2400'}\n",
      "Epoch 31: {'l2_reg': '0.1260', 'loss': '1.8454', 'policy_entropy': '0.9043', 'policy_loss': '0.9210', 'value_loss': '0.7984', 'buffer/size': '192000.0000', 'buffer/valid_samples': '187902.0000', 'buffer/fullness_pct': '100.0000', 'perf/train_steps_per_sec': '512000000.0000', 'perf/samples_per_sec': '16384000000.0000', 'perf/collect_time_sec': '359.5224', 'perf/train_time_sec': '21.0784', 'perf/collect_steps_per_sec': '1.4241', 'perf/collect_game_steps_per_sec': '91.1431', 'game/terminated_count': '0.0000', 'game/terminated_pct': '0.0000'}\n"
     ]
    },
    {
     "name": "stdout",
     "output_type": "stream",
     "text": [
      "Epoch 32: {'l2_reg': '0.1256', 'loss': '1.8351', 'policy_entropy': '0.8927', 'policy_loss': '0.9109', 'value_loss': '0.7985', 'buffer/size': '192000.0000', 'buffer/valid_samples': '187537.0000', 'buffer/fullness_pct': '100.0000', 'perf/train_steps_per_sec': '512000000.0000', 'perf/samples_per_sec': '16384000000.0000', 'perf/collect_time_sec': '362.4513', 'perf/train_time_sec': '21.3328', 'perf/collect_steps_per_sec': '1.4126', 'perf/collect_game_steps_per_sec': '90.4066', 'game/terminated_count': '0.0000', 'game/terminated_pct': '0.0000'}\n",
      "Epoch 33: {'l2_reg': '0.1253', 'loss': '1.8357', 'policy_entropy': '0.8977', 'policy_loss': '0.9152', 'value_loss': '0.7952', 'buffer/size': '192000.0000', 'buffer/valid_samples': '187260.0000', 'buffer/fullness_pct': '100.0000', 'perf/train_steps_per_sec': '512000000.0000', 'perf/samples_per_sec': '16384000000.0000', 'perf/collect_time_sec': '371.3946', 'perf/train_time_sec': '20.2954', 'perf/collect_steps_per_sec': '1.3786', 'perf/collect_game_steps_per_sec': '88.2296', 'game/terminated_count': '0.0000', 'game/terminated_pct': '0.0000'}\n",
      "Epoch 34: {'l2_reg': '0.1249', 'loss': '1.8575', 'policy_entropy': '0.8984', 'policy_loss': '0.9154', 'value_loss': '0.8171', 'buffer/size': '192000.0000', 'buffer/valid_samples': '187561.0000', 'buffer/fullness_pct': '100.0000', 'perf/train_steps_per_sec': '512000000.0000', 'perf/samples_per_sec': '16384000000.0000', 'perf/collect_time_sec': '351.1334', 'perf/train_time_sec': '20.9637', 'perf/collect_steps_per_sec': '1.4581', 'perf/collect_game_steps_per_sec': '93.3206', 'game/terminated_count': '0.0000', 'game/terminated_pct': '0.0000'}\n",
      "Epoch 35: {'l2_reg': '0.1246', 'loss': '1.8646', 'policy_entropy': '0.8967', 'policy_loss': '0.9114', 'value_loss': '0.8287', 'buffer/size': '192000.0000', 'buffer/valid_samples': '187162.0000', 'buffer/fullness_pct': '100.0000', 'perf/train_steps_per_sec': '512000000.0000', 'perf/samples_per_sec': '16384000000.0000', 'perf/collect_time_sec': '370.7873', 'perf/train_time_sec': '20.8212', 'perf/collect_steps_per_sec': '1.3808', 'perf/collect_game_steps_per_sec': '88.3741', 'game/terminated_count': '0.0000', 'game/terminated_pct': '0.0000'}\n",
      "Epoch 35: {'hit2_eval_avg_outcome': '-0.1800'}\n",
      "Epoch 36: {'l2_reg': '0.1243', 'loss': '1.8683', 'policy_entropy': '0.9009', 'policy_loss': '0.9190', 'value_loss': '0.8251', 'buffer/size': '192000.0000', 'buffer/valid_samples': '187650.0000', 'buffer/fullness_pct': '100.0000', 'perf/train_steps_per_sec': '512000000.0000', 'perf/samples_per_sec': '16384000000.0000', 'perf/collect_time_sec': '367.1407', 'perf/train_time_sec': '20.7358', 'perf/collect_steps_per_sec': '1.3946', 'perf/collect_game_steps_per_sec': '89.2519', 'game/terminated_count': '0.0000', 'game/terminated_pct': '0.0000'}\n",
      "Epoch 37: {'l2_reg': '0.1239', 'loss': '1.8667', 'policy_entropy': '0.9038', 'policy_loss': '0.9226', 'value_loss': '0.8202', 'buffer/size': '192000.0000', 'buffer/valid_samples': '186961.0000', 'buffer/fullness_pct': '100.0000', 'perf/train_steps_per_sec': '512000000.0000', 'perf/samples_per_sec': '16384000000.0000', 'perf/collect_time_sec': '344.3864', 'perf/train_time_sec': '20.9658', 'perf/collect_steps_per_sec': '1.4867', 'perf/collect_game_steps_per_sec': '95.1489', 'game/terminated_count': '0.0000', 'game/terminated_pct': '0.0000'}\n",
      "Epoch 38: {'l2_reg': '0.1236', 'loss': '1.8648', 'policy_entropy': '0.9034', 'policy_loss': '0.9231', 'value_loss': '0.8182', 'buffer/size': '192000.0000', 'buffer/valid_samples': '187286.0000', 'buffer/fullness_pct': '100.0000', 'perf/train_steps_per_sec': '512000000.0000', 'perf/samples_per_sec': '16384000000.0000', 'perf/collect_time_sec': '352.9724', 'perf/train_time_sec': '21.1698', 'perf/collect_steps_per_sec': '1.4505', 'perf/collect_game_steps_per_sec': '92.8345', 'game/terminated_count': '0.0000', 'game/terminated_pct': '0.0000'}\n",
      "Epoch 39: {'l2_reg': '0.1232', 'loss': '1.8283', 'policy_entropy': '0.9037', 'policy_loss': '0.9208', 'value_loss': '0.7843', 'buffer/size': '192000.0000', 'buffer/valid_samples': '187876.0000', 'buffer/fullness_pct': '100.0000', 'perf/train_steps_per_sec': '512000000.0000', 'perf/samples_per_sec': '16384000000.0000', 'perf/collect_time_sec': '355.3492', 'perf/train_time_sec': '21.1669', 'perf/collect_steps_per_sec': '1.4408', 'perf/collect_game_steps_per_sec': '92.2135', 'game/terminated_count': '0.0000', 'game/terminated_pct': '0.0000'}\n",
      "Epoch 40: {'l2_reg': '0.1229', 'loss': '1.8336', 'policy_entropy': '0.9097', 'policy_loss': '0.9244', 'value_loss': '0.7864', 'buffer/size': '192000.0000', 'buffer/valid_samples': '187698.0000', 'buffer/fullness_pct': '100.0000', 'perf/train_steps_per_sec': '512000000.0000', 'perf/samples_per_sec': '16384000000.0000', 'perf/collect_time_sec': '359.8708', 'perf/train_time_sec': '21.0645', 'perf/collect_steps_per_sec': '1.4227', 'perf/collect_game_steps_per_sec': '91.0549', 'game/terminated_count': '0.0000', 'game/terminated_pct': '0.0000'}\n",
      "Epoch 40: {'hit2_eval_avg_outcome': '-0.1000'}\n",
      "Epoch 41: {'l2_reg': '0.1225', 'loss': '1.8265', 'policy_entropy': '0.9077', 'policy_loss': '0.9220', 'value_loss': '0.7819', 'buffer/size': '192000.0000', 'buffer/valid_samples': '187430.0000', 'buffer/fullness_pct': '100.0000', 'perf/train_steps_per_sec': '4.0000', 'perf/samples_per_sec': '128.0000', 'perf/collect_time_sec': '382.0751', 'perf/train_time_sec': '20.9682', 'perf/collect_steps_per_sec': '1.3401', 'perf/collect_game_steps_per_sec': '85.7633', 'game/terminated_count': '0.0000', 'game/terminated_pct': '0.0000'}\n",
      "Epoch 42: {'l2_reg': '0.1222', 'loss': '1.7890', 'policy_entropy': '0.8969', 'policy_loss': '0.9094', 'value_loss': '0.7574', 'buffer/size': '192000.0000', 'buffer/valid_samples': '187626.0000', 'buffer/fullness_pct': '100.0000', 'perf/train_steps_per_sec': '4.0000', 'perf/samples_per_sec': '128.0000', 'perf/collect_time_sec': '373.0341', 'perf/train_time_sec': '21.0056', 'perf/collect_steps_per_sec': '1.3725', 'perf/collect_game_steps_per_sec': '87.8418', 'game/terminated_count': '0.0000', 'game/terminated_pct': '0.0000'}\n",
      "Epoch 43: {'l2_reg': '0.1219', 'loss': '1.8213', 'policy_entropy': '0.9104', 'policy_loss': '0.9228', 'value_loss': '0.7767', 'buffer/size': '192000.0000', 'buffer/valid_samples': '187671.0000', 'buffer/fullness_pct': '100.0000', 'perf/train_steps_per_sec': '4.0000', 'perf/samples_per_sec': '128.0000', 'perf/collect_time_sec': '355.4422', 'perf/train_time_sec': '20.7324', 'perf/collect_steps_per_sec': '1.4405', 'perf/collect_game_steps_per_sec': '92.1894', 'game/terminated_count': '0.0000', 'game/terminated_pct': '0.0000'}\n",
      "Epoch 44: {'l2_reg': '0.1215', 'loss': '1.7875', 'policy_entropy': '0.8981', 'policy_loss': '0.9083', 'value_loss': '0.7577', 'buffer/size': '192000.0000', 'buffer/valid_samples': '188096.0000', 'buffer/fullness_pct': '100.0000', 'perf/train_steps_per_sec': '512000000.0000', 'perf/samples_per_sec': '16384000000.0000', 'perf/collect_time_sec': '358.4130', 'perf/train_time_sec': '20.5184', 'perf/collect_steps_per_sec': '1.4285', 'perf/collect_game_steps_per_sec': '91.4253', 'game/terminated_count': '0.0000', 'game/terminated_pct': '0.0000'}\n",
      "Epoch 45: {'l2_reg': '0.1212', 'loss': '1.7639', 'policy_entropy': '0.8867', 'policy_loss': '0.8967', 'value_loss': '0.7460', 'buffer/size': '192000.0000', 'buffer/valid_samples': '188097.0000', 'buffer/fullness_pct': '100.0000', 'perf/train_steps_per_sec': '512000000.0000', 'perf/samples_per_sec': '16384000000.0000', 'perf/collect_time_sec': '352.1971', 'perf/train_time_sec': '21.1551', 'perf/collect_steps_per_sec': '1.4537', 'perf/collect_game_steps_per_sec': '93.0388', 'game/terminated_count': '0.0000', 'game/terminated_pct': '0.0000'}\n",
      "Epoch 45: {'hit2_eval_avg_outcome': '0.1200'}\n",
      "Epoch 46: {'l2_reg': '0.1209', 'loss': '1.7552', 'policy_entropy': '0.8818', 'policy_loss': '0.8921', 'value_loss': '0.7422', 'buffer/size': '192000.0000', 'buffer/valid_samples': '187854.0000', 'buffer/fullness_pct': '100.0000', 'perf/train_steps_per_sec': '512000000.0000', 'perf/samples_per_sec': '16384000000.0000', 'perf/collect_time_sec': '356.6654', 'perf/train_time_sec': '21.2719', 'perf/collect_steps_per_sec': '1.4355', 'perf/collect_game_steps_per_sec': '91.8732', 'game/terminated_count': '0.0000', 'game/terminated_pct': '0.0000'}\n"
     ]
    },
    {
     "name": "stdout",
     "output_type": "stream",
     "text": [
      "Epoch 47: {'l2_reg': '0.1206', 'loss': '1.7572', 'policy_entropy': '0.8867', 'policy_loss': '0.8934', 'value_loss': '0.7433', 'buffer/size': '192000.0000', 'buffer/valid_samples': '187795.0000', 'buffer/fullness_pct': '100.0000', 'perf/train_steps_per_sec': '512000000.0000', 'perf/samples_per_sec': '16384000000.0000', 'perf/collect_time_sec': '352.5354', 'perf/train_time_sec': '21.4242', 'perf/collect_steps_per_sec': '1.4523', 'perf/collect_game_steps_per_sec': '92.9495', 'game/terminated_count': '0.0000', 'game/terminated_pct': '0.0000'}\n",
      "Epoch 48: {'l2_reg': '0.1203', 'loss': '1.7754', 'policy_entropy': '0.8857', 'policy_loss': '0.8929', 'value_loss': '0.7622', 'buffer/size': '192000.0000', 'buffer/valid_samples': '187509.0000', 'buffer/fullness_pct': '100.0000', 'perf/train_steps_per_sec': '512000000.0000', 'perf/samples_per_sec': '16384000000.0000', 'perf/collect_time_sec': '353.1398', 'perf/train_time_sec': '21.3427', 'perf/collect_steps_per_sec': '1.4499', 'perf/collect_game_steps_per_sec': '92.7904', 'game/terminated_count': '0.0000', 'game/terminated_pct': '0.0000'}\n",
      "Epoch 49: {'l2_reg': '0.1199', 'loss': '1.7781', 'policy_entropy': '0.8864', 'policy_loss': '0.8972', 'value_loss': '0.7609', 'buffer/size': '192000.0000', 'buffer/valid_samples': '187654.0000', 'buffer/fullness_pct': '100.0000', 'perf/train_steps_per_sec': '512000000.0000', 'perf/samples_per_sec': '16384000000.0000', 'perf/collect_time_sec': '352.4399', 'perf/train_time_sec': '20.2576', 'perf/collect_steps_per_sec': '1.4527', 'perf/collect_game_steps_per_sec': '92.9747', 'game/terminated_count': '0.0000', 'game/terminated_pct': '0.0000'}\n",
      "Epoch 50: {'l2_reg': '0.1196', 'loss': '1.7983', 'policy_entropy': '0.9005', 'policy_loss': '0.9117', 'value_loss': '0.7670', 'buffer/size': '192000.0000', 'buffer/valid_samples': '187733.0000', 'buffer/fullness_pct': '100.0000', 'perf/train_steps_per_sec': '4.0000', 'perf/samples_per_sec': '128.0000', 'perf/collect_time_sec': '355.3747', 'perf/train_time_sec': '21.4591', 'perf/collect_steps_per_sec': '1.4407', 'perf/collect_game_steps_per_sec': '92.2069', 'game/terminated_count': '0.0000', 'game/terminated_pct': '0.0000'}\n",
      "Epoch 50: {'hit2_eval_avg_outcome': '0.3800'}\n",
      "Epoch 51: {'l2_reg': '0.1193', 'loss': '1.7994', 'policy_entropy': '0.8963', 'policy_loss': '0.9057', 'value_loss': '0.7744', 'buffer/size': '192000.0000', 'buffer/valid_samples': '187931.0000', 'buffer/fullness_pct': '100.0000', 'perf/train_steps_per_sec': '512000000.0000', 'perf/samples_per_sec': '16384000000.0000', 'perf/collect_time_sec': '352.0461', 'perf/train_time_sec': '21.1079', 'perf/collect_steps_per_sec': '1.4544', 'perf/collect_game_steps_per_sec': '93.0787', 'game/terminated_count': '0.0000', 'game/terminated_pct': '0.0000'}\n",
      "Epoch 52: {'l2_reg': '0.1190', 'loss': '1.8177', 'policy_entropy': '0.9013', 'policy_loss': '0.9089', 'value_loss': '0.7897', 'buffer/size': '192000.0000', 'buffer/valid_samples': '186989.0000', 'buffer/fullness_pct': '100.0000', 'perf/train_steps_per_sec': '512000000.0000', 'perf/samples_per_sec': '16384000000.0000', 'perf/collect_time_sec': '357.6562', 'perf/train_time_sec': '20.6330', 'perf/collect_steps_per_sec': '1.4315', 'perf/collect_game_steps_per_sec': '91.6187', 'game/terminated_count': '0.0000', 'game/terminated_pct': '0.0000'}\n",
      "Epoch 53: {'l2_reg': '0.1187', 'loss': '1.8512', 'policy_entropy': '0.9162', 'policy_loss': '0.9277', 'value_loss': '0.8048', 'buffer/size': '192000.0000', 'buffer/valid_samples': '187965.0000', 'buffer/fullness_pct': '100.0000', 'perf/train_steps_per_sec': '512000000.0000', 'perf/samples_per_sec': '16384000000.0000', 'perf/collect_time_sec': '358.5562', 'perf/train_time_sec': '21.1132', 'perf/collect_steps_per_sec': '1.4279', 'perf/collect_game_steps_per_sec': '91.3887', 'game/terminated_count': '0.0000', 'game/terminated_pct': '0.0000'}\n",
      "Epoch 54: {'l2_reg': '0.1184', 'loss': '1.8304', 'policy_entropy': '0.9088', 'policy_loss': '0.9201', 'value_loss': '0.7918', 'buffer/size': '192000.0000', 'buffer/valid_samples': '187636.0000', 'buffer/fullness_pct': '100.0000', 'perf/train_steps_per_sec': '512000000.0000', 'perf/samples_per_sec': '16384000000.0000', 'perf/collect_time_sec': '361.4483', 'perf/train_time_sec': '20.6563', 'perf/collect_steps_per_sec': '1.4165', 'perf/collect_game_steps_per_sec': '90.6575', 'game/terminated_count': '0.0000', 'game/terminated_pct': '0.0000'}\n",
      "Epoch 55: {'l2_reg': '0.1181', 'loss': '1.8197', 'policy_entropy': '0.8963', 'policy_loss': '0.9039', 'value_loss': '0.7977', 'buffer/size': '192000.0000', 'buffer/valid_samples': '187328.0000', 'buffer/fullness_pct': '100.0000', 'perf/train_steps_per_sec': '512000000.0000', 'perf/samples_per_sec': '16384000000.0000', 'perf/collect_time_sec': '359.2207', 'perf/train_time_sec': '20.7413', 'perf/collect_steps_per_sec': '1.4253', 'perf/collect_game_steps_per_sec': '91.2197', 'game/terminated_count': '0.0000', 'game/terminated_pct': '0.0000'}\n",
      "Epoch 55: {'hit2_eval_avg_outcome': '0.1600'}\n",
      "Epoch 56: {'l2_reg': '0.1178', 'loss': '1.7999', 'policy_entropy': '0.8925', 'policy_loss': '0.9004', 'value_loss': '0.7818', 'buffer/size': '192000.0000', 'buffer/valid_samples': '187447.0000', 'buffer/fullness_pct': '100.0000', 'perf/train_steps_per_sec': '512000000.0000', 'perf/samples_per_sec': '16384000000.0000', 'perf/collect_time_sec': '358.8385', 'perf/train_time_sec': '21.9198', 'perf/collect_steps_per_sec': '1.4268', 'perf/collect_game_steps_per_sec': '91.3169', 'game/terminated_count': '0.0000', 'game/terminated_pct': '0.0000'}\n",
      "Epoch 57: {'l2_reg': '0.1175', 'loss': '1.7916', 'policy_entropy': '0.8898', 'policy_loss': '0.8975', 'value_loss': '0.7766', 'buffer/size': '192000.0000', 'buffer/valid_samples': '187470.0000', 'buffer/fullness_pct': '100.0000', 'perf/train_steps_per_sec': '512000000.0000', 'perf/samples_per_sec': '16384000000.0000', 'perf/collect_time_sec': '366.1472', 'perf/train_time_sec': '21.3863', 'perf/collect_steps_per_sec': '1.3983', 'perf/collect_game_steps_per_sec': '89.4941', 'game/terminated_count': '0.0000', 'game/terminated_pct': '0.0000'}\n",
      "Epoch 58: {'l2_reg': '0.1171', 'loss': '1.7902', 'policy_entropy': '0.8931', 'policy_loss': '0.9011', 'value_loss': '0.7719', 'buffer/size': '192000.0000', 'buffer/valid_samples': '188166.0000', 'buffer/fullness_pct': '100.0000', 'perf/train_steps_per_sec': '512000000.0000', 'perf/samples_per_sec': '16384000000.0000', 'perf/collect_time_sec': '385.6353', 'perf/train_time_sec': '21.1284', 'perf/collect_steps_per_sec': '1.3277', 'perf/collect_game_steps_per_sec': '84.9715', 'game/terminated_count': '0.0000', 'game/terminated_pct': '0.0000'}\n",
      "Epoch 59: {'l2_reg': '0.1168', 'loss': '1.7838', 'policy_entropy': '0.8973', 'policy_loss': '0.9078', 'value_loss': '0.7592', 'buffer/size': '192000.0000', 'buffer/valid_samples': '187905.0000', 'buffer/fullness_pct': '100.0000', 'perf/train_steps_per_sec': '512000000.0000', 'perf/samples_per_sec': '16384000000.0000', 'perf/collect_time_sec': '355.8439', 'perf/train_time_sec': '21.2153', 'perf/collect_steps_per_sec': '1.4388', 'perf/collect_game_steps_per_sec': '92.0853', 'game/terminated_count': '0.0000', 'game/terminated_pct': '0.0000'}\n",
      "Epoch 60: {'l2_reg': '0.1165', 'loss': '1.7487', 'policy_entropy': '0.8882', 'policy_loss': '0.8975', 'value_loss': '0.7347', 'buffer/size': '192000.0000', 'buffer/valid_samples': '187630.0000', 'buffer/fullness_pct': '100.0000', 'perf/train_steps_per_sec': '512000000.0000', 'perf/samples_per_sec': '16384000000.0000', 'perf/collect_time_sec': '368.0797', 'perf/train_time_sec': '21.6796', 'perf/collect_steps_per_sec': '1.3910', 'perf/collect_game_steps_per_sec': '89.0242', 'game/terminated_count': '0.0000', 'game/terminated_pct': '0.0000'}\n",
      "Epoch 60: {'hit2_eval_avg_outcome': '0.0000'}\n",
      "Epoch 61: {'l2_reg': '0.1162', 'loss': '1.7646', 'policy_entropy': '0.8913', 'policy_loss': '0.8988', 'value_loss': '0.7495', 'buffer/size': '192000.0000', 'buffer/valid_samples': '188015.0000', 'buffer/fullness_pct': '100.0000', 'perf/train_steps_per_sec': '512000000.0000', 'perf/samples_per_sec': '16384000000.0000', 'perf/collect_time_sec': '358.7724', 'perf/train_time_sec': '20.4241', 'perf/collect_steps_per_sec': '1.4271', 'perf/collect_game_steps_per_sec': '91.3337', 'game/terminated_count': '0.0000', 'game/terminated_pct': '0.0000'}\n"
     ]
    },
    {
     "name": "stdout",
     "output_type": "stream",
     "text": [
      "Epoch 62: {'l2_reg': '0.1159', 'loss': '1.7885', 'policy_entropy': '0.8948', 'policy_loss': '0.9074', 'value_loss': '0.7652', 'buffer/size': '192000.0000', 'buffer/valid_samples': '187764.0000', 'buffer/fullness_pct': '100.0000', 'perf/train_steps_per_sec': '512000000.0000', 'perf/samples_per_sec': '16384000000.0000', 'perf/collect_time_sec': '355.3304', 'perf/train_time_sec': '20.7724', 'perf/collect_steps_per_sec': '1.4409', 'perf/collect_game_steps_per_sec': '92.2184', 'game/terminated_count': '0.0000', 'game/terminated_pct': '0.0000'}\n",
      "Epoch 63: {'l2_reg': '0.1156', 'loss': '1.7952', 'policy_entropy': '0.9019', 'policy_loss': '0.9114', 'value_loss': '0.7682', 'buffer/size': '192000.0000', 'buffer/valid_samples': '187728.0000', 'buffer/fullness_pct': '100.0000', 'perf/train_steps_per_sec': '512000000.0000', 'perf/samples_per_sec': '16384000000.0000', 'perf/collect_time_sec': '367.5758', 'perf/train_time_sec': '20.5479', 'perf/collect_steps_per_sec': '1.3929', 'perf/collect_game_steps_per_sec': '89.1462', 'game/terminated_count': '0.0000', 'game/terminated_pct': '0.0000'}\n",
      "Epoch 64: {'l2_reg': '0.1153', 'loss': '1.7775', 'policy_entropy': '0.8910', 'policy_loss': '0.9031', 'value_loss': '0.7592', 'buffer/size': '192000.0000', 'buffer/valid_samples': '188400.0000', 'buffer/fullness_pct': '100.0000', 'perf/train_steps_per_sec': '512000000.0000', 'perf/samples_per_sec': '16384000000.0000', 'perf/collect_time_sec': '374.3649', 'perf/train_time_sec': '21.1589', 'perf/collect_steps_per_sec': '1.3676', 'perf/collect_game_steps_per_sec': '87.5296', 'game/terminated_count': '0.0000', 'game/terminated_pct': '0.0000'}\n",
      "Epoch 65: {'l2_reg': '0.1150', 'loss': '1.8104', 'policy_entropy': '0.9002', 'policy_loss': '0.9116', 'value_loss': '0.7838', 'buffer/size': '192000.0000', 'buffer/valid_samples': '187924.0000', 'buffer/fullness_pct': '100.0000', 'perf/train_steps_per_sec': '512000000.0000', 'perf/samples_per_sec': '16384000000.0000', 'perf/collect_time_sec': '371.1077', 'perf/train_time_sec': '21.1610', 'perf/collect_steps_per_sec': '1.3797', 'perf/collect_game_steps_per_sec': '88.2978', 'game/terminated_count': '0.0000', 'game/terminated_pct': '0.0000'}\n",
      "Epoch 65: {'hit2_eval_avg_outcome': '0.1000'}\n",
      "Epoch 67: {'l2_reg': '0.1144', 'loss': '1.8132', 'policy_entropy': '0.9095', 'policy_loss': '0.9202', 'value_loss': '0.7786', 'buffer/size': '192000.0000', 'buffer/valid_samples': '187916.0000', 'buffer/fullness_pct': '100.0000', 'perf/train_steps_per_sec': '4.0000', 'perf/samples_per_sec': '128.0000', 'perf/collect_time_sec': '352.3125', 'perf/train_time_sec': '21.0797', 'perf/collect_steps_per_sec': '1.4533', 'perf/collect_game_steps_per_sec': '93.0083', 'game/terminated_count': '0.0000', 'game/terminated_pct': '0.0000'}\n",
      "Epoch 68: {'l2_reg': '0.1141', 'loss': '1.8249', 'policy_entropy': '0.9059', 'policy_loss': '0.9179', 'value_loss': '0.7929', 'buffer/size': '192000.0000', 'buffer/valid_samples': '188177.0000', 'buffer/fullness_pct': '100.0000', 'perf/train_steps_per_sec': '512000000.0000', 'perf/samples_per_sec': '16384000000.0000', 'perf/collect_time_sec': '349.9792', 'perf/train_time_sec': '21.3806', 'perf/collect_steps_per_sec': '1.4629', 'perf/collect_game_steps_per_sec': '93.6284', 'game/terminated_count': '0.0000', 'game/terminated_pct': '0.0000'}\n",
      "Epoch 69: {'l2_reg': '0.1138', 'loss': '1.8388', 'policy_entropy': '0.9111', 'policy_loss': '0.9216', 'value_loss': '0.8034', 'buffer/size': '192000.0000', 'buffer/valid_samples': '188115.0000', 'buffer/fullness_pct': '100.0000', 'perf/train_steps_per_sec': '512000000.0000', 'perf/samples_per_sec': '16384000000.0000', 'perf/collect_time_sec': '368.1953', 'perf/train_time_sec': '20.7571', 'perf/collect_steps_per_sec': '1.3906', 'perf/collect_game_steps_per_sec': '88.9963', 'game/terminated_count': '0.0000', 'game/terminated_pct': '0.0000'}\n",
      "Epoch 70: {'l2_reg': '0.1135', 'loss': '1.8288', 'policy_entropy': '0.9200', 'policy_loss': '0.9296', 'value_loss': '0.7858', 'buffer/size': '192000.0000', 'buffer/valid_samples': '187754.0000', 'buffer/fullness_pct': '100.0000', 'perf/train_steps_per_sec': '4.0000', 'perf/samples_per_sec': '128.0000', 'perf/collect_time_sec': '372.4337', 'perf/train_time_sec': '21.0410', 'perf/collect_steps_per_sec': '1.3747', 'perf/collect_game_steps_per_sec': '87.9834', 'game/terminated_count': '0.0000', 'game/terminated_pct': '0.0000'}\n",
      "Epoch 70: {'hit2_eval_avg_outcome': '0.4200'}\n",
      "Epoch 71: {'l2_reg': '0.1132', 'loss': '1.8134', 'policy_entropy': '0.9109', 'policy_loss': '0.9175', 'value_loss': '0.7827', 'buffer/size': '192000.0000', 'buffer/valid_samples': '187783.0000', 'buffer/fullness_pct': '100.0000', 'perf/train_steps_per_sec': '512000000.0000', 'perf/samples_per_sec': '16384000000.0000', 'perf/collect_time_sec': '371.4032', 'perf/train_time_sec': '21.0663', 'perf/collect_steps_per_sec': '1.3786', 'perf/collect_game_steps_per_sec': '88.2276', 'game/terminated_count': '0.0000', 'game/terminated_pct': '0.0000'}\n",
      "Epoch 72: {'l2_reg': '0.1129', 'loss': '1.8223', 'policy_entropy': '0.9189', 'policy_loss': '0.9252', 'value_loss': '0.7842', 'buffer/size': '192000.0000', 'buffer/valid_samples': '187840.0000', 'buffer/fullness_pct': '100.0000', 'perf/train_steps_per_sec': '512000000.0000', 'perf/samples_per_sec': '16384000000.0000', 'perf/collect_time_sec': '366.9218', 'perf/train_time_sec': '20.9779', 'perf/collect_steps_per_sec': '1.3954', 'perf/collect_game_steps_per_sec': '89.3051', 'game/terminated_count': '0.0000', 'game/terminated_pct': '0.0000'}\n",
      "Epoch 73: {'l2_reg': '0.1126', 'loss': '1.8153', 'policy_entropy': '0.9202', 'policy_loss': '0.9291', 'value_loss': '0.7736', 'buffer/size': '192000.0000', 'buffer/valid_samples': '187445.0000', 'buffer/fullness_pct': '100.0000', 'perf/train_steps_per_sec': '512000000.0000', 'perf/samples_per_sec': '16384000000.0000', 'perf/collect_time_sec': '368.9655', 'perf/train_time_sec': '20.4791', 'perf/collect_steps_per_sec': '1.3877', 'perf/collect_game_steps_per_sec': '88.8105', 'game/terminated_count': '0.0000', 'game/terminated_pct': '0.0000'}\n",
      "Epoch 74: {'l2_reg': '0.1123', 'loss': '1.8156', 'policy_entropy': '0.9205', 'policy_loss': '0.9319', 'value_loss': '0.7714', 'buffer/size': '192000.0000', 'buffer/valid_samples': '187387.0000', 'buffer/fullness_pct': '100.0000', 'perf/train_steps_per_sec': '4.0000', 'perf/samples_per_sec': '128.0000', 'perf/collect_time_sec': '372.5655', 'perf/train_time_sec': '20.9963', 'perf/collect_steps_per_sec': '1.3743', 'perf/collect_game_steps_per_sec': '87.9523', 'game/terminated_count': '0.0000', 'game/terminated_pct': '0.0000'}\n",
      "Epoch 75: {'l2_reg': '0.1120', 'loss': '1.7958', 'policy_entropy': '0.9121', 'policy_loss': '0.9197', 'value_loss': '0.7640', 'buffer/size': '192000.0000', 'buffer/valid_samples': '188200.0000', 'buffer/fullness_pct': '100.0000', 'perf/train_steps_per_sec': '512000000.0000', 'perf/samples_per_sec': '16384000000.0000', 'perf/collect_time_sec': '361.6862', 'perf/train_time_sec': '21.2763', 'perf/collect_steps_per_sec': '1.4156', 'perf/collect_game_steps_per_sec': '90.5979', 'game/terminated_count': '0.0000', 'game/terminated_pct': '0.0000'}\n",
      "Epoch 75: {'hit2_eval_avg_outcome': '0.0200'}\n",
      "Epoch 76: {'l2_reg': '0.1117', 'loss': '1.7936', 'policy_entropy': '0.9164', 'policy_loss': '0.9270', 'value_loss': '0.7549', 'buffer/size': '192000.0000', 'buffer/valid_samples': '187557.0000', 'buffer/fullness_pct': '100.0000', 'perf/train_steps_per_sec': '512000000.0000', 'perf/samples_per_sec': '16384000000.0000', 'perf/collect_time_sec': '371.3422', 'perf/train_time_sec': '21.0642', 'perf/collect_steps_per_sec': '1.3788', 'perf/collect_game_steps_per_sec': '88.2421', 'game/terminated_count': '0.0000', 'game/terminated_pct': '0.0000'}\n",
      "Epoch 77: {'l2_reg': '0.1115', 'loss': '1.7829', 'policy_entropy': '0.9198', 'policy_loss': '0.9294', 'value_loss': '0.7420', 'buffer/size': '192000.0000', 'buffer/valid_samples': '187272.0000', 'buffer/fullness_pct': '100.0000', 'perf/train_steps_per_sec': '512000000.0000', 'perf/samples_per_sec': '16384000000.0000', 'perf/collect_time_sec': '353.9673', 'perf/train_time_sec': '20.8973', 'perf/collect_steps_per_sec': '1.4465', 'perf/collect_game_steps_per_sec': '92.5735', 'game/terminated_count': '0.0000', 'game/terminated_pct': '0.0000'}\n"
     ]
    },
    {
     "name": "stdout",
     "output_type": "stream",
     "text": [
      "Epoch 79: {'l2_reg': '0.1109', 'loss': '1.7506', 'policy_entropy': '0.9137', 'policy_loss': '0.9220', 'value_loss': '0.7178', 'buffer/size': '192000.0000', 'buffer/valid_samples': '187910.0000', 'buffer/fullness_pct': '100.0000', 'perf/train_steps_per_sec': '512000000.0000', 'perf/samples_per_sec': '16384000000.0000', 'perf/collect_time_sec': '364.6476', 'perf/train_time_sec': '20.5570', 'perf/collect_steps_per_sec': '1.4041', 'perf/collect_game_steps_per_sec': '89.8621', 'game/terminated_count': '0.0000', 'game/terminated_pct': '0.0000'}\n",
      "Epoch 80: {'l2_reg': '0.1106', 'loss': '1.7677', 'policy_entropy': '0.9127', 'policy_loss': '0.9204', 'value_loss': '0.7367', 'buffer/size': '192000.0000', 'buffer/valid_samples': '187878.0000', 'buffer/fullness_pct': '100.0000', 'perf/train_steps_per_sec': '512000000.0000', 'perf/samples_per_sec': '16384000000.0000', 'perf/collect_time_sec': '349.7167', 'perf/train_time_sec': '20.5386', 'perf/collect_steps_per_sec': '1.4640', 'perf/collect_game_steps_per_sec': '93.6987', 'game/terminated_count': '0.0000', 'game/terminated_pct': '0.0000'}\n",
      "Epoch 80: {'hit2_eval_avg_outcome': '-0.0200'}\n",
      "Epoch 81: {'l2_reg': '0.1103', 'loss': '1.7591', 'policy_entropy': '0.9253', 'policy_loss': '0.9344', 'value_loss': '0.7143', 'buffer/size': '192000.0000', 'buffer/valid_samples': '187802.0000', 'buffer/fullness_pct': '100.0000', 'perf/train_steps_per_sec': '512000000.0000', 'perf/samples_per_sec': '16384000000.0000', 'perf/collect_time_sec': '363.4073', 'perf/train_time_sec': '21.1571', 'perf/collect_steps_per_sec': '1.4089', 'perf/collect_game_steps_per_sec': '90.1688', 'game/terminated_count': '0.0000', 'game/terminated_pct': '0.0000'}\n",
      "Epoch 82: {'l2_reg': '0.1101', 'loss': '1.7601', 'policy_entropy': '0.9184', 'policy_loss': '0.9234', 'value_loss': '0.7266', 'buffer/size': '192000.0000', 'buffer/valid_samples': '188104.0000', 'buffer/fullness_pct': '100.0000', 'perf/train_steps_per_sec': '512000000.0000', 'perf/samples_per_sec': '16384000000.0000', 'perf/collect_time_sec': '355.0334', 'perf/train_time_sec': '21.2986', 'perf/collect_steps_per_sec': '1.4421', 'perf/collect_game_steps_per_sec': '92.2955', 'game/terminated_count': '0.0000', 'game/terminated_pct': '0.0000'}\n",
      "Epoch 83: {'l2_reg': '0.1098', 'loss': '1.7423', 'policy_entropy': '0.9147', 'policy_loss': '0.9223', 'value_loss': '0.7102', 'buffer/size': '192000.0000', 'buffer/valid_samples': '187397.0000', 'buffer/fullness_pct': '100.0000', 'perf/train_steps_per_sec': '4.0000', 'perf/samples_per_sec': '128.0000', 'perf/collect_time_sec': '353.4512', 'perf/train_time_sec': '20.9312', 'perf/collect_steps_per_sec': '1.4486', 'perf/collect_game_steps_per_sec': '92.7087', 'game/terminated_count': '0.0000', 'game/terminated_pct': '0.0000'}\n",
      "Epoch 84: {'l2_reg': '0.1096', 'loss': '1.7647', 'policy_entropy': '0.9182', 'policy_loss': '0.9242', 'value_loss': '0.7309', 'buffer/size': '192000.0000', 'buffer/valid_samples': '187553.0000', 'buffer/fullness_pct': '100.0000', 'perf/train_steps_per_sec': '4.0000', 'perf/samples_per_sec': '128.0000', 'perf/collect_time_sec': '362.0128', 'perf/train_time_sec': '21.3398', 'perf/collect_steps_per_sec': '1.4143', 'perf/collect_game_steps_per_sec': '90.5161', 'game/terminated_count': '0.0000', 'game/terminated_pct': '0.0000'}\n",
      "Epoch 85: {'l2_reg': '0.1093', 'loss': '1.7573', 'policy_entropy': '0.9154', 'policy_loss': '0.9218', 'value_loss': '0.7261', 'buffer/size': '192000.0000', 'buffer/valid_samples': '187623.0000', 'buffer/fullness_pct': '100.0000', 'perf/train_steps_per_sec': '4.0000', 'perf/samples_per_sec': '128.0000', 'perf/collect_time_sec': '351.4517', 'perf/train_time_sec': '20.9725', 'perf/collect_steps_per_sec': '1.4568', 'perf/collect_game_steps_per_sec': '93.2361', 'game/terminated_count': '0.0000', 'game/terminated_pct': '0.0000'}\n",
      "Epoch 85: {'hit2_eval_avg_outcome': '0.1800'}\n",
      "Epoch 86: {'l2_reg': '0.1090', 'loss': '1.7405', 'policy_entropy': '0.9083', 'policy_loss': '0.9147', 'value_loss': '0.7167', 'buffer/size': '192000.0000', 'buffer/valid_samples': '187916.0000', 'buffer/fullness_pct': '100.0000', 'perf/train_steps_per_sec': '512000000.0000', 'perf/samples_per_sec': '16384000000.0000', 'perf/collect_time_sec': '354.6489', 'perf/train_time_sec': '21.6456', 'perf/collect_steps_per_sec': '1.4437', 'perf/collect_game_steps_per_sec': '92.3956', 'game/terminated_count': '0.0000', 'game/terminated_pct': '0.0000'}\n",
      "Epoch 87: {'l2_reg': '0.1088', 'loss': '1.7720', 'policy_entropy': '0.9191', 'policy_loss': '0.9236', 'value_loss': '0.7396', 'buffer/size': '192000.0000', 'buffer/valid_samples': '188334.0000', 'buffer/fullness_pct': '100.0000', 'perf/train_steps_per_sec': '512000000.0000', 'perf/samples_per_sec': '16384000000.0000', 'perf/collect_time_sec': '348.6542', 'perf/train_time_sec': '20.8007', 'perf/collect_steps_per_sec': '1.4685', 'perf/collect_game_steps_per_sec': '93.9842', 'game/terminated_count': '0.0000', 'game/terminated_pct': '0.0000'}\n",
      "Epoch 88: {'l2_reg': '0.1085', 'loss': '1.7674', 'policy_entropy': '0.9132', 'policy_loss': '0.9209', 'value_loss': '0.7379', 'buffer/size': '192000.0000', 'buffer/valid_samples': '187828.0000', 'buffer/fullness_pct': '100.0000', 'perf/train_steps_per_sec': '512000000.0000', 'perf/samples_per_sec': '16384000000.0000', 'perf/collect_time_sec': '357.6543', 'perf/train_time_sec': '21.1544', 'perf/collect_steps_per_sec': '1.4315', 'perf/collect_game_steps_per_sec': '91.6192', 'game/terminated_count': '0.0000', 'game/terminated_pct': '0.0000'}\n",
      "Epoch 89: {'l2_reg': '0.1083', 'loss': '1.7929', 'policy_entropy': '0.9239', 'policy_loss': '0.9349', 'value_loss': '0.7498', 'buffer/size': '192000.0000', 'buffer/valid_samples': '187898.0000', 'buffer/fullness_pct': '100.0000', 'perf/train_steps_per_sec': '512000000.0000', 'perf/samples_per_sec': '16384000000.0000', 'perf/collect_time_sec': '355.1257', 'perf/train_time_sec': '21.3827', 'perf/collect_steps_per_sec': '1.4417', 'perf/collect_game_steps_per_sec': '92.2716', 'game/terminated_count': '0.0000', 'game/terminated_pct': '0.0000'}\n",
      "Epoch 90: {'l2_reg': '0.1080', 'loss': '1.8133', 'policy_entropy': '0.9316', 'policy_loss': '0.9387', 'value_loss': '0.7667', 'buffer/size': '192000.0000', 'buffer/valid_samples': '188432.0000', 'buffer/fullness_pct': '100.0000', 'perf/train_steps_per_sec': '512000000.0000', 'perf/samples_per_sec': '16384000000.0000', 'perf/collect_time_sec': '355.1101', 'perf/train_time_sec': '20.9217', 'perf/collect_steps_per_sec': '1.4418', 'perf/collect_game_steps_per_sec': '92.2756', 'game/terminated_count': '0.0000', 'game/terminated_pct': '0.0000'}\n",
      "Epoch 90: {'hit2_eval_avg_outcome': '-0.1400'}\n",
      "Epoch 91: {'l2_reg': '0.1077', 'loss': '1.8072', 'policy_entropy': '0.9320', 'policy_loss': '0.9399', 'value_loss': '0.7595', 'buffer/size': '192000.0000', 'buffer/valid_samples': '187840.0000', 'buffer/fullness_pct': '100.0000', 'perf/train_steps_per_sec': '512000000.0000', 'perf/samples_per_sec': '16384000000.0000', 'perf/collect_time_sec': '367.1023', 'perf/train_time_sec': '20.6625', 'perf/collect_steps_per_sec': '1.3947', 'perf/collect_game_steps_per_sec': '89.2612', 'game/terminated_count': '0.0000', 'game/terminated_pct': '0.0000'}\n",
      "Epoch 92: {'l2_reg': '0.1075', 'loss': '1.7606', 'policy_entropy': '0.9118', 'policy_loss': '0.9186', 'value_loss': '0.7345', 'buffer/size': '192000.0000', 'buffer/valid_samples': '188087.0000', 'buffer/fullness_pct': '100.0000', 'perf/train_steps_per_sec': '4.0000', 'perf/samples_per_sec': '128.0000', 'perf/collect_time_sec': '356.3640', 'perf/train_time_sec': '21.4132', 'perf/collect_steps_per_sec': '1.4367', 'perf/collect_game_steps_per_sec': '91.9509', 'game/terminated_count': '0.0000', 'game/terminated_pct': '0.0000'}\n",
      "Epoch 93: {'l2_reg': '0.1072', 'loss': '1.7823', 'policy_entropy': '0.9273', 'policy_loss': '0.9319', 'value_loss': '0.7432', 'buffer/size': '192000.0000', 'buffer/valid_samples': '188317.0000', 'buffer/fullness_pct': '100.0000', 'perf/train_steps_per_sec': '512000000.0000', 'perf/samples_per_sec': '16384000000.0000', 'perf/collect_time_sec': '365.7161', 'perf/train_time_sec': '21.1372', 'perf/collect_steps_per_sec': '1.4000', 'perf/collect_game_steps_per_sec': '89.5996', 'game/terminated_count': '0.0000', 'game/terminated_pct': '0.0000'}\n"
     ]
    },
    {
     "name": "stdout",
     "output_type": "stream",
     "text": [
      "Epoch 94: {'l2_reg': '0.1069', 'loss': '1.7760', 'policy_entropy': '0.9269', 'policy_loss': '0.9335', 'value_loss': '0.7355', 'buffer/size': '192000.0000', 'buffer/valid_samples': '187847.0000', 'buffer/fullness_pct': '100.0000', 'perf/train_steps_per_sec': '4.0000', 'perf/samples_per_sec': '128.0000', 'perf/collect_time_sec': '357.3578', 'perf/train_time_sec': '21.4588', 'perf/collect_steps_per_sec': '1.4327', 'perf/collect_game_steps_per_sec': '91.6952', 'game/terminated_count': '0.0000', 'game/terminated_pct': '0.0000'}\n",
      "Epoch 95: {'l2_reg': '0.1066', 'loss': '1.7876', 'policy_entropy': '0.9335', 'policy_loss': '0.9377', 'value_loss': '0.7432', 'buffer/size': '192000.0000', 'buffer/valid_samples': '188445.0000', 'buffer/fullness_pct': '100.0000', 'perf/train_steps_per_sec': '4.0000', 'perf/samples_per_sec': '128.0000', 'perf/collect_time_sec': '352.7714', 'perf/train_time_sec': '21.1887', 'perf/collect_steps_per_sec': '1.4514', 'perf/collect_game_steps_per_sec': '92.8873', 'game/terminated_count': '0.0000', 'game/terminated_pct': '0.0000'}\n",
      "Epoch 95: {'hit2_eval_avg_outcome': '0.1800'}\n",
      "Epoch 96: {'l2_reg': '0.1064', 'loss': '1.8017', 'policy_entropy': '0.9330', 'policy_loss': '0.9344', 'value_loss': '0.7608', 'buffer/size': '192000.0000', 'buffer/valid_samples': '187137.0000', 'buffer/fullness_pct': '100.0000', 'perf/train_steps_per_sec': '512000000.0000', 'perf/samples_per_sec': '16384000000.0000', 'perf/collect_time_sec': '354.3397', 'perf/train_time_sec': '21.0548', 'perf/collect_steps_per_sec': '1.4449', 'perf/collect_game_steps_per_sec': '92.4762', 'game/terminated_count': '0.0000', 'game/terminated_pct': '0.0000'}\n",
      "Epoch 97: {'l2_reg': '0.1061', 'loss': '1.7937', 'policy_entropy': '0.9170', 'policy_loss': '0.9190', 'value_loss': '0.7685', 'buffer/size': '192000.0000', 'buffer/valid_samples': '188050.0000', 'buffer/fullness_pct': '100.0000', 'perf/train_steps_per_sec': '512000000.0000', 'perf/samples_per_sec': '16384000000.0000', 'perf/collect_time_sec': '354.0650', 'perf/train_time_sec': '21.0744', 'perf/collect_steps_per_sec': '1.4461', 'perf/collect_game_steps_per_sec': '92.5480', 'game/terminated_count': '0.0000', 'game/terminated_pct': '0.0000'}\n",
      "Epoch 98: {'l2_reg': '0.1059', 'loss': '1.8131', 'policy_entropy': '0.9245', 'policy_loss': '0.9281', 'value_loss': '0.7791', 'buffer/size': '192000.0000', 'buffer/valid_samples': '187829.0000', 'buffer/fullness_pct': '100.0000', 'perf/train_steps_per_sec': '512000000.0000', 'perf/samples_per_sec': '16384000000.0000', 'perf/collect_time_sec': '353.1127', 'perf/train_time_sec': '20.7998', 'perf/collect_steps_per_sec': '1.4500', 'perf/collect_game_steps_per_sec': '92.7976', 'game/terminated_count': '0.0000', 'game/terminated_pct': '0.0000'}\n",
      "Epoch 99: {'l2_reg': '0.1056', 'loss': '1.8251', 'policy_entropy': '0.9219', 'policy_loss': '0.9264', 'value_loss': '0.7930', 'buffer/size': '192000.0000', 'buffer/valid_samples': '188645.0000', 'buffer/fullness_pct': '100.0000', 'perf/train_steps_per_sec': '512000000.0000', 'perf/samples_per_sec': '16384000000.0000', 'perf/collect_time_sec': '370.3795', 'perf/train_time_sec': '21.4228', 'perf/collect_steps_per_sec': '1.3824', 'perf/collect_game_steps_per_sec': '88.4714', 'game/terminated_count': '0.0000', 'game/terminated_pct': '0.0000'}\n",
      "Epoch 100: {'l2_reg': '0.1054', 'loss': '1.8506', 'policy_entropy': '0.9227', 'policy_loss': '0.9282', 'value_loss': '0.8171', 'buffer/size': '192000.0000', 'buffer/valid_samples': '188147.0000', 'buffer/fullness_pct': '100.0000', 'perf/train_steps_per_sec': '512000000.0000', 'perf/samples_per_sec': '16384000000.0000', 'perf/collect_time_sec': '363.7837', 'perf/train_time_sec': '21.2530', 'perf/collect_steps_per_sec': '1.4074', 'perf/collect_game_steps_per_sec': '90.0755', 'game/terminated_count': '0.0000', 'game/terminated_pct': '0.0000'}\n",
      "Epoch 100: {'hit2_eval_avg_outcome': '-0.1200'}\n",
      "Epoch 101: {'l2_reg': '0.1051', 'loss': '1.8483', 'policy_entropy': '0.9238', 'policy_loss': '0.9281', 'value_loss': '0.8150', 'buffer/size': '192000.0000', 'buffer/valid_samples': '187419.0000', 'buffer/fullness_pct': '100.0000', 'perf/train_steps_per_sec': '512000000.0000', 'perf/samples_per_sec': '16384000000.0000', 'perf/collect_time_sec': '349.7160', 'perf/train_time_sec': '20.8683', 'perf/collect_steps_per_sec': '1.4640', 'perf/collect_game_steps_per_sec': '93.6989', 'game/terminated_count': '0.0000', 'game/terminated_pct': '0.0000'}\n",
      "Epoch 102: {'l2_reg': '0.1049', 'loss': '1.8723', 'policy_entropy': '0.9267', 'policy_loss': '0.9332', 'value_loss': '0.8342', 'buffer/size': '192000.0000', 'buffer/valid_samples': '188413.0000', 'buffer/fullness_pct': '100.0000', 'perf/train_steps_per_sec': '512000000.0000', 'perf/samples_per_sec': '16384000000.0000', 'perf/collect_time_sec': '356.7166', 'perf/train_time_sec': '20.9732', 'perf/collect_steps_per_sec': '1.4353', 'perf/collect_game_steps_per_sec': '91.8600', 'game/terminated_count': '0.0000', 'game/terminated_pct': '0.0000'}\n",
      "Epoch 103: {'l2_reg': '0.1047', 'loss': '1.8345', 'policy_entropy': '0.9246', 'policy_loss': '0.9291', 'value_loss': '0.8008', 'buffer/size': '192000.0000', 'buffer/valid_samples': '187468.0000', 'buffer/fullness_pct': '100.0000', 'perf/train_steps_per_sec': '512000000.0000', 'perf/samples_per_sec': '16384000000.0000', 'perf/collect_time_sec': '372.1086', 'perf/train_time_sec': '20.3066', 'perf/collect_steps_per_sec': '1.3759', 'perf/collect_game_steps_per_sec': '88.0603', 'game/terminated_count': '0.0000', 'game/terminated_pct': '0.0000'}\n",
      "Epoch 104: {'l2_reg': '0.1044', 'loss': '1.8164', 'policy_entropy': '0.9250', 'policy_loss': '0.9321', 'value_loss': '0.7798', 'buffer/size': '192000.0000', 'buffer/valid_samples': '187792.0000', 'buffer/fullness_pct': '100.0000', 'perf/train_steps_per_sec': '4.0000', 'perf/samples_per_sec': '128.0000', 'perf/collect_time_sec': '380.2062', 'perf/train_time_sec': '20.9093', 'perf/collect_steps_per_sec': '1.3466', 'perf/collect_game_steps_per_sec': '86.1848', 'game/terminated_count': '0.0000', 'game/terminated_pct': '0.0000'}\n",
      "Epoch 105: {'l2_reg': '0.1042', 'loss': '1.8043', 'policy_entropy': '0.9247', 'policy_loss': '0.9292', 'value_loss': '0.7709', 'buffer/size': '192000.0000', 'buffer/valid_samples': '187948.0000', 'buffer/fullness_pct': '100.0000', 'perf/train_steps_per_sec': '4.0000', 'perf/samples_per_sec': '128.0000', 'perf/collect_time_sec': '363.9441', 'perf/train_time_sec': '20.6558', 'perf/collect_steps_per_sec': '1.4068', 'perf/collect_game_steps_per_sec': '90.0358', 'game/terminated_count': '0.0000', 'game/terminated_pct': '0.0000'}\n",
      "Epoch 105: {'hit2_eval_avg_outcome': '0.1800'}\n",
      "Epoch 106: {'l2_reg': '0.1040', 'loss': '1.8007', 'policy_entropy': '0.9179', 'policy_loss': '0.9214', 'value_loss': '0.7753', 'buffer/size': '192000.0000', 'buffer/valid_samples': '187625.0000', 'buffer/fullness_pct': '100.0000', 'perf/train_steps_per_sec': '512000000.0000', 'perf/samples_per_sec': '16384000000.0000', 'perf/collect_time_sec': '377.2083', 'perf/train_time_sec': '20.6204', 'perf/collect_steps_per_sec': '1.3573', 'perf/collect_game_steps_per_sec': '86.8698', 'game/terminated_count': '0.0000', 'game/terminated_pct': '0.0000'}\n",
      "Epoch 107: {'l2_reg': '0.1037', 'loss': '1.8025', 'policy_entropy': '0.9236', 'policy_loss': '0.9302', 'value_loss': '0.7686', 'buffer/size': '192000.0000', 'buffer/valid_samples': '187742.0000', 'buffer/fullness_pct': '100.0000', 'perf/train_steps_per_sec': '4.0000', 'perf/samples_per_sec': '128.0000', 'perf/collect_time_sec': '380.2025', 'perf/train_time_sec': '20.7519', 'perf/collect_steps_per_sec': '1.3467', 'perf/collect_game_steps_per_sec': '86.1857', 'game/terminated_count': '0.0000', 'game/terminated_pct': '0.0000'}\n",
      "Epoch 108: {'l2_reg': '0.1035', 'loss': '1.7655', 'policy_entropy': '0.9132', 'policy_loss': '0.9161', 'value_loss': '0.7460', 'buffer/size': '192000.0000', 'buffer/valid_samples': '187628.0000', 'buffer/fullness_pct': '100.0000', 'perf/train_steps_per_sec': '4.0000', 'perf/samples_per_sec': '128.0000', 'perf/collect_time_sec': '369.7488', 'perf/train_time_sec': '21.1536', 'perf/collect_steps_per_sec': '1.3847', 'perf/collect_game_steps_per_sec': '88.6223', 'game/terminated_count': '0.0000', 'game/terminated_pct': '0.0000'}\n"
     ]
    },
    {
     "name": "stdout",
     "output_type": "stream",
     "text": [
      "Epoch 109: {'l2_reg': '0.1032', 'loss': '1.7689', 'policy_entropy': '0.9140', 'policy_loss': '0.9219', 'value_loss': '0.7438', 'buffer/size': '192000.0000', 'buffer/valid_samples': '187609.0000', 'buffer/fullness_pct': '100.0000', 'perf/train_steps_per_sec': '512000000.0000', 'perf/samples_per_sec': '16384000000.0000', 'perf/collect_time_sec': '385.4596', 'perf/train_time_sec': '21.2253', 'perf/collect_steps_per_sec': '1.3283', 'perf/collect_game_steps_per_sec': '85.0102', 'game/terminated_count': '0.0000', 'game/terminated_pct': '0.0000'}\n",
      "Epoch 110: {'l2_reg': '0.1030', 'loss': '1.7834', 'policy_entropy': '0.9178', 'policy_loss': '0.9256', 'value_loss': '0.7548', 'buffer/size': '192000.0000', 'buffer/valid_samples': '187329.0000', 'buffer/fullness_pct': '100.0000', 'perf/train_steps_per_sec': '512000000.0000', 'perf/samples_per_sec': '16384000000.0000', 'perf/collect_time_sec': '375.7725', 'perf/train_time_sec': '21.5318', 'perf/collect_steps_per_sec': '1.3625', 'perf/collect_game_steps_per_sec': '87.2017', 'game/terminated_count': '0.0000', 'game/terminated_pct': '0.0000'}\n",
      "Epoch 110: {'hit2_eval_avg_outcome': '-0.0400'}\n",
      "Epoch 111: {'l2_reg': '0.1027', 'loss': '1.7903', 'policy_entropy': '0.9210', 'policy_loss': '0.9258', 'value_loss': '0.7618', 'buffer/size': '192000.0000', 'buffer/valid_samples': '187160.0000', 'buffer/fullness_pct': '100.0000', 'perf/train_steps_per_sec': '512000000.0000', 'perf/samples_per_sec': '16384000000.0000', 'perf/collect_time_sec': '384.6453', 'perf/train_time_sec': '21.4253', 'perf/collect_steps_per_sec': '1.3311', 'perf/collect_game_steps_per_sec': '85.1902', 'game/terminated_count': '0.0000', 'game/terminated_pct': '0.0000'}\n",
      "Epoch 112: {'l2_reg': '0.1025', 'loss': '1.7885', 'policy_entropy': '0.9209', 'policy_loss': '0.9256', 'value_loss': '0.7604', 'buffer/size': '192000.0000', 'buffer/valid_samples': '188421.0000', 'buffer/fullness_pct': '100.0000', 'perf/train_steps_per_sec': '512000000.0000', 'perf/samples_per_sec': '16384000000.0000', 'perf/collect_time_sec': '373.0835', 'perf/train_time_sec': '21.3115', 'perf/collect_steps_per_sec': '1.3723', 'perf/collect_game_steps_per_sec': '87.8302', 'game/terminated_count': '0.0000', 'game/terminated_pct': '0.0000'}\n",
      "Epoch 113: {'l2_reg': '0.1023', 'loss': '1.7703', 'policy_entropy': '0.9207', 'policy_loss': '0.9267', 'value_loss': '0.7413', 'buffer/size': '192000.0000', 'buffer/valid_samples': '188037.0000', 'buffer/fullness_pct': '100.0000', 'perf/train_steps_per_sec': '512000000.0000', 'perf/samples_per_sec': '16384000000.0000', 'perf/collect_time_sec': '370.6396', 'perf/train_time_sec': '20.5179', 'perf/collect_steps_per_sec': '1.3814', 'perf/collect_game_steps_per_sec': '88.4093', 'game/terminated_count': '0.0000', 'game/terminated_pct': '0.0000'}\n",
      "Epoch 115: {'l2_reg': '0.1018', 'loss': '1.7631', 'policy_entropy': '0.9312', 'policy_loss': '0.9350', 'value_loss': '0.7263', 'buffer/size': '192000.0000', 'buffer/valid_samples': '187746.0000', 'buffer/fullness_pct': '100.0000', 'perf/train_steps_per_sec': '512000000.0000', 'perf/samples_per_sec': '16384000000.0000', 'perf/collect_time_sec': '363.2817', 'perf/train_time_sec': '20.6269', 'perf/collect_steps_per_sec': '1.4094', 'perf/collect_game_steps_per_sec': '90.2000', 'game/terminated_count': '0.0000', 'game/terminated_pct': '0.0000'}\n",
      "Epoch 115: {'hit2_eval_avg_outcome': '0.0200'}\n",
      "Epoch 117: {'l2_reg': '0.1014', 'loss': '1.7839', 'policy_entropy': '0.9260', 'policy_loss': '0.9279', 'value_loss': '0.7546', 'buffer/size': '192000.0000', 'buffer/valid_samples': '188164.0000', 'buffer/fullness_pct': '100.0000', 'perf/train_steps_per_sec': '512000000.0000', 'perf/samples_per_sec': '16384000000.0000', 'perf/collect_time_sec': '356.8227', 'perf/train_time_sec': '21.0100', 'perf/collect_steps_per_sec': '1.4349', 'perf/collect_game_steps_per_sec': '91.8327', 'game/terminated_count': '0.0000', 'game/terminated_pct': '0.0000'}\n",
      "Epoch 118: {'l2_reg': '0.1011', 'loss': '1.7989', 'policy_entropy': '0.9308', 'policy_loss': '0.9331', 'value_loss': '0.7647', 'buffer/size': '192000.0000', 'buffer/valid_samples': '187827.0000', 'buffer/fullness_pct': '100.0000', 'perf/train_steps_per_sec': '512000000.0000', 'perf/samples_per_sec': '16384000000.0000', 'perf/collect_time_sec': '350.4392', 'perf/train_time_sec': '21.4960', 'perf/collect_steps_per_sec': '1.4610', 'perf/collect_game_steps_per_sec': '93.5055', 'game/terminated_count': '0.0000', 'game/terminated_pct': '0.0000'}\n",
      "Epoch 119: {'l2_reg': '0.1009', 'loss': '1.8070', 'policy_entropy': '0.9269', 'policy_loss': '0.9317', 'value_loss': '0.7744', 'buffer/size': '192000.0000', 'buffer/valid_samples': '187802.0000', 'buffer/fullness_pct': '100.0000', 'perf/train_steps_per_sec': '512000000.0000', 'perf/samples_per_sec': '16384000000.0000', 'perf/collect_time_sec': '363.9219', 'perf/train_time_sec': '21.1532', 'perf/collect_steps_per_sec': '1.4069', 'perf/collect_game_steps_per_sec': '90.0413', 'game/terminated_count': '0.0000', 'game/terminated_pct': '0.0000'}\n",
      "Epoch 120: {'l2_reg': '0.1007', 'loss': '1.7628', 'policy_entropy': '0.9182', 'policy_loss': '0.9194', 'value_loss': '0.7427', 'buffer/size': '192000.0000', 'buffer/valid_samples': '187752.0000', 'buffer/fullness_pct': '100.0000', 'perf/train_steps_per_sec': '512000000.0000', 'perf/samples_per_sec': '16384000000.0000', 'perf/collect_time_sec': '350.3272', 'perf/train_time_sec': '21.0427', 'perf/collect_steps_per_sec': '1.4615', 'perf/collect_game_steps_per_sec': '93.5354', 'game/terminated_count': '0.0000', 'game/terminated_pct': '0.0000'}\n",
      "Epoch 120: {'hit2_eval_avg_outcome': '0.4000'}\n",
      "Epoch 121: {'l2_reg': '0.1004', 'loss': '1.8021', 'policy_entropy': '0.9357', 'policy_loss': '0.9411', 'value_loss': '0.7606', 'buffer/size': '192000.0000', 'buffer/valid_samples': '187691.0000', 'buffer/fullness_pct': '100.0000', 'perf/train_steps_per_sec': '512000000.0000', 'perf/samples_per_sec': '16384000000.0000', 'perf/collect_time_sec': '367.1246', 'perf/train_time_sec': '21.0440', 'perf/collect_steps_per_sec': '1.3946', 'perf/collect_game_steps_per_sec': '89.2558', 'game/terminated_count': '0.0000', 'game/terminated_pct': '0.0000'}\n",
      "Epoch 122: {'l2_reg': '0.1002', 'loss': '1.8063', 'policy_entropy': '0.9310', 'policy_loss': '0.9314', 'value_loss': '0.7747', 'buffer/size': '192000.0000', 'buffer/valid_samples': '187429.0000', 'buffer/fullness_pct': '100.0000', 'perf/train_steps_per_sec': '512000000.0000', 'perf/samples_per_sec': '16384000000.0000', 'perf/collect_time_sec': '369.4544', 'perf/train_time_sec': '21.3040', 'perf/collect_steps_per_sec': '1.3858', 'perf/collect_game_steps_per_sec': '88.6930', 'game/terminated_count': '0.0000', 'game/terminated_pct': '0.0000'}\n",
      "Epoch 123: {'l2_reg': '0.1000', 'loss': '1.8171', 'policy_entropy': '0.9330', 'policy_loss': '0.9353', 'value_loss': '0.7819', 'buffer/size': '192000.0000', 'buffer/valid_samples': '187562.0000', 'buffer/fullness_pct': '100.0000', 'perf/train_steps_per_sec': '512000000.0000', 'perf/samples_per_sec': '16384000000.0000', 'perf/collect_time_sec': '389.0334', 'perf/train_time_sec': '21.4134', 'perf/collect_steps_per_sec': '1.3161', 'perf/collect_game_steps_per_sec': '84.2293', 'game/terminated_count': '0.0000', 'game/terminated_pct': '0.0000'}\n",
      "Epoch 124: {'l2_reg': '0.0998', 'loss': '1.8109', 'policy_entropy': '0.9220', 'policy_loss': '0.9238', 'value_loss': '0.7873', 'buffer/size': '192000.0000', 'buffer/valid_samples': '187325.0000', 'buffer/fullness_pct': '100.0000', 'perf/train_steps_per_sec': '512000000.0000', 'perf/samples_per_sec': '16384000000.0000', 'perf/collect_time_sec': '378.3083', 'perf/train_time_sec': '20.4308', 'perf/collect_steps_per_sec': '1.3534', 'perf/collect_game_steps_per_sec': '86.6172', 'game/terminated_count': '0.0000', 'game/terminated_pct': '0.0000'}\n",
      "Epoch 125: {'l2_reg': '0.0996', 'loss': '1.8125', 'policy_entropy': '0.9230', 'policy_loss': '0.9245', 'value_loss': '0.7885', 'buffer/size': '192000.0000', 'buffer/valid_samples': '187570.0000', 'buffer/fullness_pct': '100.0000', 'perf/train_steps_per_sec': '512000000.0000', 'perf/samples_per_sec': '16384000000.0000', 'perf/collect_time_sec': '384.9194', 'perf/train_time_sec': '20.7663', 'perf/collect_steps_per_sec': '1.3301', 'perf/collect_game_steps_per_sec': '85.1295', 'game/terminated_count': '0.0000', 'game/terminated_pct': '0.0000'}\n"
     ]
    },
    {
     "name": "stdout",
     "output_type": "stream",
     "text": [
      "Epoch 125: {'hit2_eval_avg_outcome': '0.0200'}\n",
      "Epoch 127: {'l2_reg': '0.0991', 'loss': '1.8298', 'policy_entropy': '0.9300', 'policy_loss': '0.9334', 'value_loss': '0.7973', 'buffer/size': '192000.0000', 'buffer/valid_samples': '187879.0000', 'buffer/fullness_pct': '100.0000', 'perf/train_steps_per_sec': '512000000.0000', 'perf/samples_per_sec': '16384000000.0000', 'perf/collect_time_sec': '381.8705', 'perf/train_time_sec': '21.3494', 'perf/collect_steps_per_sec': '1.3408', 'perf/collect_game_steps_per_sec': '85.8092', 'game/terminated_count': '0.0000', 'game/terminated_pct': '0.0000'}\n",
      "Epoch 128: {'l2_reg': '0.0989', 'loss': '1.8307', 'policy_entropy': '0.9394', 'policy_loss': '0.9445', 'value_loss': '0.7873', 'buffer/size': '192000.0000', 'buffer/valid_samples': '187327.0000', 'buffer/fullness_pct': '100.0000', 'perf/train_steps_per_sec': '512000000.0000', 'perf/samples_per_sec': '16384000000.0000', 'perf/collect_time_sec': '355.0161', 'perf/train_time_sec': '21.0569', 'perf/collect_steps_per_sec': '1.4422', 'perf/collect_game_steps_per_sec': '92.3000', 'game/terminated_count': '0.0000', 'game/terminated_pct': '0.0000'}\n",
      "Epoch 129: {'l2_reg': '0.0987', 'loss': '1.7984', 'policy_entropy': '0.9237', 'policy_loss': '0.9275', 'value_loss': '0.7721', 'buffer/size': '192000.0000', 'buffer/valid_samples': '187868.0000', 'buffer/fullness_pct': '100.0000', 'perf/train_steps_per_sec': '512000000.0000', 'perf/samples_per_sec': '16384000000.0000', 'perf/collect_time_sec': '377.0094', 'perf/train_time_sec': '21.0233', 'perf/collect_steps_per_sec': '1.3581', 'perf/collect_game_steps_per_sec': '86.9156', 'game/terminated_count': '0.0000', 'game/terminated_pct': '0.0000'}\n",
      "Epoch 130: {'l2_reg': '0.0985', 'loss': '1.8212', 'policy_entropy': '0.9380', 'policy_loss': '0.9417', 'value_loss': '0.7810', 'buffer/size': '192000.0000', 'buffer/valid_samples': '187318.0000', 'buffer/fullness_pct': '100.0000', 'perf/train_steps_per_sec': '512000000.0000', 'perf/samples_per_sec': '16384000000.0000', 'perf/collect_time_sec': '360.8232', 'perf/train_time_sec': '20.9915', 'perf/collect_steps_per_sec': '1.4190', 'perf/collect_game_steps_per_sec': '90.8146', 'game/terminated_count': '0.0000', 'game/terminated_pct': '0.0000'}\n",
      "Epoch 130: {'hit2_eval_avg_outcome': '0.1400'}\n",
      "Epoch 131: {'l2_reg': '0.0983', 'loss': '1.8418', 'policy_entropy': '0.9506', 'policy_loss': '0.9547', 'value_loss': '0.7888', 'buffer/size': '192000.0000', 'buffer/valid_samples': '188087.0000', 'buffer/fullness_pct': '100.0000', 'perf/train_steps_per_sec': '512000000.0000', 'perf/samples_per_sec': '16384000000.0000', 'perf/collect_time_sec': '369.5807', 'perf/train_time_sec': '20.6906', 'perf/collect_steps_per_sec': '1.3854', 'perf/collect_game_steps_per_sec': '88.6626', 'game/terminated_count': '0.0000', 'game/terminated_pct': '0.0000'}\n",
      "Epoch 132: {'l2_reg': '0.0981', 'loss': '1.8203', 'policy_entropy': '0.9395', 'policy_loss': '0.9474', 'value_loss': '0.7748', 'buffer/size': '192000.0000', 'buffer/valid_samples': '187514.0000', 'buffer/fullness_pct': '100.0000', 'perf/train_steps_per_sec': '512000000.0000', 'perf/samples_per_sec': '16384000000.0000', 'perf/collect_time_sec': '368.4864', 'perf/train_time_sec': '20.9883', 'perf/collect_steps_per_sec': '1.3895', 'perf/collect_game_steps_per_sec': '88.9259', 'game/terminated_count': '0.0000', 'game/terminated_pct': '0.0000'}\n",
      "Epoch 133: {'l2_reg': '0.0979', 'loss': '1.8343', 'policy_entropy': '0.9361', 'policy_loss': '0.9404', 'value_loss': '0.7960', 'buffer/size': '192000.0000', 'buffer/valid_samples': '187987.0000', 'buffer/fullness_pct': '100.0000', 'perf/train_steps_per_sec': '512000000.0000', 'perf/samples_per_sec': '16384000000.0000', 'perf/collect_time_sec': '369.1700', 'perf/train_time_sec': '21.0875', 'perf/collect_steps_per_sec': '1.3869', 'perf/collect_game_steps_per_sec': '88.7613', 'game/terminated_count': '0.0000', 'game/terminated_pct': '0.0000'}\n",
      "Epoch 134: {'l2_reg': '0.0977', 'loss': '1.8314', 'policy_entropy': '0.9349', 'policy_loss': '0.9402', 'value_loss': '0.7935', 'buffer/size': '192000.0000', 'buffer/valid_samples': '187445.0000', 'buffer/fullness_pct': '100.0000', 'perf/train_steps_per_sec': '512000000.0000', 'perf/samples_per_sec': '16384000000.0000', 'perf/collect_time_sec': '362.0346', 'perf/train_time_sec': '21.2528', 'perf/collect_steps_per_sec': '1.4142', 'perf/collect_game_steps_per_sec': '90.5107', 'game/terminated_count': '0.0000', 'game/terminated_pct': '0.0000'}\n",
      "Epoch 135: {'l2_reg': '0.0975', 'loss': '1.8131', 'policy_entropy': '0.9404', 'policy_loss': '0.9440', 'value_loss': '0.7717', 'buffer/size': '192000.0000', 'buffer/valid_samples': '187718.0000', 'buffer/fullness_pct': '100.0000', 'perf/train_steps_per_sec': '512000000.0000', 'perf/samples_per_sec': '16384000000.0000', 'perf/collect_time_sec': '368.1354', 'perf/train_time_sec': '20.9283', 'perf/collect_steps_per_sec': '1.3908', 'perf/collect_game_steps_per_sec': '89.0107', 'game/terminated_count': '0.0000', 'game/terminated_pct': '0.0000'}\n",
      "Epoch 135: {'hit2_eval_avg_outcome': '0.0600'}\n",
      "Epoch 136: {'l2_reg': '0.0972', 'loss': '1.7991', 'policy_entropy': '0.9359', 'policy_loss': '0.9383', 'value_loss': '0.7636', 'buffer/size': '192000.0000', 'buffer/valid_samples': '187240.0000', 'buffer/fullness_pct': '100.0000', 'perf/train_steps_per_sec': '512000000.0000', 'perf/samples_per_sec': '16384000000.0000', 'perf/collect_time_sec': '360.0781', 'perf/train_time_sec': '20.7482', 'perf/collect_steps_per_sec': '1.4219', 'perf/collect_game_steps_per_sec': '91.0025', 'game/terminated_count': '0.0000', 'game/terminated_pct': '0.0000'}\n",
      "Epoch 138: {'l2_reg': '0.0968', 'loss': '1.8091', 'policy_entropy': '0.9402', 'policy_loss': '0.9445', 'value_loss': '0.7678', 'buffer/size': '192000.0000', 'buffer/valid_samples': '188073.0000', 'buffer/fullness_pct': '100.0000', 'perf/train_steps_per_sec': '512000000.0000', 'perf/samples_per_sec': '16384000000.0000', 'perf/collect_time_sec': '370.1771', 'perf/train_time_sec': '21.2914', 'perf/collect_steps_per_sec': '1.3831', 'perf/collect_game_steps_per_sec': '88.5198', 'game/terminated_count': '0.0000', 'game/terminated_pct': '0.0000'}\n",
      "Epoch 139: {'l2_reg': '0.0966', 'loss': '1.7944', 'policy_entropy': '0.9281', 'policy_loss': '0.9290', 'value_loss': '0.7688', 'buffer/size': '192000.0000', 'buffer/valid_samples': '187376.0000', 'buffer/fullness_pct': '100.0000', 'perf/train_steps_per_sec': '512000000.0000', 'perf/samples_per_sec': '16384000000.0000', 'perf/collect_time_sec': '352.0826', 'perf/train_time_sec': '20.7524', 'perf/collect_steps_per_sec': '1.4542', 'perf/collect_game_steps_per_sec': '93.0691', 'game/terminated_count': '0.0000', 'game/terminated_pct': '0.0000'}\n",
      "Epoch 140: {'l2_reg': '0.0964', 'loss': '1.7946', 'policy_entropy': '0.9424', 'policy_loss': '0.9470', 'value_loss': '0.7511', 'buffer/size': '192000.0000', 'buffer/valid_samples': '187492.0000', 'buffer/fullness_pct': '100.0000', 'perf/train_steps_per_sec': '512000000.0000', 'perf/samples_per_sec': '16384000000.0000', 'perf/collect_time_sec': '364.4386', 'perf/train_time_sec': '20.8041', 'perf/collect_steps_per_sec': '1.4049', 'perf/collect_game_steps_per_sec': '89.9136', 'game/terminated_count': '0.0000', 'game/terminated_pct': '0.0000'}\n",
      "Epoch 140: {'hit2_eval_avg_outcome': '-0.0400'}\n",
      "Epoch 141: {'l2_reg': '0.0962', 'loss': '1.7911', 'policy_entropy': '0.9414', 'policy_loss': '0.9454', 'value_loss': '0.7494', 'buffer/size': '192000.0000', 'buffer/valid_samples': '187724.0000', 'buffer/fullness_pct': '100.0000', 'perf/train_steps_per_sec': '512000000.0000', 'perf/samples_per_sec': '16384000000.0000', 'perf/collect_time_sec': '379.1014', 'perf/train_time_sec': '20.9050', 'perf/collect_steps_per_sec': '1.3506', 'perf/collect_game_steps_per_sec': '86.4360', 'game/terminated_count': '0.0000', 'game/terminated_pct': '0.0000'}\n",
      "Epoch 142: {'l2_reg': '0.0960', 'loss': '1.8038', 'policy_entropy': '0.9550', 'policy_loss': '0.9588', 'value_loss': '0.7490', 'buffer/size': '192000.0000', 'buffer/valid_samples': '188557.0000', 'buffer/fullness_pct': '100.0000', 'perf/train_steps_per_sec': '512000000.0000', 'perf/samples_per_sec': '16384000000.0000', 'perf/collect_time_sec': '363.1633', 'perf/train_time_sec': '21.7021', 'perf/collect_steps_per_sec': '1.4098', 'perf/collect_game_steps_per_sec': '90.2294', 'game/terminated_count': '0.0000', 'game/terminated_pct': '0.0000'}\n"
     ]
    },
    {
     "name": "stdout",
     "output_type": "stream",
     "text": [
      "Epoch 143: {'l2_reg': '0.0958', 'loss': '1.8088', 'policy_entropy': '0.9465', 'policy_loss': '0.9500', 'value_loss': '0.7630', 'buffer/size': '192000.0000', 'buffer/valid_samples': '187747.0000', 'buffer/fullness_pct': '100.0000', 'perf/train_steps_per_sec': '512000000.0000', 'perf/samples_per_sec': '16384000000.0000', 'perf/collect_time_sec': '374.9801', 'perf/train_time_sec': '21.3978', 'perf/collect_steps_per_sec': '1.3654', 'perf/collect_game_steps_per_sec': '87.3860', 'game/terminated_count': '0.0000', 'game/terminated_pct': '0.0000'}\n",
      "Epoch 144: {'l2_reg': '0.0956', 'loss': '1.8096', 'policy_entropy': '0.9466', 'policy_loss': '0.9478', 'value_loss': '0.7662', 'buffer/size': '192000.0000', 'buffer/valid_samples': '187568.0000', 'buffer/fullness_pct': '100.0000', 'perf/train_steps_per_sec': '512000000.0000', 'perf/samples_per_sec': '16384000000.0000', 'perf/collect_time_sec': '363.1081', 'perf/train_time_sec': '21.0099', 'perf/collect_steps_per_sec': '1.4100', 'perf/collect_game_steps_per_sec': '90.2431', 'game/terminated_count': '0.0000', 'game/terminated_pct': '0.0000'}\n",
      "Epoch 145: {'l2_reg': '0.0954', 'loss': '1.8211', 'policy_entropy': '0.9471', 'policy_loss': '0.9497', 'value_loss': '0.7759', 'buffer/size': '192000.0000', 'buffer/valid_samples': '187903.0000', 'buffer/fullness_pct': '100.0000', 'perf/train_steps_per_sec': '512000000.0000', 'perf/samples_per_sec': '16384000000.0000', 'perf/collect_time_sec': '373.9553', 'perf/train_time_sec': '20.8168', 'perf/collect_steps_per_sec': '1.3691', 'perf/collect_game_steps_per_sec': '87.6254', 'game/terminated_count': '0.0000', 'game/terminated_pct': '0.0000'}\n",
      "Epoch 145: {'hit2_eval_avg_outcome': '0.1600'}\n",
      "Epoch 147: {'l2_reg': '0.0951', 'loss': '1.8058', 'policy_entropy': '0.9463', 'policy_loss': '0.9510', 'value_loss': '0.7597', 'buffer/size': '192000.0000', 'buffer/valid_samples': '187729.0000', 'buffer/fullness_pct': '100.0000', 'perf/train_steps_per_sec': '512000000.0000', 'perf/samples_per_sec': '16384000000.0000', 'perf/collect_time_sec': '373.3260', 'perf/train_time_sec': '21.4245', 'perf/collect_steps_per_sec': '1.3715', 'perf/collect_game_steps_per_sec': '87.7732', 'game/terminated_count': '0.0000', 'game/terminated_pct': '0.0000'}\n",
      "Epoch 148: {'l2_reg': '0.0949', 'loss': '1.8180', 'policy_entropy': '0.9528', 'policy_loss': '0.9562', 'value_loss': '0.7669', 'buffer/size': '192000.0000', 'buffer/valid_samples': '187841.0000', 'buffer/fullness_pct': '100.0000', 'perf/train_steps_per_sec': '512000000.0000', 'perf/samples_per_sec': '16384000000.0000', 'perf/collect_time_sec': '371.2174', 'perf/train_time_sec': '21.0063', 'perf/collect_steps_per_sec': '1.3792', 'perf/collect_game_steps_per_sec': '88.2717', 'game/terminated_count': '0.0000', 'game/terminated_pct': '0.0000'}\n",
      "Epoch 149: {'l2_reg': '0.0947', 'loss': '1.8371', 'policy_entropy': '0.9549', 'policy_loss': '0.9610', 'value_loss': '0.7814', 'buffer/size': '192000.0000', 'buffer/valid_samples': '187686.0000', 'buffer/fullness_pct': '100.0000', 'perf/train_steps_per_sec': '512000000.0000', 'perf/samples_per_sec': '16384000000.0000', 'perf/collect_time_sec': '380.8772', 'perf/train_time_sec': '20.8727', 'perf/collect_steps_per_sec': '1.3443', 'perf/collect_game_steps_per_sec': '86.0330', 'game/terminated_count': '0.0000', 'game/terminated_pct': '0.0000'}\n"
     ]
    }
   ],
   "source": [
    "output = trainer.train_loop(seed=0, num_epochs=150, eval_every=5)"
   ]
  },
  {
   "cell_type": "markdown",
   "metadata": {},
   "source": [
    "and GIFs generated will appear in the same directory as this notebook, and also on your `wandb` dashboard."
   ]
  }
 ],
 "metadata": {
  "kernelspec": {
   "display_name": ".venv",
   "language": "python",
   "name": "python3"
  },
  "language_info": {
   "codemirror_mode": {
    "name": "ipython",
    "version": 3
   },
   "file_extension": ".py",
   "mimetype": "text/x-python",
   "name": "python",
   "nbconvert_exporter": "python",
   "pygments_lexer": "ipython3",
   "version": "undefined.undefined.undefined"
  }
 },
 "nbformat": 4,
 "nbformat_minor": 2
}
