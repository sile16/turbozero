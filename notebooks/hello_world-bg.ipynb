{
 "cells": [
  {
   "cell_type": "markdown",
   "metadata": {},
   "source": [
    "# Hello World, TurboZero Backgammon 🏁"
   ]
  },
  {
   "cell_type": "markdown",
   "metadata": {},
   "source": [
    "`turbozero` provides a vectorized implementation of AlphaZero. \n",
    "\n",
    "In a nutshell, this means we can massively speed up training, by collecting many self-play games and running Monte Carlo Tree Search in parallel across one or more GPUs!\n",
    "\n",
    "As the user, you just need to provide:\n",
    "* environment dynamics functions (step and init) that adhere to the TurboZero spec\n",
    "* a conversion function for environment state -> neural net input\n",
    "* and a few hyperparameters!\n",
    "\n",
    "TurboZero takes care of the rest. 😀 "
   ]
  },
  {
   "cell_type": "markdown",
   "metadata": {},
   "source": [
    "## Getting Started\n",
    "\n",
    "Follow the instructions in the repo readme to properly install dependencies and set up your environment."
   ]
  },
  {
   "cell_type": "markdown",
   "metadata": {},
   "source": [
    "## Environments\n",
    "\n",
    "In order to take advantage of the batched implementation of AlphaZero, we need to pair it with a vectorized environment.\n",
    "\n",
    "Fortunately, there are many great vectorized RL environment libraries, one I like in particular is [pgx](https://github.com/sotetsuk/pgx)."
   ]
  },
  {
   "cell_type": "code",
   "execution_count": 1,
   "metadata": {},
   "outputs": [
    {
     "name": "stdout",
     "output_type": "stream",
     "text": [
      "Jax Version:  0.6.0\n",
      "Default backend: gpu\n",
      "0.6.0\n",
      "True\n",
      "156\n",
      "[0.16666667 0.16666667 0.16666667 0.16666667 0.16666667 0.16666667\n",
      " 0.         0.         0.         0.         0.         0.\n",
      " 0.         0.         0.         0.         0.         0.\n",
      " 0.         0.         0.        ]\n"
     ]
    },
    {
     "data": {
      "text/html": [
       "<svg baseProfile=\"full\" height=\"375.0\" version=\"1.1\" width=\"450.0\" xmlns=\"http://www.w3.org/2000/svg\" xmlns:ev=\"http://www.w3.org/2001/xml-events\" xmlns:xlink=\"http://www.w3.org/1999/xlink\"><defs /><rect fill=\"white\" height=\"425\" width=\"575\" x=\"0\" y=\"0\" /><g transform=\"scale(1.0)\"><rect fill=\"white\" height=\"375\" width=\"450\" x=\"0\" y=\"0\" /><g transform=\"translate(12.5,12.5)\"><polygon fill=\"white\" points=\"0,0 25,0 12.5,150\" stroke=\"gray\" /><polygon fill=\"gray\" points=\"25,0 50,0 37.5,150\" stroke=\"gray\" /><polygon fill=\"white\" points=\"50,0 75,0 62.5,150\" stroke=\"gray\" /><polygon fill=\"gray\" points=\"75,0 100,0 87.5,150\" stroke=\"gray\" /><polygon fill=\"white\" points=\"100,0 125,0 112.5,150\" stroke=\"gray\" /><polygon fill=\"gray\" points=\"125,0 150,0 137.5,150\" stroke=\"gray\" /><polygon fill=\"white\" points=\"175,0 200,0 187.5,150\" stroke=\"gray\" /><polygon fill=\"gray\" points=\"200,0 225,0 212.5,150\" stroke=\"gray\" /><polygon fill=\"white\" points=\"225,0 250,0 237.5,150\" stroke=\"gray\" /><polygon fill=\"gray\" points=\"250,0 275,0 262.5,150\" stroke=\"gray\" /><polygon fill=\"white\" points=\"275,0 300,0 287.5,150\" stroke=\"gray\" /><polygon fill=\"gray\" points=\"300,0 325,0 312.5,150\" stroke=\"gray\" /><polygon fill=\"gray\" points=\"0,350 25,350 12.5,200\" stroke=\"gray\" /><polygon fill=\"white\" points=\"25,350 50,350 37.5,200\" stroke=\"gray\" /><polygon fill=\"gray\" points=\"50,350 75,350 62.5,200\" stroke=\"gray\" /><polygon fill=\"white\" points=\"75,350 100,350 87.5,200\" stroke=\"gray\" /><polygon fill=\"gray\" points=\"100,350 125,350 112.5,200\" stroke=\"gray\" /><polygon fill=\"white\" points=\"125,350 150,350 137.5,200\" stroke=\"gray\" /><polygon fill=\"gray\" points=\"175,350 200,350 187.5,200\" stroke=\"gray\" /><polygon fill=\"white\" points=\"200,350 225,350 212.5,200\" stroke=\"gray\" /><polygon fill=\"gray\" points=\"225,350 250,350 237.5,200\" stroke=\"gray\" /><polygon fill=\"white\" points=\"250,350 275,350 262.5,200\" stroke=\"gray\" /><polygon fill=\"gray\" points=\"275,350 300,350 287.5,200\" stroke=\"gray\" /><polygon fill=\"white\" points=\"300,350 325,350 312.5,200\" stroke=\"gray\" /><rect fill=\"none\" height=\"350\" stroke=\"black\" width=\"325\" x=\"0\" y=\"0\" /><rect fill=\"none\" height=\"350\" stroke=\"black\" width=\"25\" x=\"150\" y=\"0\" /><circle cx=\"312.5\" cy=\"337.5\" fill=\"black\" r=\"12.5\" stroke=\"black\" /><circle cx=\"312.5\" cy=\"312.5\" fill=\"black\" r=\"12.5\" stroke=\"black\" /><circle cx=\"187.5\" cy=\"337.5\" fill=\"white\" r=\"12.5\" stroke=\"black\" /><circle cx=\"187.5\" cy=\"312.5\" fill=\"white\" r=\"12.5\" stroke=\"black\" /><circle cx=\"187.5\" cy=\"287.5\" fill=\"white\" r=\"12.5\" stroke=\"black\" /><circle cx=\"187.5\" cy=\"262.5\" fill=\"white\" r=\"12.5\" stroke=\"black\" /><circle cx=\"187.5\" cy=\"237.5\" fill=\"white\" r=\"12.5\" stroke=\"black\" /><circle cx=\"112.5\" cy=\"337.5\" fill=\"white\" r=\"12.5\" stroke=\"black\" /><circle cx=\"112.5\" cy=\"312.5\" fill=\"white\" r=\"12.5\" stroke=\"black\" /><circle cx=\"112.5\" cy=\"287.5\" fill=\"white\" r=\"12.5\" stroke=\"black\" /><circle cx=\"12.5\" cy=\"337.5\" fill=\"black\" r=\"12.5\" stroke=\"black\" /><circle cx=\"12.5\" cy=\"312.5\" fill=\"black\" r=\"12.5\" stroke=\"black\" /><circle cx=\"12.5\" cy=\"287.5\" fill=\"black\" r=\"12.5\" stroke=\"black\" /><circle cx=\"12.5\" cy=\"262.5\" fill=\"black\" r=\"12.5\" stroke=\"black\" /><circle cx=\"12.5\" cy=\"237.5\" fill=\"black\" r=\"12.5\" stroke=\"black\" /><circle cx=\"12.5\" cy=\"12.5\" fill=\"white\" r=\"12.5\" stroke=\"black\" /><circle cx=\"12.5\" cy=\"37.5\" fill=\"white\" r=\"12.5\" stroke=\"black\" /><circle cx=\"12.5\" cy=\"62.5\" fill=\"white\" r=\"12.5\" stroke=\"black\" /><circle cx=\"12.5\" cy=\"87.5\" fill=\"white\" r=\"12.5\" stroke=\"black\" /><circle cx=\"12.5\" cy=\"112.5\" fill=\"white\" r=\"12.5\" stroke=\"black\" /><circle cx=\"112.5\" cy=\"12.5\" fill=\"black\" r=\"12.5\" stroke=\"black\" /><circle cx=\"112.5\" cy=\"37.5\" fill=\"black\" r=\"12.5\" stroke=\"black\" /><circle cx=\"112.5\" cy=\"62.5\" fill=\"black\" r=\"12.5\" stroke=\"black\" /><circle cx=\"187.5\" cy=\"12.5\" fill=\"black\" r=\"12.5\" stroke=\"black\" /><circle cx=\"187.5\" cy=\"37.5\" fill=\"black\" r=\"12.5\" stroke=\"black\" /><circle cx=\"187.5\" cy=\"62.5\" fill=\"black\" r=\"12.5\" stroke=\"black\" /><circle cx=\"187.5\" cy=\"87.5\" fill=\"black\" r=\"12.5\" stroke=\"black\" /><circle cx=\"187.5\" cy=\"112.5\" fill=\"black\" r=\"12.5\" stroke=\"black\" /><circle cx=\"312.5\" cy=\"12.5\" fill=\"white\" r=\"12.5\" stroke=\"black\" /><circle cx=\"312.5\" cy=\"37.5\" fill=\"white\" r=\"12.5\" stroke=\"black\" /><rect fill=\"white\" height=\"50\" stroke=\"black\" width=\"100\" x=\"325\" y=\"0\" /><circle cx=\"350\" cy=\"25\" fill=\"black\" r=\"12.5\" stroke=\"black\" /><text fill=\"black\" font-family=\"serif\" font-size=\"34px\" x=\"365.0\" y=\"35.0\">×0</text><rect fill=\"white\" height=\"50\" stroke=\"black\" width=\"100\" x=\"325\" y=\"300\" /><circle cx=\"350\" cy=\"325\" fill=\"white\" r=\"12.5\" stroke=\"black\" /><text fill=\"black\" font-family=\"serif\" font-size=\"34px\" x=\"365.0\" y=\"335.0\">×0</text><text fill=\"black\" font-family=\"sans serif\" font-size=\"44px\" x=\"337.5\" y=\"187.5\">⚀</text><text fill=\"black\" font-family=\"sans serif\" font-size=\"44px\" x=\"370.0\" y=\"187.5\">⚃</text></g></g></svg>"
      ],
      "text/plain": [
       "<IPython.core.display.HTML object>"
      ]
     },
     "metadata": {},
     "output_type": "display_data"
    }
   ],
   "source": [
    "import jax\n",
    "print(\"Jax Version: \",jax.__version__)\n",
    "#jax.config.update('jax_platform_name', 'gpu')\n",
    "from jax.lib import xla_bridge\n",
    "from prompt_toolkit import HTML\n",
    "print(\"Default backend:\", jax.default_backend())\n",
    "\n",
    "import pgx\n",
    "import pgx.backgammon as bg\n",
    "\n",
    "print(jax.__version__)\n",
    "\n",
    "\n",
    "env = bg.Backgammon(simple_doubles=True)\n",
    "print(env.simple_doubles)\n",
    "print(env.num_actions)\n",
    "print(env.stochastic_action_probs)\n",
    "\n",
    "# create key\n",
    "key = jax.random.PRNGKey(0)\n",
    "state = env.init(key)\n",
    "from IPython.display import HTML\n",
    "display(HTML(state.to_svg()))\n",
    "\n",
    "\n",
    "\n"
   ]
  },
  {
   "cell_type": "markdown",
   "metadata": {},
   "source": [
    "## Environment Dynamics\n",
    "\n",
    "Turbozero needs to interface with the environment in order to build search trees and collect self-play episodes.\n",
    "\n",
    "We can define this interface with the following functions:\n",
    "* `env_step_fn`: given an environment state and an action, return the new environment state \n",
    "```python\n",
    "    EnvStepFn = Callable[[chex.ArrayTree, int], Tuple[chex.ArrayTree, StepMetadata]]\n",
    "```\n",
    "* `env_init_fn`: given a key, initialize and reutrn a new environment state\n",
    "```python\n",
    "    EnvInitFn = Callable[[chex.PRNGKey], Tuple[chex.ArrayTree, StepMetadata]]\n",
    "```\n",
    "Fortunately, environment libraries implement these for us! We just need to extract a few key pieces of information \n",
    "from the environment state so that we can match the TurboZero specification. We store this in a StepMetadata object:"
   ]
  },
  {
   "cell_type": "code",
   "execution_count": 2,
   "metadata": {},
   "outputs": [],
   "source": [
    "from core.types import StepMetadata\n",
    "%psource StepMetadata"
   ]
  },
  {
   "cell_type": "markdown",
   "metadata": {},
   "source": [
    "* `rewards` stores the rewards emitted for each player for the given timestep\n",
    "* `action_mask` is a mask across all possible actions, where legal actions are set to `True`, and invalid/illegal actions are set to `False`\n",
    "* `terminated` True if the environment is terminated/completed\n",
    "* `cur_player_id`: id of the current player\n",
    "* `step`: step number"
   ]
  },
  {
   "cell_type": "markdown",
   "metadata": {},
   "source": [
    "We can define the environment interface for `Backgammon` as follows:"
   ]
  },
  {
   "cell_type": "code",
   "execution_count": 3,
   "metadata": {},
   "outputs": [],
   "source": [
    "import chex\n",
    "from bg.bgcommon import bg_step_fn\n",
    "from functools import partial\n",
    "step_fn = partial(bg_step_fn, env)\n",
    "\n",
    "def init_fn(key):\n",
    "    \"\"\"Initializes a new environment state.\"\"\"\n",
    "    state = env.init(key)\n",
    "    # No need to force non-stochastic, let the environment handle it\n",
    "    return state, StepMetadata(\n",
    "        rewards=state.rewards,\n",
    "        action_mask=state.legal_action_mask,\n",
    "        terminated=state.terminated,\n",
    "        cur_player_id=state.current_player,\n",
    "        step=state._step_count\n",
    "    )"
   ]
  },
  {
   "cell_type": "markdown",
   "metadata": {},
   "source": [
    "Pretty easy!"
   ]
  },
  {
   "cell_type": "markdown",
   "metadata": {},
   "source": [
    "## Neural Network\n",
    "\n",
    "Next, we'll need to define the architecture of the neural network \n",
    "\n",
    "A simple implementation of the residual neural network used in the _AlphaZero_ paper is included for your convenience. \n",
    "\n",
    "You can implement your own architecture using `flax.linen`."
   ]
  },
  {
   "cell_type": "code",
   "execution_count": 4,
   "metadata": {},
   "outputs": [],
   "source": [
    "import jax\n",
    "import jax.numpy as jnp\n",
    "import flax.linen as nn\n",
    "\n",
    "# Pre‑activation ResNet‑V2 block\n",
    "class ResBlockV2(nn.Module):\n",
    "    features: int\n",
    "\n",
    "    @nn.compact\n",
    "    def __call__(self, x):\n",
    "        r = x\n",
    "        x = nn.LayerNorm()(x)\n",
    "        x = nn.relu(x)\n",
    "        x = nn.Dense(self.features, use_bias=False)(x)\n",
    "        x = nn.LayerNorm()(x)\n",
    "        x = nn.relu(x)\n",
    "        x = nn.Dense(self.features, use_bias=False)(x)\n",
    "        return x + r\n",
    "\n",
    "class ResNetTurboZero(nn.Module):\n",
    "    num_actions: int            # 156 here\n",
    "    hidden_dim: int = 256\n",
    "    num_blocks: int = 10\n",
    "\n",
    "    @nn.compact\n",
    "    def __call__(self, x, train: bool = False):\n",
    "        # 1) ResNet tower\n",
    "        x = nn.Dense(self.hidden_dim, use_bias=False)(x)\n",
    "        x = nn.LayerNorm()(x)\n",
    "        x = nn.relu(x)\n",
    "        for _ in range(self.num_blocks):\n",
    "            x = ResBlockV2(self.hidden_dim)(x)\n",
    "\n",
    "        # 2) Policy head: single Dense into 156 logits\n",
    "        policy_logits = nn.Dense(self.num_actions)(x)\n",
    "\n",
    "        # 3) Value head\n",
    "        v = nn.LayerNorm()(x)\n",
    "        v = nn.relu(v)\n",
    "        v = nn.Dense(1)(v)\n",
    "        v = jnp.squeeze(v, -1)\n",
    "\n",
    "        return policy_logits, v\n",
    "    \n",
    "\n",
    "resnet_model = ResNetTurboZero(\n",
    "    num_actions=env.num_actions,  # i.e. micro_steps*(micro_src + micro_die)\n",
    "    hidden_dim=256,\n",
    "    num_blocks=10\n",
    ")"
   ]
  },
  {
   "cell_type": "markdown",
   "metadata": {},
   "source": [
    "We also need a way to convert our environment's state into something our neural network can take as input (i.e. structured data -> Array). `pgx` conveniently includes this in `state.observation`, but for other environments you may need to perform the conversion yourself."
   ]
  },
  {
   "cell_type": "code",
   "execution_count": 5,
   "metadata": {},
   "outputs": [],
   "source": [
    "def state_to_nn_input(state):\n",
    "    return state.observation"
   ]
  },
  {
   "cell_type": "markdown",
   "metadata": {},
   "source": [
    "## Evaluator\n",
    "\n",
    "Next, we can initialize our evaluator, AlphaZero, which takes the following parameters:\n",
    "\n",
    "* `eval_fn`: function used to evaluate a leaf node (returns a policy and value)\n",
    "* `num_iterations`: number of MCTS iterations to run before returning the final policy\n",
    "* `max_nodes`: maximum capacity of search tree\n",
    "* `branching_factor`: branching factor of search tree == policy_size\n",
    "* `action_selector`: the algorithm used to select an action to take at any given search node, choose between:\n",
    "    * `PUCTSelector`: AlphaZero action selection algorithm\n",
    "    * `MuZeroPUCTSelector`: MuZero action selection algorithm\n",
    "    * or write your own! :)\n",
    "\n",
    "There are also a few other optional parameters, a few of the important ones are:\n",
    "* `temperature`: temperature applied to move probabilities prior to sampling (0.0 == argmax, ->inf == completely random sampling). I reccommend setting this to 1.0 for training (default) and 0.0 for evaluation.\n",
    "* `dirichlet_alpha`: magnitude of Dirichlet noise to add to root policy (default 0.3). Generally, the more actions are possible in a game, the smaller this value should be. \n",
    "* `dirichlet_epsilon`: proportion of root policy composed of Dirichlet noise (default 0.25)\n",
    "\n",
    "\n",
    "We use `make_nn_eval_fn` to create a leaf evaluation function that uses our neural network to generate a policy and a value for the given state. "
   ]
  },
  {
   "cell_type": "code",
   "execution_count": 6,
   "metadata": {},
   "outputs": [],
   "source": [
    "\n",
    "from core.evaluators.evaluation_fns import make_nn_eval_fn\n",
    "from core.evaluators.mcts.action_selection import PUCTSelector\n",
    "from core.evaluators.mcts.stochastic_mcts import StochasticMCTS\n",
    "import jax.numpy as jnp\n",
    "\n",
    "# Training evaluator: StochasticMCTS using NN\n",
    "evaluator = StochasticMCTS(   #Explores new moves\n",
    "    eval_fn=make_nn_eval_fn(resnet_model, state_to_nn_input),\n",
    "    stochastic_action_probs=env.stochastic_action_probs,\n",
    "    num_iterations=300,  \n",
    "    max_nodes=1000,      \n",
    "    branching_factor=env.num_actions,\n",
    "    action_selector=PUCTSelector(),\n",
    "    temperature=0.7,\n",
    ")"
   ]
  },
  {
   "cell_type": "markdown",
   "metadata": {},
   "source": [
    "We also define a separate evaluator with different parameters to use for testing purposes. We'll give this one a larger budget (num_iterations), and set the temperature to zero so it always chooses the most-visited action after search is complete."
   ]
  },
  {
   "cell_type": "code",
   "execution_count": 7,
   "metadata": {},
   "outputs": [],
   "source": [
    "\n",
    "evaluator_test = StochasticMCTS(   #Use optimized moves, temperature=0.0\n",
    "    eval_fn=make_nn_eval_fn(resnet_model, state_to_nn_input),\n",
    "    stochastic_action_probs=env.stochastic_action_probs,\n",
    "    num_iterations=300,  # Very few iterations\n",
    "    max_nodes=1000,      # Very small tree\n",
    "    branching_factor=env.num_actions,\n",
    "    action_selector=PUCTSelector(),\n",
    "    temperature=0.0,\n",
    ")"
   ]
  },
  {
   "cell_type": "markdown",
   "metadata": {},
   "source": [
    "We can use similar ideas to write a greedy baseline evaluation function, one that doesn't use a neural network at all!\n",
    "\n",
    "Instead, it simply counts the number of tiles for the active player and compares it to the number of tiles controlled by the other player, so the value is higher for states where the active player controls more tiles than the other player.\n",
    "\n",
    "Using similar techniques as before, we can create another AlphaZero evaluator to test against."
   ]
  },
  {
   "cell_type": "code",
   "execution_count": 8,
   "metadata": {},
   "outputs": [],
   "source": [
    "from core.evaluators.evaluation_fns import make_nn_eval_fn_no_params_callable\n",
    "import chex\n",
    "from bg.bgcommon import bg_hit2_eval\n",
    "\n",
    "\n",
    "# Test evaluator: Regular MCTS using pip count\n",
    "pip_count_mcts_evaluator_test = StochasticMCTS(  # optimizes for moves\n",
    "    eval_fn=bg_hit2_eval, # Use pip count eval fn\n",
    "    stochastic_action_probs=env.stochastic_action_probs,\n",
    "    num_iterations=30, # Give it slightly more iterations maybe\n",
    "    max_nodes=100,\n",
    "    branching_factor=env.num_actions,\n",
    "    action_selector=PUCTSelector(),\n",
    "    temperature=0.0 # Deterministic action selection for testing\n",
    ")"
   ]
  },
  {
   "cell_type": "markdown",
   "metadata": {},
   "source": [
    "## Replay Memory Buffer\n",
    "\n",
    "Next, we'll initialize a replay memory buffer to hold selfplay trajectories that we can sample from during training. This actually just defines an interface, the buffer state itself will be initialized and managed internally.\n",
    "\n",
    "The replay buffer is batched, it retains a buffer of trajectories across a batch dimension. We specify a `capacity`: the amount of samples stored in a single buffer. The total capacity of the entire replay buffer is then `batch_size * capacity`, where `batch_size` is the number of environments/self-play games being run in parallel."
   ]
  },
  {
   "cell_type": "code",
   "execution_count": 9,
   "metadata": {},
   "outputs": [],
   "source": [
    "from core.memory.replay_memory import EpisodeReplayBuffer\n",
    "\n",
    "replay_memory = EpisodeReplayBuffer(capacity=5000)"
   ]
  },
  {
   "cell_type": "markdown",
   "metadata": {},
   "source": [
    "## Rendering\n",
    "We can optionally provide a `render_fn` that will record games played by our model against one of the baselines and save it as a `.gif`.\n",
    "\n",
    "I've included a helper fn that takes care of this:"
   ]
  },
  {
   "cell_type": "markdown",
   "metadata": {},
   "source": [
    "This helper function depends upon cairoSVG, which itself depends upon `cairo`, which you'll need to install on your system.\n",
    "\n",
    "On Ubuntu, this can be done with:"
   ]
  },
  {
   "cell_type": "code",
   "execution_count": 10,
   "metadata": {},
   "outputs": [
    {
     "name": "stdout",
     "output_type": "stream",
     "text": [
      "\r",
      "Reading package lists... 0%\r",
      "\r",
      "Reading package lists... 100%\r",
      "\r",
      "Reading package lists... Done\r",
      "\r\n",
      "E: Could not open lock file /var/lib/apt/lists/lock - open (13: Permission denied)\r\n",
      "E: Unable to lock directory /var/lib/apt/lists/\r\n",
      "W: Problem unlinking the file /var/cache/apt/pkgcache.bin - RemoveCaches (13: Permission denied)\r\n",
      "W: Problem unlinking the file /var/cache/apt/srcpkgcache.bin - RemoveCaches (13: Permission denied)\r\n"
     ]
    },
    {
     "name": "stderr",
     "output_type": "stream",
     "text": [
      "/home/sile/.pyenv/versions/3.12.8/lib/python3.12/pty.py:95: RuntimeWarning: os.fork() was called. os.fork() is incompatible with multithreaded code, and JAX is multithreaded, so this will likely lead to a deadlock.\n",
      "  pid, fd = os.forkpty()\n"
     ]
    }
   ],
   "source": [
    "! apt-get update && apt-get -y install libcairo2-dev"
   ]
  },
  {
   "cell_type": "markdown",
   "metadata": {},
   "source": [
    "If you're on another OS, consult https://www.cairographics.org/download/ for installation guidelines"
   ]
  },
  {
   "cell_type": "code",
   "execution_count": 11,
   "metadata": {},
   "outputs": [],
   "source": [
    "from functools import partial\n",
    "from core.testing.utils import render_pgx_2p\n",
    "render_fn = partial(render_pgx_2p, p1_label='Black', p2_label='White', duration=1200)\n"
   ]
  },
  {
   "cell_type": "markdown",
   "metadata": {},
   "source": [
    "## Trainer Initialization\n",
    "Now that we have all the proper pieces defined, we are ready to initialize a Trainer and start training!\n",
    "\n",
    "The `Trainer` takes many parameters, so let's walk through them all:\n",
    "* `batch_size`: # of parallel environments used to collect self-play games\n",
    "* `train_batch_size`: size of minibatch used during training step\n",
    "* `warmup_steps`: # of steps (per batch) to collect via self-play prior to entering the training loop. This is used to populate the replay memory with some initial samples\n",
    "* `collection_steps_per_epoch`: # of steps (per batch) to collect via self-play per epoch\n",
    "* `train_steps_per_epoch`: # of train steps per epoch\n",
    "* `nn`: neural network (`linen.Module`)\n",
    "* `loss_fn`: loss function used for training, we use a provided default loss which implements the loss function used in the `AlphaZero` paper\n",
    "* `optimizer`: an `optax` optimizer used for training\n",
    "* `evaluator`: the `Evaluator` to use during self-play, we initialized ours using `AlphaZero(MCTS)`\n",
    "* `memory_buffer`: the memory buffer used to store samples from self-play games, we  initialized ours using `EpisodeReplayBuffer`\n",
    "* `max_episode_steps`: maximum number of steps/turns to allow before truncating an episode\n",
    "* `env_step_fn`: environment step function (we defined ours above)\n",
    "* `env_init_fn`: environment init function (we defined ours above)\n",
    "* `state_to_nn_input_fn`: function to convert environment state to nn input (we defined ours above)\n",
    "* `testers`: any number of `Tester`s, used to evaluate a given model and take their own parameters. We'll use the two evaluators defined above to initialize two Testers.\n",
    "* `evaluator_test`: (Optional) Evaluator used within Testers. By default used `evaluator`, but sometimes you may want to test with a larger MCTS iteration budget for example, or a different move sampling temperature\n",
    "* `data_transform_fns`: (optional) list of data transform functions to apply to self-play experiences (e.g. rotation, reflection, etc.)\n",
    "* `extract_model_params_fn`: (Optional) in special cases we need to define how to extract all model parameters from a flax `TrainState`. The default function handles BatchNorm, but if another special-case technique applied across batches is used (e.g. Dropout) we would need to define a function to extract the appropriate parameters. You usually won't need to define this!\n",
    "* `wandb_project_name`: (Optional) Weights and Biases project name. You will be prompted to login if a name is provided. If a name is provided, a run will be initialized and loss and other metrics will be logged to the given wandb project.\n",
    "* `ckpt_dir`: (Optional) directory to store checkpoints in, by default this is set to `/tmp/turbozero_checkpoints`\n",
    "* `max_checkpoints`: (Optional) maximum number of most-recent checkpoints to retain (default: 2)\n",
    "* `num_devices`: (Optional) number of hardware accelerators (GPUs/TPUs) to use. If not given, all available hardware accelerators are used\n",
    "* `wandb_run`: (Optional) continues from an initialized `wandb` run if provided, otherwise a new one is initialized\n",
    "* `extra_wandb_config`: (Optional) any extra metadata to store in the `wandb` run config\n",
    "\n",
    "A training epoch is comprised of M collection steps, followed by N training steps sampling minibatches from replay memory. Optionally, any number of Testers evaluate the current model. At the end of each epoch, a checkpoint is saved.\n",
    "\n",
    "If you are using one or more GPUs (reccommended), TurboZero by default will run on all your available hardware."
   ]
  },
  {
   "cell_type": "code",
   "execution_count": 12,
   "metadata": {},
   "outputs": [
    {
     "name": "stderr",
     "output_type": "stream",
     "text": [
      "\u001b[34m\u001b[1mwandb\u001b[0m: \u001b[32m\u001b[41mERROR\u001b[0m Failed to detect the name of this notebook. You can set it manually with the WANDB_NOTEBOOK_NAME environment variable to enable code saving.\n",
      "\u001b[34m\u001b[1mwandb\u001b[0m: Currently logged in as: \u001b[33msile16\u001b[0m (\u001b[33msile16-self\u001b[0m) to \u001b[32mhttps://api.wandb.ai\u001b[0m. Use \u001b[1m`wandb login --relogin`\u001b[0m to force relogin\n"
     ]
    },
    {
     "data": {
      "text/html": [
       "Tracking run with wandb version 0.19.11"
      ],
      "text/plain": [
       "<IPython.core.display.HTML object>"
      ]
     },
     "metadata": {},
     "output_type": "display_data"
    },
    {
     "data": {
      "text/html": [
       "Run data is saved locally in <code>/home/sile/github/turbozero/notebooks/wandb/run-20250515_113857-zejifo9b</code>"
      ],
      "text/plain": [
       "<IPython.core.display.HTML object>"
      ]
     },
     "metadata": {},
     "output_type": "display_data"
    },
    {
     "data": {
      "text/html": [
       "Syncing run <strong><a href='https://wandb.ai/sile16-self/TurboZero-Backgammon-Notebook/runs/zejifo9b' target=\"_blank\">icy-mountain-12</a></strong> to <a href='https://wandb.ai/sile16-self/TurboZero-Backgammon-Notebook' target=\"_blank\">Weights & Biases</a> (<a href='https://wandb.me/developer-guide' target=\"_blank\">docs</a>)<br>"
      ],
      "text/plain": [
       "<IPython.core.display.HTML object>"
      ]
     },
     "metadata": {},
     "output_type": "display_data"
    },
    {
     "data": {
      "text/html": [
       " View project at <a href='https://wandb.ai/sile16-self/TurboZero-Backgammon-Notebook' target=\"_blank\">https://wandb.ai/sile16-self/TurboZero-Backgammon-Notebook</a>"
      ],
      "text/plain": [
       "<IPython.core.display.HTML object>"
      ]
     },
     "metadata": {},
     "output_type": "display_data"
    },
    {
     "data": {
      "text/html": [
       " View run at <a href='https://wandb.ai/sile16-self/TurboZero-Backgammon-Notebook/runs/zejifo9b' target=\"_blank\">https://wandb.ai/sile16-self/TurboZero-Backgammon-Notebook/runs/zejifo9b</a>"
      ],
      "text/plain": [
       "<IPython.core.display.HTML object>"
      ]
     },
     "metadata": {},
     "output_type": "display_data"
    }
   ],
   "source": [
    "from functools import partial\n",
    "from core.testing.two_player_baseline import TwoPlayerBaseline\n",
    "from core.training.loss_fns import az_default_loss_fn\n",
    "from core.training.stochastic_train import StochasticTrainer\n",
    "from core.training.train import Trainer\n",
    "import optax\n",
    "\n",
    "\n",
    "trainer = StochasticTrainer(\n",
    "    batch_size=1,      \n",
    "    train_batch_size=1,\n",
    "    warmup_steps=0,\n",
    "    collection_steps_per_epoch=512,  \n",
    "    train_steps_per_epoch=512,       \n",
    "    nn=resnet_model,\n",
    "    loss_fn=partial(az_default_loss_fn, l2_reg_lambda=1e-4),\n",
    "    optimizer=optax.adam(1e-4),\n",
    "    # Use the stochastic evaluator for training\n",
    "    evaluator=evaluator, \n",
    "    memory_buffer=replay_memory,\n",
    "    max_episode_steps=500,  # should be enough for most games\n",
    "    env_step_fn=step_fn,\n",
    "    env_init_fn=init_fn,\n",
    "    state_to_nn_input_fn=state_to_nn_input,\n",
    "    ckpt_dir = \"/tmp/ckpts\",\n",
    "    testers=[\n",
    "        # Use our custom BackgammonTwoPlayerBaseline\n",
    "        TwoPlayerBaseline(\n",
    "            num_episodes=30,\n",
    "            baseline_evaluator=pip_count_mcts_evaluator_test,\n",
    "            #render_fn=render_fn,\n",
    "            #render_dir='training_eval/pip_count_baseline',\n",
    "            name='hit2_eval'\n",
    "        )\n",
    "    ],\n",
    "    # Use the pip count MCTS evaluator for testing\n",
    "    evaluator_test=evaluator_test, \n",
    "    data_transform_fns=[],  # No data transforms as requested\n",
    "    wandb_project_name=\"TurboZero-Backgammon-Notebook\"\n",
    ")"
   ]
  },
  {
   "cell_type": "markdown",
   "metadata": {},
   "source": [
    "## Training\n",
    "\n",
    "Now all that's left to do is to kick off the training loop! We need to pass an initial seed for reproducibility, and the number of epochs to run for!\n",
    "\n",
    "If you've set up `wandb`, you can track metrics via plots in the run dashboard. Metrics will also be printed to the console. \n",
    "\n",
    "IMPORTANT: The first epoch will not execute quickly! This is because there is significant overhead in JAX compilation (nearly all of the training loop is JIT-compiled). This will cause the first epoch to run very slowly, as JIT-compiled functions are traced and compiled the first time they are run. Expect epochs after the first to execute much more quickly. Typically, GPU utilization will also be low/zero during this period.\n",
    "\n",
    "It's also worth mentioning that the hyperparameters in this notebook are just here for example purposes. Regardless of the task, they will need to be tuned according to the characteristics of the environment as well as your available hardware and time/cost constraints."
   ]
  },
  {
   "cell_type": "code",
   "execution_count": 13,
   "metadata": {},
   "outputs": [
    {
     "ename": "AssertionError",
     "evalue": "[Chex] Assertion assert_equal_shape failed: Arrays have different shapes: [(), (1,)].",
     "output_type": "error",
     "traceback": [
      "\u001b[31m---------------------------------------------------------------------------\u001b[39m",
      "\u001b[31mAssertionError\u001b[39m                            Traceback (most recent call last)",
      "\u001b[36mCell\u001b[39m\u001b[36m \u001b[39m\u001b[32mIn[13]\u001b[39m\u001b[32m, line 1\u001b[39m\n\u001b[32m----> \u001b[39m\u001b[32m1\u001b[39m output = \u001b[43mtrainer\u001b[49m\u001b[43m.\u001b[49m\u001b[43mtrain_loop\u001b[49m\u001b[43m(\u001b[49m\u001b[43mseed\u001b[49m\u001b[43m=\u001b[49m\u001b[32;43m0\u001b[39;49m\u001b[43m,\u001b[49m\u001b[43m \u001b[49m\u001b[43mnum_epochs\u001b[49m\u001b[43m=\u001b[49m\u001b[32;43m50\u001b[39;49m\u001b[43m,\u001b[49m\u001b[43m \u001b[49m\u001b[43meval_every\u001b[49m\u001b[43m=\u001b[49m\u001b[32;43m5\u001b[39;49m\u001b[43m)\u001b[49m\n",
      "\u001b[36mFile \u001b[39m\u001b[32m~/github/turbozero/core/training/train.py:707\u001b[39m, in \u001b[36mTrainer.train_loop\u001b[39m\u001b[34m(self, seed, num_epochs, eval_every, initial_state)\u001b[39m\n\u001b[32m    705\u001b[39m train_start_time = time.time()\n\u001b[32m    706\u001b[39m train_key, key = jax.random.split(key)\n\u001b[32m--> \u001b[39m\u001b[32m707\u001b[39m collection_state, train_state, metrics = \u001b[38;5;28;43mself\u001b[39;49m\u001b[43m.\u001b[49m\u001b[43mtrain_steps\u001b[49m\u001b[43m(\u001b[49m\u001b[43mtrain_key\u001b[49m\u001b[43m,\u001b[49m\u001b[43m \u001b[49m\u001b[43mcollection_state\u001b[49m\u001b[43m,\u001b[49m\u001b[43m \u001b[49m\u001b[43mtrain_state\u001b[49m\u001b[43m,\u001b[49m\u001b[43m \u001b[49m\u001b[38;5;28;43mself\u001b[39;49m\u001b[43m.\u001b[49m\u001b[43mtrain_steps_per_epoch\u001b[49m\u001b[43m)\u001b[49m\n\u001b[32m    709\u001b[39m train_duration = time.time() - train_start_time\n\u001b[32m    710\u001b[39m metrics[\u001b[33m\"\u001b[39m\u001b[33mperf/train_time_sec\u001b[39m\u001b[33m\"\u001b[39m] = train_duration\n",
      "\u001b[36mFile \u001b[39m\u001b[32m~/github/turbozero/core/training/train.py:444\u001b[39m, in \u001b[36mTrainer.train_steps\u001b[39m\u001b[34m(self, key, collection_state, train_state, num_steps)\u001b[39m\n\u001b[32m    442\u001b[39m batch = jax.tree.map(\u001b[38;5;28;01mlambda\u001b[39;00m x: x.reshape((\u001b[38;5;28mself\u001b[39m.num_devices, -\u001b[32m1\u001b[39m, *x.shape[\u001b[32m1\u001b[39m:])), batch)\n\u001b[32m    443\u001b[39m \u001b[38;5;66;03m# make training step\u001b[39;00m\n\u001b[32m--> \u001b[39m\u001b[32m444\u001b[39m train_state, metrics = \u001b[38;5;28;43mself\u001b[39;49m\u001b[43m.\u001b[49m\u001b[43mone_train_step\u001b[49m\u001b[43m(\u001b[49m\u001b[43mtrain_state\u001b[49m\u001b[43m,\u001b[49m\u001b[43m \u001b[49m\u001b[43mbatch\u001b[49m\u001b[43m)\u001b[49m\n\u001b[32m    445\u001b[39m \u001b[38;5;66;03m# append metrics from step\u001b[39;00m\n\u001b[32m    446\u001b[39m \u001b[38;5;28;01mif\u001b[39;00m metrics:\n",
      "    \u001b[31m[... skipping hidden 15 frame]\u001b[39m\n",
      "\u001b[36mFile \u001b[39m\u001b[32m~/github/turbozero/core/training/train.py:396\u001b[39m, in \u001b[36mTrainer.one_train_step\u001b[39m\u001b[34m(self, ts, batch)\u001b[39m\n\u001b[32m    394\u001b[39m \u001b[38;5;66;03m# calculate loss, get gradients\u001b[39;00m\n\u001b[32m    395\u001b[39m grad_fn = jax.value_and_grad(\u001b[38;5;28mself\u001b[39m.loss_fn, has_aux=\u001b[38;5;28;01mTrue\u001b[39;00m)\n\u001b[32m--> \u001b[39m\u001b[32m396\u001b[39m (loss, (metrics, updates)), grads = \u001b[43mgrad_fn\u001b[49m\u001b[43m(\u001b[49m\u001b[43mts\u001b[49m\u001b[43m.\u001b[49m\u001b[43mparams\u001b[49m\u001b[43m,\u001b[49m\u001b[43m \u001b[49m\u001b[43mts\u001b[49m\u001b[43m,\u001b[49m\u001b[43m \u001b[49m\u001b[43mbatch\u001b[49m\u001b[43m)\u001b[49m\n\u001b[32m    397\u001b[39m \u001b[38;5;66;03m# apply gradients\u001b[39;00m\n\u001b[32m    398\u001b[39m grads = jax.lax.pmean(grads, axis_name=\u001b[33m'\u001b[39m\u001b[33md\u001b[39m\u001b[33m'\u001b[39m)\n",
      "    \u001b[31m[... skipping hidden 16 frame]\u001b[39m\n",
      "\u001b[36mFile \u001b[39m\u001b[32m~/github/turbozero/core/training/loss_fns.py:75\u001b[39m, in \u001b[36maz_default_loss_fn\u001b[39m\u001b[34m(params, train_state, experience, l2_reg_lambda)\u001b[39m\n\u001b[32m     73\u001b[39m target_value = experience.reward[jnp.arange(experience.reward.shape[\u001b[32m0\u001b[39m]), current_player]\n\u001b[32m     74\u001b[39m \u001b[38;5;66;03m# compute MSE value loss\u001b[39;00m\n\u001b[32m---> \u001b[39m\u001b[32m75\u001b[39m value_loss = \u001b[43moptax\u001b[49m\u001b[43m.\u001b[49m\u001b[43ml2_loss\u001b[49m\u001b[43m(\u001b[49m\u001b[43mpred_value\u001b[49m\u001b[43m.\u001b[49m\u001b[43msqueeze\u001b[49m\u001b[43m(\u001b[49m\u001b[43m)\u001b[49m\u001b[43m,\u001b[49m\u001b[43m \u001b[49m\u001b[43mtarget_value\u001b[49m\u001b[43m)\u001b[49m.mean()\n\u001b[32m     77\u001b[39m \u001b[38;5;66;03m# compute L2 regularization\u001b[39;00m\n\u001b[32m     78\u001b[39m l2_reg = l2_reg_lambda * jax.tree_util.tree_reduce(\n\u001b[32m     79\u001b[39m     \u001b[38;5;28;01mlambda\u001b[39;00m x, y: x + y,\n\u001b[32m     80\u001b[39m     jax.tree.map(\n\u001b[32m   (...)\u001b[39m\u001b[32m     83\u001b[39m     )\n\u001b[32m     84\u001b[39m )\n",
      "\u001b[36mFile \u001b[39m\u001b[32m~/.cache/pypoetry/virtualenvs/turbozero-xeK5_s1I-py3.12/lib/python3.12/site-packages/optax/losses/_regression.py:71\u001b[39m, in \u001b[36ml2_loss\u001b[39m\u001b[34m(predictions, targets)\u001b[39m\n\u001b[32m     53\u001b[39m \u001b[38;5;28;01mdef\u001b[39;00m\u001b[38;5;250m \u001b[39m\u001b[34ml2_loss\u001b[39m(\n\u001b[32m     54\u001b[39m     predictions: chex.Array,\n\u001b[32m     55\u001b[39m     targets: Optional[chex.Array] = \u001b[38;5;28;01mNone\u001b[39;00m,\n\u001b[32m     56\u001b[39m ) -> chex.Array:\n\u001b[32m     57\u001b[39m \u001b[38;5;250m  \u001b[39m\u001b[33;03m\"\"\"Calculates the L2 loss for a set of predictions.\u001b[39;00m\n\u001b[32m     58\u001b[39m \n\u001b[32m     59\u001b[39m \u001b[33;03m  Args:\u001b[39;00m\n\u001b[32m   (...)\u001b[39m\u001b[32m     69\u001b[39m \u001b[33;03m    by Bishop, but not \"The Elements of Statistical Learning\" by Tibshirani.\u001b[39;00m\n\u001b[32m     70\u001b[39m \u001b[33;03m  \"\"\"\u001b[39;00m\n\u001b[32m---> \u001b[39m\u001b[32m71\u001b[39m   \u001b[38;5;28;01mreturn\u001b[39;00m \u001b[32m0.5\u001b[39m * \u001b[43msquared_error\u001b[49m\u001b[43m(\u001b[49m\u001b[43mpredictions\u001b[49m\u001b[43m,\u001b[49m\u001b[43m \u001b[49m\u001b[43mtargets\u001b[49m\u001b[43m)\u001b[49m\n",
      "\u001b[36mFile \u001b[39m\u001b[32m~/.cache/pypoetry/virtualenvs/turbozero-xeK5_s1I-py3.12/lib/python3.12/site-packages/optax/losses/_regression.py:48\u001b[39m, in \u001b[36msquared_error\u001b[39m\u001b[34m(predictions, targets)\u001b[39m\n\u001b[32m     45\u001b[39m chex.assert_type([predictions], \u001b[38;5;28mfloat\u001b[39m)\n\u001b[32m     46\u001b[39m \u001b[38;5;28;01mif\u001b[39;00m targets \u001b[38;5;129;01mis\u001b[39;00m \u001b[38;5;129;01mnot\u001b[39;00m \u001b[38;5;28;01mNone\u001b[39;00m:\n\u001b[32m     47\u001b[39m   \u001b[38;5;66;03m# Avoid broadcasting logic for \"-\" operator.\u001b[39;00m\n\u001b[32m---> \u001b[39m\u001b[32m48\u001b[39m   \u001b[43mchex\u001b[49m\u001b[43m.\u001b[49m\u001b[43massert_equal_shape\u001b[49m\u001b[43m(\u001b[49m\u001b[43m(\u001b[49m\u001b[43mpredictions\u001b[49m\u001b[43m,\u001b[49m\u001b[43m \u001b[49m\u001b[43mtargets\u001b[49m\u001b[43m)\u001b[49m\u001b[43m)\u001b[49m\n\u001b[32m     49\u001b[39m errors = predictions - targets \u001b[38;5;28;01mif\u001b[39;00m targets \u001b[38;5;129;01mis\u001b[39;00m \u001b[38;5;129;01mnot\u001b[39;00m \u001b[38;5;28;01mNone\u001b[39;00m \u001b[38;5;28;01melse\u001b[39;00m predictions\n\u001b[32m     50\u001b[39m \u001b[38;5;28;01mreturn\u001b[39;00m errors**\u001b[32m2\u001b[39m\n",
      "\u001b[36mFile \u001b[39m\u001b[32m~/.cache/pypoetry/virtualenvs/turbozero-xeK5_s1I-py3.12/lib/python3.12/site-packages/chex/_src/asserts_internal.py:279\u001b[39m, in \u001b[36mchex_assertion.<locals>._chex_assert_fn\u001b[39m\u001b[34m(custom_message, custom_message_format_vars, include_default_message, exception_type, *args, **kwargs)\u001b[39m\n\u001b[32m    277\u001b[39m \u001b[38;5;28;01melse\u001b[39;00m:\n\u001b[32m    278\u001b[39m   \u001b[38;5;28;01mtry\u001b[39;00m:\n\u001b[32m--> \u001b[39m\u001b[32m279\u001b[39m     \u001b[43mhost_assertion_fn\u001b[49m\u001b[43m(\u001b[49m\n\u001b[32m    280\u001b[39m \u001b[43m        \u001b[49m\u001b[43m*\u001b[49m\u001b[43margs\u001b[49m\u001b[43m,\u001b[49m\n\u001b[32m    281\u001b[39m \u001b[43m        \u001b[49m\u001b[43mcustom_message\u001b[49m\u001b[43m=\u001b[49m\u001b[43mcustom_message\u001b[49m\u001b[43m,\u001b[49m\n\u001b[32m    282\u001b[39m \u001b[43m        \u001b[49m\u001b[43mcustom_message_format_vars\u001b[49m\u001b[43m=\u001b[49m\u001b[43mcustom_message_format_vars\u001b[49m\u001b[43m,\u001b[49m\n\u001b[32m    283\u001b[39m \u001b[43m        \u001b[49m\u001b[43minclude_default_message\u001b[49m\u001b[43m=\u001b[49m\u001b[43minclude_default_message\u001b[49m\u001b[43m,\u001b[49m\n\u001b[32m    284\u001b[39m \u001b[43m        \u001b[49m\u001b[43mexception_type\u001b[49m\u001b[43m=\u001b[49m\u001b[43mexception_type\u001b[49m\u001b[43m,\u001b[49m\n\u001b[32m    285\u001b[39m \u001b[43m        \u001b[49m\u001b[43m*\u001b[49m\u001b[43m*\u001b[49m\u001b[43mkwargs\u001b[49m\u001b[43m)\u001b[49m\n\u001b[32m    286\u001b[39m   \u001b[38;5;28;01mexcept\u001b[39;00m jax.errors.ConcretizationTypeError \u001b[38;5;28;01mas\u001b[39;00m exc:\n\u001b[32m    287\u001b[39m     msg = (\u001b[33m\"\u001b[39m\u001b[33mChex assertion detected `ConcretizationTypeError`: it is very \u001b[39m\u001b[33m\"\u001b[39m\n\u001b[32m    288\u001b[39m            \u001b[33m\"\u001b[39m\u001b[33mlikely that it tried to access tensors\u001b[39m\u001b[33m'\u001b[39m\u001b[33m values during tracing. \u001b[39m\u001b[33m\"\u001b[39m\n\u001b[32m    289\u001b[39m            \u001b[33m\"\u001b[39m\u001b[33mMake sure that you defined a jittable version of this chex \u001b[39m\u001b[33m\"\u001b[39m\n\u001b[32m    290\u001b[39m            \u001b[33m\"\u001b[39m\u001b[33massertion; if that does not help, please file a bug.\u001b[39m\u001b[33m\"\u001b[39m)\n",
      "\u001b[36mFile \u001b[39m\u001b[32m~/.cache/pypoetry/virtualenvs/turbozero-xeK5_s1I-py3.12/lib/python3.12/site-packages/chex/_src/asserts_internal.py:197\u001b[39m, in \u001b[36m_make_host_assertion.<locals>._assert_on_host\u001b[39m\u001b[34m(custom_message, custom_message_format_vars, include_default_message, exception_type, *args, **kwargs)\u001b[39m\n\u001b[32m    194\u001b[39m     custom_message = custom_message.format(*custom_message_format_vars)\n\u001b[32m    195\u001b[39m   error_msg = \u001b[33mf\u001b[39m\u001b[33m\"\u001b[39m\u001b[38;5;132;01m{\u001b[39;00merror_msg\u001b[38;5;132;01m}\u001b[39;00m\u001b[33m [\u001b[39m\u001b[38;5;132;01m{\u001b[39;00mcustom_message\u001b[38;5;132;01m}\u001b[39;00m\u001b[33m]\u001b[39m\u001b[33m\"\u001b[39m\n\u001b[32m--> \u001b[39m\u001b[32m197\u001b[39m \u001b[38;5;28;01mraise\u001b[39;00m exception_type(error_msg)\n",
      "\u001b[31mAssertionError\u001b[39m: [Chex] Assertion assert_equal_shape failed: Arrays have different shapes: [(), (1,)]."
     ]
    }
   ],
   "source": [
    "output = trainer.train_loop(seed=0, num_epochs=50, eval_every=5)"
   ]
  },
  {
   "cell_type": "markdown",
   "metadata": {},
   "source": [
    "and GIFs generated will appear in the same directory as this notebook, and also on your `wandb` dashboard."
   ]
  },
  {
   "cell_type": "code",
   "execution_count": null,
   "metadata": {},
   "outputs": [],
   "source": []
  }
 ],
 "metadata": {
  "kernelspec": {
   "display_name": "turbozero",
   "language": "python",
   "name": "turbozero"
  },
  "language_info": {
   "codemirror_mode": {
    "name": "ipython",
    "version": 3
   },
   "file_extension": ".py",
   "mimetype": "text/x-python",
   "name": "python",
   "nbconvert_exporter": "python",
   "pygments_lexer": "ipython3",
   "version": "3.12.8"
  }
 },
 "nbformat": 4,
 "nbformat_minor": 2
}
