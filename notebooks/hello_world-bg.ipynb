{
 "cells": [
  {
   "cell_type": "markdown",
   "metadata": {},
   "source": [
    "# Hello World, TurboZero Backgammon 🏁"
   ]
  },
  {
   "cell_type": "markdown",
   "metadata": {},
   "source": [
    "`turbozero` provides a vectorized implementation of AlphaZero. \n",
    "\n",
    "In a nutshell, this means we can massively speed up training, by collecting many self-play games and running Monte Carlo Tree Search in parallel across one or more GPUs!\n",
    "\n",
    "As the user, you just need to provide:\n",
    "* environment dynamics functions (step and init) that adhere to the TurboZero spec\n",
    "* a conversion function for environment state -> neural net input\n",
    "* and a few hyperparameters!\n",
    "\n",
    "TurboZero takes care of the rest. 😀 "
   ]
  },
  {
   "cell_type": "markdown",
   "metadata": {},
   "source": [
    "## Getting Started\n",
    "\n",
    "Follow the instructions in the repo readme to properly install dependencies and set up your environment."
   ]
  },
  {
   "cell_type": "markdown",
   "metadata": {},
   "source": [
    "## Environments\n",
    "\n",
    "In order to take advantage of the batched implementation of AlphaZero, we need to pair it with a vectorized environment.\n",
    "\n",
    "Fortunately, there are many great vectorized RL environment libraries, one I like in particular is [pgx](https://github.com/sotetsuk/pgx)."
   ]
  },
  {
   "cell_type": "code",
   "execution_count": 3,
   "metadata": {},
   "outputs": [
    {
     "name": "stdout",
     "output_type": "stream",
     "text": [
      "Jax Version:  0.5.3\n",
      "Default backend: gpu\n",
      "0.5.3\n",
      "True\n",
      "156\n",
      "[0.16666667 0.16666667 0.16666667 0.16666667 0.16666667 0.16666667]\n"
     ]
    },
    {
     "data": {
      "text/html": [
       "<svg baseProfile=\"full\" height=\"375.0\" version=\"1.1\" width=\"450.0\" xmlns=\"http://www.w3.org/2000/svg\" xmlns:ev=\"http://www.w3.org/2001/xml-events\" xmlns:xlink=\"http://www.w3.org/1999/xlink\"><defs /><rect fill=\"white\" height=\"425\" width=\"575\" x=\"0\" y=\"0\" /><g transform=\"scale(1.0)\"><rect fill=\"white\" height=\"375\" width=\"450\" x=\"0\" y=\"0\" /><g transform=\"translate(12.5,12.5)\"><polygon fill=\"white\" points=\"0,0 25,0 12.5,150\" stroke=\"gray\" /><polygon fill=\"gray\" points=\"25,0 50,0 37.5,150\" stroke=\"gray\" /><polygon fill=\"white\" points=\"50,0 75,0 62.5,150\" stroke=\"gray\" /><polygon fill=\"gray\" points=\"75,0 100,0 87.5,150\" stroke=\"gray\" /><polygon fill=\"white\" points=\"100,0 125,0 112.5,150\" stroke=\"gray\" /><polygon fill=\"gray\" points=\"125,0 150,0 137.5,150\" stroke=\"gray\" /><polygon fill=\"white\" points=\"175,0 200,0 187.5,150\" stroke=\"gray\" /><polygon fill=\"gray\" points=\"200,0 225,0 212.5,150\" stroke=\"gray\" /><polygon fill=\"white\" points=\"225,0 250,0 237.5,150\" stroke=\"gray\" /><polygon fill=\"gray\" points=\"250,0 275,0 262.5,150\" stroke=\"gray\" /><polygon fill=\"white\" points=\"275,0 300,0 287.5,150\" stroke=\"gray\" /><polygon fill=\"gray\" points=\"300,0 325,0 312.5,150\" stroke=\"gray\" /><polygon fill=\"gray\" points=\"0,350 25,350 12.5,200\" stroke=\"gray\" /><polygon fill=\"white\" points=\"25,350 50,350 37.5,200\" stroke=\"gray\" /><polygon fill=\"gray\" points=\"50,350 75,350 62.5,200\" stroke=\"gray\" /><polygon fill=\"white\" points=\"75,350 100,350 87.5,200\" stroke=\"gray\" /><polygon fill=\"gray\" points=\"100,350 125,350 112.5,200\" stroke=\"gray\" /><polygon fill=\"white\" points=\"125,350 150,350 137.5,200\" stroke=\"gray\" /><polygon fill=\"gray\" points=\"175,350 200,350 187.5,200\" stroke=\"gray\" /><polygon fill=\"white\" points=\"200,350 225,350 212.5,200\" stroke=\"gray\" /><polygon fill=\"gray\" points=\"225,350 250,350 237.5,200\" stroke=\"gray\" /><polygon fill=\"white\" points=\"250,350 275,350 262.5,200\" stroke=\"gray\" /><polygon fill=\"gray\" points=\"275,350 300,350 287.5,200\" stroke=\"gray\" /><polygon fill=\"white\" points=\"300,350 325,350 312.5,200\" stroke=\"gray\" /><rect fill=\"none\" height=\"350\" stroke=\"black\" width=\"325\" x=\"0\" y=\"0\" /><rect fill=\"none\" height=\"350\" stroke=\"black\" width=\"25\" x=\"150\" y=\"0\" /><circle cx=\"312.5\" cy=\"337.5\" fill=\"black\" r=\"12.5\" stroke=\"black\" /><circle cx=\"312.5\" cy=\"312.5\" fill=\"black\" r=\"12.5\" stroke=\"black\" /><circle cx=\"187.5\" cy=\"337.5\" fill=\"white\" r=\"12.5\" stroke=\"black\" /><circle cx=\"187.5\" cy=\"312.5\" fill=\"white\" r=\"12.5\" stroke=\"black\" /><circle cx=\"187.5\" cy=\"287.5\" fill=\"white\" r=\"12.5\" stroke=\"black\" /><circle cx=\"187.5\" cy=\"262.5\" fill=\"white\" r=\"12.5\" stroke=\"black\" /><circle cx=\"187.5\" cy=\"237.5\" fill=\"white\" r=\"12.5\" stroke=\"black\" /><circle cx=\"112.5\" cy=\"337.5\" fill=\"white\" r=\"12.5\" stroke=\"black\" /><circle cx=\"112.5\" cy=\"312.5\" fill=\"white\" r=\"12.5\" stroke=\"black\" /><circle cx=\"112.5\" cy=\"287.5\" fill=\"white\" r=\"12.5\" stroke=\"black\" /><circle cx=\"12.5\" cy=\"337.5\" fill=\"black\" r=\"12.5\" stroke=\"black\" /><circle cx=\"12.5\" cy=\"312.5\" fill=\"black\" r=\"12.5\" stroke=\"black\" /><circle cx=\"12.5\" cy=\"287.5\" fill=\"black\" r=\"12.5\" stroke=\"black\" /><circle cx=\"12.5\" cy=\"262.5\" fill=\"black\" r=\"12.5\" stroke=\"black\" /><circle cx=\"12.5\" cy=\"237.5\" fill=\"black\" r=\"12.5\" stroke=\"black\" /><circle cx=\"12.5\" cy=\"12.5\" fill=\"white\" r=\"12.5\" stroke=\"black\" /><circle cx=\"12.5\" cy=\"37.5\" fill=\"white\" r=\"12.5\" stroke=\"black\" /><circle cx=\"12.5\" cy=\"62.5\" fill=\"white\" r=\"12.5\" stroke=\"black\" /><circle cx=\"12.5\" cy=\"87.5\" fill=\"white\" r=\"12.5\" stroke=\"black\" /><circle cx=\"12.5\" cy=\"112.5\" fill=\"white\" r=\"12.5\" stroke=\"black\" /><circle cx=\"112.5\" cy=\"12.5\" fill=\"black\" r=\"12.5\" stroke=\"black\" /><circle cx=\"112.5\" cy=\"37.5\" fill=\"black\" r=\"12.5\" stroke=\"black\" /><circle cx=\"112.5\" cy=\"62.5\" fill=\"black\" r=\"12.5\" stroke=\"black\" /><circle cx=\"187.5\" cy=\"12.5\" fill=\"black\" r=\"12.5\" stroke=\"black\" /><circle cx=\"187.5\" cy=\"37.5\" fill=\"black\" r=\"12.5\" stroke=\"black\" /><circle cx=\"187.5\" cy=\"62.5\" fill=\"black\" r=\"12.5\" stroke=\"black\" /><circle cx=\"187.5\" cy=\"87.5\" fill=\"black\" r=\"12.5\" stroke=\"black\" /><circle cx=\"187.5\" cy=\"112.5\" fill=\"black\" r=\"12.5\" stroke=\"black\" /><circle cx=\"312.5\" cy=\"12.5\" fill=\"white\" r=\"12.5\" stroke=\"black\" /><circle cx=\"312.5\" cy=\"37.5\" fill=\"white\" r=\"12.5\" stroke=\"black\" /><rect fill=\"white\" height=\"50\" stroke=\"black\" width=\"100\" x=\"325\" y=\"0\" /><circle cx=\"350\" cy=\"25\" fill=\"black\" r=\"12.5\" stroke=\"black\" /><text fill=\"black\" font-family=\"serif\" font-size=\"34px\" x=\"365.0\" y=\"35.0\">×0</text><rect fill=\"white\" height=\"50\" stroke=\"black\" width=\"100\" x=\"325\" y=\"300\" /><circle cx=\"350\" cy=\"325\" fill=\"white\" r=\"12.5\" stroke=\"black\" /><text fill=\"black\" font-family=\"serif\" font-size=\"34px\" x=\"365.0\" y=\"335.0\">×0</text><text fill=\"black\" font-family=\"sans serif\" font-size=\"44px\" x=\"337.5\" y=\"187.5\">⚀</text><text fill=\"black\" font-family=\"sans serif\" font-size=\"44px\" x=\"370.0\" y=\"187.5\">⚃</text></g></g></svg>"
      ],
      "text/plain": [
       "<IPython.core.display.HTML object>"
      ]
     },
     "metadata": {},
     "output_type": "display_data"
    }
   ],
   "source": [
    "import jax\n",
    "print(\"Jax Version: \",jax.__version__)\n",
    "#jax.config.update('jax_platform_name', 'gpu')\n",
    "from jax.lib import xla_bridge\n",
    "from prompt_toolkit import HTML\n",
    "print(\"Default backend:\", jax.default_backend())\n",
    "\n",
    "import pgx\n",
    "import pgx.backgammon as bg\n",
    "\n",
    "print(jax.__version__)\n",
    "\n",
    "\n",
    "env = bg.Backgammon(simple_doubles=True)\n",
    "print(env.simple_doubles)\n",
    "print(env.num_actions)\n",
    "print(env.stochastic_action_probs)\n",
    "\n",
    "# create key\n",
    "key = jax.random.PRNGKey(0)\n",
    "state = env.init(key)\n",
    "from IPython.display import HTML\n",
    "display(HTML(state.to_svg()))\n",
    "\n",
    "\n",
    "\n"
   ]
  },
  {
   "cell_type": "markdown",
   "metadata": {},
   "source": [
    "## Environment Dynamics\n",
    "\n",
    "Turbozero needs to interface with the environment in order to build search trees and collect self-play episodes.\n",
    "\n",
    "We can define this interface with the following functions:\n",
    "* `env_step_fn`: given an environment state and an action, return the new environment state \n",
    "```python\n",
    "    EnvStepFn = Callable[[chex.ArrayTree, int], Tuple[chex.ArrayTree, StepMetadata]]\n",
    "```\n",
    "* `env_init_fn`: given a key, initialize and reutrn a new environment state\n",
    "```python\n",
    "    EnvInitFn = Callable[[chex.PRNGKey], Tuple[chex.ArrayTree, StepMetadata]]\n",
    "```\n",
    "Fortunately, environment libraries implement these for us! We just need to extract a few key pieces of information \n",
    "from the environment state so that we can match the TurboZero specification. We store this in a StepMetadata object:"
   ]
  },
  {
   "cell_type": "code",
   "execution_count": 4,
   "metadata": {},
   "outputs": [],
   "source": [
    "from core.types import StepMetadata\n",
    "%psource StepMetadata"
   ]
  },
  {
   "cell_type": "markdown",
   "metadata": {},
   "source": [
    "* `rewards` stores the rewards emitted for each player for the given timestep\n",
    "* `action_mask` is a mask across all possible actions, where legal actions are set to `True`, and invalid/illegal actions are set to `False`\n",
    "* `terminated` True if the environment is terminated/completed\n",
    "* `cur_player_id`: id of the current player\n",
    "* `step`: step number"
   ]
  },
  {
   "cell_type": "markdown",
   "metadata": {},
   "source": [
    "We can define the environment interface for `Backgammon` as follows:"
   ]
  },
  {
   "cell_type": "code",
   "execution_count": 5,
   "metadata": {},
   "outputs": [],
   "source": [
    "import chex\n",
    "from typing import Tuple\n",
    "\n",
    "def step_fn(state: bg.State, action: int, key: chex.PRNGKey) -> Tuple[bg.State, StepMetadata]:\n",
    "    \"\"\"Combined step function for backgammon environment that handles both deterministic and stochastic actions.\"\"\"\n",
    "    # print(f\"[DEBUG-BG_STEP-{time.time()}] Called with state (stochastic={state.is_stochastic}), action={action}\") # Optional debug\n",
    "\n",
    "    # Handle stochastic vs deterministic branches\n",
    "    def stochastic_branch(operand):\n",
    "        s, a, _ = operand # state, action, key (key ignored for stochastic step)\n",
    "        # Use env instance captured by closure (assuming env is accessible in this scope)\n",
    "        return env.stochastic_step(s, a)\n",
    "\n",
    "    def deterministic_branch(operand):\n",
    "        s, a, k = operand # state, action, key\n",
    "        # Use env instance captured by closure\n",
    "        return env.step(s, a, k)\n",
    "\n",
    "    # Use conditional to route to the appropriate branch\n",
    "    # The key is only needed for the deterministic branch\n",
    "    new_state = jax.lax.cond(\n",
    "        state.is_stochastic,\n",
    "        stochastic_branch,\n",
    "        deterministic_branch,\n",
    "        (state, action, key) # Pass all required operands\n",
    "    )\n",
    "\n",
    "    # Create standard metadata\n",
    "    metadata = StepMetadata(\n",
    "        rewards=new_state.rewards,\n",
    "        action_mask=new_state.legal_action_mask,\n",
    "        terminated=new_state.terminated,\n",
    "        cur_player_id=new_state.current_player,\n",
    "        step=new_state._step_count\n",
    "    )\n",
    "\n",
    "    return new_state, metadata\n",
    "\n",
    "def init_fn(key):\n",
    "    \"\"\"Initializes a new environment state.\"\"\"\n",
    "    state = env.init(key)\n",
    "    # No need to force non-stochastic, let the environment handle it\n",
    "    return state, StepMetadata(\n",
    "        rewards=state.rewards,\n",
    "        action_mask=state.legal_action_mask,\n",
    "        terminated=state.terminated,\n",
    "        cur_player_id=state.current_player,\n",
    "        step=state._step_count\n",
    "    )"
   ]
  },
  {
   "cell_type": "markdown",
   "metadata": {},
   "source": [
    "Pretty easy!"
   ]
  },
  {
   "cell_type": "markdown",
   "metadata": {},
   "source": [
    "## Neural Network\n",
    "\n",
    "Next, we'll need to define the architecture of the neural network \n",
    "\n",
    "A simple implementation of the residual neural network used in the _AlphaZero_ paper is included for your convenience. \n",
    "\n",
    "You can implement your own architecture using `flax.linen`."
   ]
  },
  {
   "cell_type": "code",
   "execution_count": 6,
   "metadata": {},
   "outputs": [],
   "source": [
    "import jax\n",
    "import jax.numpy as jnp\n",
    "import flax.linen as nn\n",
    "\n",
    "# Define a dense residual block for vector inputs.\n",
    "class ResidualDenseBlock(nn.Module):\n",
    "    features: int\n",
    "\n",
    "    @nn.compact\n",
    "    def __call__(self, x):\n",
    "        residual = x\n",
    "        x = nn.Dense(self.features)(x)\n",
    "        x = nn.LayerNorm()(x)\n",
    "        x = nn.relu(x)\n",
    "        x = nn.Dense(self.features)(x)\n",
    "        x = nn.LayerNorm()(x)\n",
    "        return nn.relu(x + residual)\n",
    "\n",
    "# Updated ResNet-style network that accepts a 'train' keyword.\n",
    "class ResNetTurboZero(nn.Module):\n",
    "    num_actions: int       # e.g. 6 for our simplified backgammon\n",
    "    num_hidden: int = 128  # Hidden layer dimension\n",
    "    num_blocks: int = 2    # Number of residual blocks\n",
    "\n",
    "    @nn.compact\n",
    "    def __call__(self, x, train: bool = False):\n",
    "        # Initial projection.\n",
    "        x = nn.Dense(self.num_hidden)(x)\n",
    "        x = nn.LayerNorm()(x)\n",
    "        x = nn.relu(x)\n",
    "        \n",
    "        # Process through a series of residual blocks.\n",
    "        for _ in range(self.num_blocks):\n",
    "            x = ResidualDenseBlock(self.num_hidden)(x)\n",
    "        \n",
    "        # Policy head: project features to logits over possible actions.\n",
    "        policy_logits = nn.Dense(self.num_actions)(x)\n",
    "        \n",
    "        # Value head: project features to a single scalar.\n",
    "        value = nn.Dense(1)(x)\n",
    "        value = jnp.squeeze(value, axis=-1)\n",
    "        return policy_logits, value\n",
    "    \n",
    "\n",
    "resnet_model = ResNetTurboZero(env.num_actions, num_hidden=128, num_blocks=2)"
   ]
  },
  {
   "cell_type": "markdown",
   "metadata": {},
   "source": [
    "We also need a way to convert our environment's state into something our neural network can take as input (i.e. structured data -> Array). `pgx` conveniently includes this in `state.observation`, but for other environments you may need to perform the conversion yourself."
   ]
  },
  {
   "cell_type": "code",
   "execution_count": 7,
   "metadata": {},
   "outputs": [],
   "source": [
    "def state_to_nn_input(state):\n",
    "    return state.observation"
   ]
  },
  {
   "cell_type": "markdown",
   "metadata": {},
   "source": [
    "## Evaluator\n",
    "\n",
    "Next, we can initialize our evaluator, AlphaZero, which takes the following parameters:\n",
    "\n",
    "* `eval_fn`: function used to evaluate a leaf node (returns a policy and value)\n",
    "* `num_iterations`: number of MCTS iterations to run before returning the final policy\n",
    "* `max_nodes`: maximum capacity of search tree\n",
    "* `branching_factor`: branching factor of search tree == policy_size\n",
    "* `action_selector`: the algorithm used to select an action to take at any given search node, choose between:\n",
    "    * `PUCTSelector`: AlphaZero action selection algorithm\n",
    "    * `MuZeroPUCTSelector`: MuZero action selection algorithm\n",
    "    * or write your own! :)\n",
    "\n",
    "There are also a few other optional parameters, a few of the important ones are:\n",
    "* `temperature`: temperature applied to move probabilities prior to sampling (0.0 == argmax, ->inf == completely random sampling). I reccommend setting this to 1.0 for training (default) and 0.0 for evaluation.\n",
    "* `dirichlet_alpha`: magnitude of Dirichlet noise to add to root policy (default 0.3). Generally, the more actions are possible in a game, the smaller this value should be. \n",
    "* `dirichlet_epsilon`: proportion of root policy composed of Dirichlet noise (default 0.25)\n",
    "\n",
    "\n",
    "We use `make_nn_eval_fn` to create a leaf evaluation function that uses our neural network to generate a policy and a value for the given state. "
   ]
  },
  {
   "cell_type": "code",
   "execution_count": 8,
   "metadata": {},
   "outputs": [],
   "source": [
    "\n",
    "from core.evaluators.evaluation_fns import make_nn_eval_fn\n",
    "from core.evaluators.mcts.action_selection import PUCTSelector\n",
    "from core.evaluators.mcts.stochastic_mcts import StochasticMCTS\n",
    "import jax.numpy as jnp\n",
    "\n",
    "# Training evaluator: StochasticMCTS using NN\n",
    "evaluator = StochasticMCTS(   #Explores new moves\n",
    "    eval_fn=make_nn_eval_fn(resnet_model, state_to_nn_input),\n",
    "    stochastic_action_probs=env.stochastic_action_probs,\n",
    "    num_iterations=300,  \n",
    "    max_nodes=500,      \n",
    "    branching_factor=env.num_actions,\n",
    "    action_selector=PUCTSelector(),\n",
    "    temperature=1.0,\n",
    ")"
   ]
  },
  {
   "cell_type": "markdown",
   "metadata": {},
   "source": [
    "We also define a separate evaluator with different parameters to use for testing purposes. We'll give this one a larger budget (num_iterations), and set the temperature to zero so it always chooses the most-visited action after search is complete."
   ]
  },
  {
   "cell_type": "code",
   "execution_count": 9,
   "metadata": {},
   "outputs": [],
   "source": [
    "\n",
    "evaluator_test = StochasticMCTS(   #Use optimized moves, temperature=0.0\n",
    "    eval_fn=make_nn_eval_fn(resnet_model, state_to_nn_input),\n",
    "    stochastic_action_probs=env.stochastic_action_probs,\n",
    "    num_iterations=300,  # Very few iterations\n",
    "    max_nodes=500,      # Very small tree\n",
    "    branching_factor=env.num_actions,\n",
    "    action_selector=PUCTSelector(),\n",
    "    temperature=0.0,\n",
    ")"
   ]
  },
  {
   "cell_type": "markdown",
   "metadata": {},
   "source": [
    "We can use similar ideas to write a greedy baseline evaluation function, one that doesn't use a neural network at all!\n",
    "\n",
    "Instead, it simply counts the number of tiles for the active player and compares it to the number of tiles controlled by the other player, so the value is higher for states where the active player controls more tiles than the other player.\n",
    "\n",
    "Using similar techniques as before, we can create another AlphaZero evaluator to test against."
   ]
  },
  {
   "cell_type": "code",
   "execution_count": 10,
   "metadata": {},
   "outputs": [],
   "source": [
    "from core.evaluators.evaluation_fns import make_nn_eval_fn_no_params_callable\n",
    "import chex\n",
    "\n",
    "# --- Pip Count Eval Fn (for test evaluator) ---\n",
    "@jit.compile\n",
    "def backgammon_pip_count_eval(state: chex.ArrayTree, params: chex.ArrayTree, key: chex.PRNGKey):\n",
    "    \"\"\"Calculates value based on pip count difference. Ignores params/key.\n",
    "    The boar is always from the current players perspective, \n",
    "    current player is postivie numbers opponent is negative \"\"\"\n",
    "    board = state._board\n",
    "    pips = state._board[1:25]\n",
    "    \n",
    "    born_off_current = board[26] * 30\n",
    "    born_off_opponent = board[27] * 30\n",
    "    \n",
    "    #ignore bar, basically 0 points per pip on bar\n",
    "    \n",
    "    point_map = jnp.arange(1, 25, dtype=jnp.int32)\n",
    "    \n",
    "    value = jnp.sum(pips * point_map) + born_off_current + born_off_opponent\n",
    "    \n",
    "    # Uniform policy over legal actions for greedy baseline\n",
    "    policy_logits = jnp.where(state.legal_action_mask, 0.0, -jnp.inf)\n",
    "    \n",
    "    return policy_logits, jnp.array(value)\n",
    "\n",
    "\n",
    "# Test evaluator: Regular MCTS using pip count\n",
    "pip_count_mcts_evaluator_test = StochasticMCTS(  # optimizes for moves\n",
    "    eval_fn=backgammon_pip_count_eval, # Use pip count eval fn\n",
    "    stochastic_action_probs=env.stochastic_action_probs,\n",
    "    num_iterations=30, # Give it slightly more iterations maybe\n",
    "    max_nodes=100,\n",
    "    branching_factor=env.num_actions,\n",
    "    action_selector=PUCTSelector(),\n",
    "    temperature=0.0 # Deterministic action selection for testing\n",
    ")"
   ]
  },
  {
   "cell_type": "markdown",
   "metadata": {},
   "source": [
    "## Replay Memory Buffer\n",
    "\n",
    "Next, we'll initialize a replay memory buffer to hold selfplay trajectories that we can sample from during training. This actually just defines an interface, the buffer state itself will be initialized and managed internally.\n",
    "\n",
    "The replay buffer is batched, it retains a buffer of trajectories across a batch dimension. We specify a `capacity`: the amount of samples stored in a single buffer. The total capacity of the entire replay buffer is then `batch_size * capacity`, where `batch_size` is the number of environments/self-play games being run in parallel."
   ]
  },
  {
   "cell_type": "code",
   "execution_count": 11,
   "metadata": {},
   "outputs": [],
   "source": [
    "from core.memory.replay_memory import EpisodeReplayBuffer\n",
    "\n",
    "replay_memory = EpisodeReplayBuffer(capacity=2000)"
   ]
  },
  {
   "cell_type": "markdown",
   "metadata": {},
   "source": [
    "## Rendering\n",
    "We can optionally provide a `render_fn` that will record games played by our model against one of the baselines and save it as a `.gif`.\n",
    "\n",
    "I've included a helper fn that takes care of this:"
   ]
  },
  {
   "cell_type": "markdown",
   "metadata": {},
   "source": [
    "This helper function depends upon cairoSVG, which itself depends upon `cairo`, which you'll need to install on your system.\n",
    "\n",
    "On Ubuntu, this can be done with:"
   ]
  },
  {
   "cell_type": "code",
   "execution_count": 12,
   "metadata": {},
   "outputs": [
    {
     "name": "stdout",
     "output_type": "stream",
     "text": [
      "\r\n",
      "Reading package lists... 0%\r\n",
      "\r\n",
      "Reading package lists... 100%\r\n",
      "\r\n",
      "Reading package lists... Done\r\n",
      "\r\n",
      "E: Could not open lock file /var/lib/apt/lists/lock - open (13: Permission denied)\r\n",
      "E: Unable to lock directory /var/lib/apt/lists/\r\n",
      "W: Problem unlinking the file /var/cache/apt/pkgcache.bin - RemoveCaches (13: Permission denied)\r\n",
      "W: Problem unlinking the file /var/cache/apt/srcpkgcache.bin - RemoveCaches (13: Permission denied)\r\n"
     ]
    },
    {
     "name": "stderr",
     "output_type": "stream",
     "text": [
      "/home/sile/.pyenv/versions/3.12.8/lib/python3.12/pty.py:95: RuntimeWarning: os.fork() was called. os.fork() is incompatible with multithreaded code, and JAX is multithreaded, so this will likely lead to a deadlock.\n",
      "  pid, fd = os.forkpty()\n"
     ]
    }
   ],
   "source": [
    "! apt-get update && apt-get -y install libcairo2-dev"
   ]
  },
  {
   "cell_type": "markdown",
   "metadata": {},
   "source": [
    "If you're on another OS, consult https://www.cairographics.org/download/ for installation guidelines"
   ]
  },
  {
   "cell_type": "code",
   "execution_count": 13,
   "metadata": {},
   "outputs": [],
   "source": [
    "from functools import partial\n",
    "from core.testing.utils import render_pgx_2p\n",
    "render_fn = partial(render_pgx_2p, p1_label='Black', p2_label='White', duration=900)\n"
   ]
  },
  {
   "cell_type": "markdown",
   "metadata": {},
   "source": [
    "## Trainer Initialization\n",
    "Now that we have all the proper pieces defined, we are ready to initialize a Trainer and start training!\n",
    "\n",
    "The `Trainer` takes many parameters, so let's walk through them all:\n",
    "* `batch_size`: # of parallel environments used to collect self-play games\n",
    "* `train_batch_size`: size of minibatch used during training step\n",
    "* `warmup_steps`: # of steps (per batch) to collect via self-play prior to entering the training loop. This is used to populate the replay memory with some initial samples\n",
    "* `collection_steps_per_epoch`: # of steps (per batch) to collect via self-play per epoch\n",
    "* `train_steps_per_epoch`: # of train steps per epoch\n",
    "* `nn`: neural network (`linen.Module`)\n",
    "* `loss_fn`: loss function used for training, we use a provided default loss which implements the loss function used in the `AlphaZero` paper\n",
    "* `optimizer`: an `optax` optimizer used for training\n",
    "* `evaluator`: the `Evaluator` to use during self-play, we initialized ours using `AlphaZero(MCTS)`\n",
    "* `memory_buffer`: the memory buffer used to store samples from self-play games, we  initialized ours using `EpisodeReplayBuffer`\n",
    "* `max_episode_steps`: maximum number of steps/turns to allow before truncating an episode\n",
    "* `env_step_fn`: environment step function (we defined ours above)\n",
    "* `env_init_fn`: environment init function (we defined ours above)\n",
    "* `state_to_nn_input_fn`: function to convert environment state to nn input (we defined ours above)\n",
    "* `testers`: any number of `Tester`s, used to evaluate a given model and take their own parameters. We'll use the two evaluators defined above to initialize two Testers.\n",
    "* `evaluator_test`: (Optional) Evaluator used within Testers. By default used `evaluator`, but sometimes you may want to test with a larger MCTS iteration budget for example, or a different move sampling temperature\n",
    "* `data_transform_fns`: (optional) list of data transform functions to apply to self-play experiences (e.g. rotation, reflection, etc.)\n",
    "* `extract_model_params_fn`: (Optional) in special cases we need to define how to extract all model parameters from a flax `TrainState`. The default function handles BatchNorm, but if another special-case technique applied across batches is used (e.g. Dropout) we would need to define a function to extract the appropriate parameters. You usually won't need to define this!\n",
    "* `wandb_project_name`: (Optional) Weights and Biases project name. You will be prompted to login if a name is provided. If a name is provided, a run will be initialized and loss and other metrics will be logged to the given wandb project.\n",
    "* `ckpt_dir`: (Optional) directory to store checkpoints in, by default this is set to `/tmp/turbozero_checkpoints`\n",
    "* `max_checkpoints`: (Optional) maximum number of most-recent checkpoints to retain (default: 2)\n",
    "* `num_devices`: (Optional) number of hardware accelerators (GPUs/TPUs) to use. If not given, all available hardware accelerators are used\n",
    "* `wandb_run`: (Optional) continues from an initialized `wandb` run if provided, otherwise a new one is initialized\n",
    "* `extra_wandb_config`: (Optional) any extra metadata to store in the `wandb` run config\n",
    "\n",
    "A training epoch is comprised of M collection steps, followed by N training steps sampling minibatches from replay memory. Optionally, any number of Testers evaluate the current model. At the end of each epoch, a checkpoint is saved.\n",
    "\n",
    "If you are using one or more GPUs (reccommended), TurboZero by default will run on all your available hardware."
   ]
  },
  {
   "cell_type": "code",
   "execution_count": 14,
   "metadata": {},
   "outputs": [
    {
     "name": "stderr",
     "output_type": "stream",
     "text": [
      "ERROR:wandb.jupyter:Failed to detect the name of this notebook, you can set it manually with the WANDB_NOTEBOOK_NAME environment variable to enable code saving.\n",
      "\u001b[34m\u001b[1mwandb\u001b[0m: Using wandb-core as the SDK backend.  Please refer to https://wandb.me/wandb-core for more information.\n",
      "\u001b[34m\u001b[1mwandb\u001b[0m: Currently logged in as: \u001b[33msile16\u001b[0m (\u001b[33msile16-self\u001b[0m). Use \u001b[1m`wandb login --relogin`\u001b[0m to force relogin\n",
      "\u001b[34m\u001b[1mwandb\u001b[0m: \u001b[33mWARNING\u001b[0m Unable to render HTML, can't import display from ipython.core\n",
      "\u001b[34m\u001b[1mwandb\u001b[0m: \u001b[33mWARNING\u001b[0m Unable to render HTML, can't import display from ipython.core\n",
      "\u001b[34m\u001b[1mwandb\u001b[0m: \u001b[33mWARNING\u001b[0m Unable to render HTML, can't import display from ipython.core\n",
      "\u001b[34m\u001b[1mwandb\u001b[0m: \u001b[33mWARNING\u001b[0m Unable to render HTML, can't import display from ipython.core\n",
      "\u001b[34m\u001b[1mwandb\u001b[0m: \u001b[33mWARNING\u001b[0m Unable to render HTML, can't import display from ipython.core\n"
     ]
    }
   ],
   "source": [
    "from functools import partial\n",
    "from core.testing.two_player_baseline import TwoPlayerBaseline\n",
    "from core.training.loss_fns import az_default_loss_fn\n",
    "from core.training.stochastic_train import StochasticTrainer\n",
    "from core.training.train import Trainer\n",
    "import optax\n",
    "\n",
    "export WANDB_NOTEBOOK_NAME=\"turbozero-notebooks\"\n",
    "trainer = StochasticTrainer(\n",
    "    batch_size=64,      \n",
    "    train_batch_size=32,\n",
    "    warmup_steps=0,\n",
    "    collection_steps_per_epoch=512,  # Just 2 collection step\n",
    "    train_steps_per_epoch=512,       # Just 2 training step\n",
    "    nn=resnet_model,\n",
    "    loss_fn=partial(az_default_loss_fn, l2_reg_lambda=1e-4),\n",
    "    optimizer=optax.adam(1e-4),\n",
    "    # Use the stochastic evaluator for training\n",
    "    evaluator=evaluator, \n",
    "    memory_buffer=replay_memory,\n",
    "    max_episode_steps=500,  # should be enough for most games\n",
    "    env_step_fn=step_fn,\n",
    "    env_init_fn=init_fn,\n",
    "    state_to_nn_input_fn=state_to_nn_input,\n",
    "    ckpt_dir = \"/tmp/ckpts\",\n",
    "    testers=[\n",
    "        # Use our custom BackgammonTwoPlayerBaseline\n",
    "        TwoPlayerBaseline(\n",
    "            num_episodes=50,\n",
    "            baseline_evaluator=pip_count_mcts_evaluator_test,\n",
    "            #render_fn=render_fn,\n",
    "            #render_dir='training_eval/pip_count_baseline',\n",
    "            name='pip_count_baseline'\n",
    "        )\n",
    "    ],\n",
    "    # Use the pip count MCTS evaluator for testing\n",
    "    evaluator_test=evaluator_test, \n",
    "    data_transform_fns=[],  # No data transforms as requested\n",
    "    wandb_project_name=None\n",
    ")"
   ]
  },
  {
   "cell_type": "markdown",
   "metadata": {},
   "source": [
    "## Training\n",
    "\n",
    "Now all that's left to do is to kick off the training loop! We need to pass an initial seed for reproducibility, and the number of epochs to run for!\n",
    "\n",
    "If you've set up `wandb`, you can track metrics via plots in the run dashboard. Metrics will also be printed to the console. \n",
    "\n",
    "IMPORTANT: The first epoch will not execute quickly! This is because there is significant overhead in JAX compilation (nearly all of the training loop is JIT-compiled). This will cause the first epoch to run very slowly, as JIT-compiled functions are traced and compiled the first time they are run. Expect epochs after the first to execute much more quickly. Typically, GPU utilization will also be low/zero during this period.\n",
    "\n",
    "It's also worth mentioning that the hyperparameters in this notebook are just here for example purposes. Regardless of the task, they will need to be tuned according to the characteristics of the environment as well as your available hardware and time/cost constraints."
   ]
  },
  {
   "cell_type": "code",
   "execution_count": 15,
   "metadata": {},
   "outputs": [
    {
     "name": "stdout",
     "output_type": "stream",
     "text": [
      "Epoch 0: {'l2_reg': '0.1421', 'loss': '2.4600', 'policy_entropy': '0.9009', 'policy_loss': '1.1776', 'value_loss': '1.1404', 'buffer/size': '25529.0000', 'buffer/valid_samples': '123729.0000', 'buffer/fullness_pct': '19.9445', 'perf/train_steps_per_sec': '512000000.0000', 'perf/samples_per_sec': '16384000000.0000', 'perf/collect_time_sec': '352.1566', 'perf/train_time_sec': '20.6745', 'perf/collect_steps_per_sec': '1.4539', 'perf/collect_game_steps_per_sec': '93.0495', 'game/terminated_count': '0.0000', 'game/terminated_pct': '0.0000'}\n",
      "Epoch 0: {'pip_count_baseline_avg_outcome': '-0.2400'}\n",
      "Epoch 1: {'l2_reg': '0.1406', 'loss': '2.1522', 'policy_entropy': '0.9494', 'policy_loss': '1.0884', 'value_loss': '0.9231', 'buffer/size': '51076.0000', 'buffer/valid_samples': '123341.0000', 'buffer/fullness_pct': '39.9031', 'perf/train_steps_per_sec': '4.0000', 'perf/samples_per_sec': '128.0000', 'perf/collect_time_sec': '349.9130', 'perf/train_time_sec': '14.8530', 'perf/collect_steps_per_sec': '1.4632', 'perf/collect_game_steps_per_sec': '93.6461', 'game/terminated_count': '0.0000', 'game/terminated_pct': '0.0000'}\n",
      "Epoch 2: {'l2_reg': '0.1398', 'loss': '2.1244', 'policy_entropy': '0.9689', 'policy_loss': '1.0787', 'value_loss': '0.9059', 'buffer/size': '76625.0000', 'buffer/valid_samples': '123183.0000', 'buffer/fullness_pct': '59.8633', 'perf/train_steps_per_sec': '512000000.0000', 'perf/samples_per_sec': '16384000000.0000', 'perf/collect_time_sec': '346.9377', 'perf/train_time_sec': '14.8259', 'perf/collect_steps_per_sec': '1.4758', 'perf/collect_game_steps_per_sec': '94.4492', 'game/terminated_count': '0.0000', 'game/terminated_pct': '0.0000'}\n",
      "Epoch 3: {'l2_reg': '0.1392', 'loss': '2.0914', 'policy_entropy': '0.9687', 'policy_loss': '1.0650', 'value_loss': '0.8871', 'buffer/size': '102204.0000', 'buffer/valid_samples': '123189.0000', 'buffer/fullness_pct': '79.8469', 'perf/train_steps_per_sec': '512000000.0000', 'perf/samples_per_sec': '16384000000.0000', 'perf/collect_time_sec': '351.4885', 'perf/train_time_sec': '14.7967', 'perf/collect_steps_per_sec': '1.4567', 'perf/collect_game_steps_per_sec': '93.2264', 'game/terminated_count': '0.0000', 'game/terminated_pct': '0.0000'}\n",
      "Epoch 4: {'l2_reg': '0.1388', 'loss': '2.0941', 'policy_entropy': '0.9849', 'policy_loss': '1.0670', 'value_loss': '0.8883', 'buffer/size': '127680.0000', 'buffer/valid_samples': '122527.0000', 'buffer/fullness_pct': '99.7500', 'perf/train_steps_per_sec': '512000000.0000', 'perf/samples_per_sec': '16384000000.0000', 'perf/collect_time_sec': '350.7503', 'perf/train_time_sec': '14.7582', 'perf/collect_steps_per_sec': '1.4597', 'perf/collect_game_steps_per_sec': '93.4226', 'game/terminated_count': '0.0000', 'game/terminated_pct': '0.0000'}\n",
      "Epoch 5: {'l2_reg': '0.1384', 'loss': '2.0432', 'policy_entropy': '0.9727', 'policy_loss': '1.0460', 'value_loss': '0.8588', 'buffer/size': '128000.0000', 'buffer/valid_samples': '123278.0000', 'buffer/fullness_pct': '100.0000', 'perf/train_steps_per_sec': '512000000.0000', 'perf/samples_per_sec': '16384000000.0000', 'perf/collect_time_sec': '351.5911', 'perf/train_time_sec': '14.6102', 'perf/collect_steps_per_sec': '1.4562', 'perf/collect_game_steps_per_sec': '93.1992', 'game/terminated_count': '0.0000', 'game/terminated_pct': '0.0000'}\n",
      "Epoch 5: {'pip_count_baseline_avg_outcome': '-0.1800'}\n",
      "Epoch 6: {'l2_reg': '0.1379', 'loss': '2.0318', 'policy_entropy': '0.9760', 'policy_loss': '1.0398', 'value_loss': '0.8541', 'buffer/size': '128000.0000', 'buffer/valid_samples': '122305.0000', 'buffer/fullness_pct': '100.0000', 'perf/train_steps_per_sec': '512000000.0000', 'perf/samples_per_sec': '16384000000.0000', 'perf/collect_time_sec': '353.3305', 'perf/train_time_sec': '14.6814', 'perf/collect_steps_per_sec': '1.4491', 'perf/collect_game_steps_per_sec': '92.7404', 'game/terminated_count': '0.0000', 'game/terminated_pct': '0.0000'}\n",
      "Epoch 7: {'l2_reg': '0.1375', 'loss': '2.0218', 'policy_entropy': '0.9762', 'policy_loss': '1.0354', 'value_loss': '0.8489', 'buffer/size': '128000.0000', 'buffer/valid_samples': '123108.0000', 'buffer/fullness_pct': '100.0000', 'perf/train_steps_per_sec': '512000000.0000', 'perf/samples_per_sec': '16384000000.0000', 'perf/collect_time_sec': '352.4001', 'perf/train_time_sec': '14.5916', 'perf/collect_steps_per_sec': '1.4529', 'perf/collect_game_steps_per_sec': '92.9852', 'game/terminated_count': '0.0000', 'game/terminated_pct': '0.0000'}\n",
      "Epoch 8: {'l2_reg': '0.1371', 'loss': '1.9951', 'policy_entropy': '0.9785', 'policy_loss': '1.0328', 'value_loss': '0.8252', 'buffer/size': '128000.0000', 'buffer/valid_samples': '123847.0000', 'buffer/fullness_pct': '100.0000', 'perf/train_steps_per_sec': '512000000.0000', 'perf/samples_per_sec': '16384000000.0000', 'perf/collect_time_sec': '353.1190', 'perf/train_time_sec': '14.5945', 'perf/collect_steps_per_sec': '1.4499', 'perf/collect_game_steps_per_sec': '92.7959', 'game/terminated_count': '0.0000', 'game/terminated_pct': '0.0000'}\n",
      "Epoch 9: {'l2_reg': '0.1366', 'loss': '1.9784', 'policy_entropy': '0.9751', 'policy_loss': '1.0276', 'value_loss': '0.8143', 'buffer/size': '128000.0000', 'buffer/valid_samples': '122660.0000', 'buffer/fullness_pct': '100.0000', 'perf/train_steps_per_sec': '512000000.0000', 'perf/samples_per_sec': '16384000000.0000', 'perf/collect_time_sec': '352.4176', 'perf/train_time_sec': '14.6277', 'perf/collect_steps_per_sec': '1.4528', 'perf/collect_game_steps_per_sec': '92.9806', 'game/terminated_count': '0.0000', 'game/terminated_pct': '0.0000'}\n",
      "Epoch 10: {'l2_reg': '0.1361', 'loss': '2.0008', 'policy_entropy': '0.9753', 'policy_loss': '1.0241', 'value_loss': '0.8406', 'buffer/size': '128000.0000', 'buffer/valid_samples': '123768.0000', 'buffer/fullness_pct': '100.0000', 'perf/train_steps_per_sec': '512000000.0000', 'perf/samples_per_sec': '16384000000.0000', 'perf/collect_time_sec': '355.2865', 'perf/train_time_sec': '14.9045', 'perf/collect_steps_per_sec': '1.4411', 'perf/collect_game_steps_per_sec': '92.2298', 'game/terminated_count': '0.0000', 'game/terminated_pct': '0.0000'}\n",
      "Epoch 10: {'pip_count_baseline_avg_outcome': '0.3000'}\n",
      "Epoch 11: {'l2_reg': '0.1356', 'loss': '2.0348', 'policy_entropy': '0.9835', 'policy_loss': '1.0300', 'value_loss': '0.8692', 'buffer/size': '128000.0000', 'buffer/valid_samples': '123293.0000', 'buffer/fullness_pct': '100.0000', 'perf/train_steps_per_sec': '512000000.0000', 'perf/samples_per_sec': '16384000000.0000', 'perf/collect_time_sec': '353.9120', 'perf/train_time_sec': '14.8844', 'perf/collect_steps_per_sec': '1.4467', 'perf/collect_game_steps_per_sec': '92.5880', 'game/terminated_count': '0.0000', 'game/terminated_pct': '0.0000'}\n",
      "Epoch 12: {'l2_reg': '0.1351', 'loss': '2.0777', 'policy_entropy': '0.9831', 'policy_loss': '1.0308', 'value_loss': '0.9117', 'buffer/size': '128000.0000', 'buffer/valid_samples': '123042.0000', 'buffer/fullness_pct': '100.0000', 'perf/train_steps_per_sec': '512000000.0000', 'perf/samples_per_sec': '16384000000.0000', 'perf/collect_time_sec': '351.1806', 'perf/train_time_sec': '15.3884', 'perf/collect_steps_per_sec': '1.4579', 'perf/collect_game_steps_per_sec': '93.3081', 'game/terminated_count': '0.0000', 'game/terminated_pct': '0.0000'}\n",
      "Epoch 13: {'l2_reg': '0.1346', 'loss': '2.0466', 'policy_entropy': '0.9772', 'policy_loss': '1.0227', 'value_loss': '0.8892', 'buffer/size': '128000.0000', 'buffer/valid_samples': '123286.0000', 'buffer/fullness_pct': '100.0000', 'perf/train_steps_per_sec': '512000000.0000', 'perf/samples_per_sec': '16384000000.0000', 'perf/collect_time_sec': '351.8829', 'perf/train_time_sec': '14.9090', 'perf/collect_steps_per_sec': '1.4550', 'perf/collect_game_steps_per_sec': '93.1219', 'game/terminated_count': '0.0000', 'game/terminated_pct': '0.0000'}\n",
      "Epoch 15: {'pip_count_baseline_avg_outcome': '0.0400'}\n",
      "Epoch 16: {'l2_reg': '0.1333', 'loss': '2.0309', 'policy_entropy': '0.9897', 'policy_loss': '1.0289', 'value_loss': '0.8687', 'buffer/size': '128000.0000', 'buffer/valid_samples': '122902.0000', 'buffer/fullness_pct': '100.0000', 'perf/train_steps_per_sec': '512000000.0000', 'perf/samples_per_sec': '16384000000.0000', 'perf/collect_time_sec': '349.5724', 'perf/train_time_sec': '14.7256', 'perf/collect_steps_per_sec': '1.4646', 'perf/collect_game_steps_per_sec': '93.7374', 'game/terminated_count': '0.0000', 'game/terminated_pct': '0.0000'}\n"
     ]
    },
    {
     "name": "stdout",
     "output_type": "stream",
     "text": [
      "Epoch 17: {'l2_reg': '0.1328', 'loss': '1.9979', 'policy_entropy': '0.9881', 'policy_loss': '1.0232', 'value_loss': '0.8419', 'buffer/size': '128000.0000', 'buffer/valid_samples': '122999.0000', 'buffer/fullness_pct': '100.0000', 'perf/train_steps_per_sec': '512000000.0000', 'perf/samples_per_sec': '16384000000.0000', 'perf/collect_time_sec': '351.1167', 'perf/train_time_sec': '14.7610', 'perf/collect_steps_per_sec': '1.4582', 'perf/collect_game_steps_per_sec': '93.3251', 'game/terminated_count': '0.0000', 'game/terminated_pct': '0.0000'}\n",
      "Epoch 19: {'l2_reg': '0.1319', 'loss': '1.9782', 'policy_entropy': '0.9858', 'policy_loss': '1.0170', 'value_loss': '0.8293', 'buffer/size': '128000.0000', 'buffer/valid_samples': '122981.0000', 'buffer/fullness_pct': '100.0000', 'perf/train_steps_per_sec': '512000000.0000', 'perf/samples_per_sec': '16384000000.0000', 'perf/collect_time_sec': '352.5462', 'perf/train_time_sec': '14.8038', 'perf/collect_steps_per_sec': '1.4523', 'perf/collect_game_steps_per_sec': '92.9467', 'game/terminated_count': '0.0000', 'game/terminated_pct': '0.0000'}\n",
      "Epoch 20: {'l2_reg': '0.1315', 'loss': '1.9867', 'policy_entropy': '0.9831', 'policy_loss': '1.0153', 'value_loss': '0.8399', 'buffer/size': '128000.0000', 'buffer/valid_samples': '123539.0000', 'buffer/fullness_pct': '100.0000', 'perf/train_steps_per_sec': '4.0000', 'perf/samples_per_sec': '128.0000', 'perf/collect_time_sec': '353.6166', 'perf/train_time_sec': '14.8277', 'perf/collect_steps_per_sec': '1.4479', 'perf/collect_game_steps_per_sec': '92.6653', 'game/terminated_count': '0.0000', 'game/terminated_pct': '0.0000'}\n",
      "Epoch 20: {'pip_count_baseline_avg_outcome': '0.0000'}\n",
      "Epoch 21: {'l2_reg': '0.1310', 'loss': '1.9456', 'policy_entropy': '0.9715', 'policy_loss': '1.0008', 'value_loss': '0.8138', 'buffer/size': '128000.0000', 'buffer/valid_samples': '123648.0000', 'buffer/fullness_pct': '100.0000', 'perf/train_steps_per_sec': '512000000.0000', 'perf/samples_per_sec': '16384000000.0000', 'perf/collect_time_sec': '351.1114', 'perf/train_time_sec': '14.9850', 'perf/collect_steps_per_sec': '1.4582', 'perf/collect_game_steps_per_sec': '93.3265', 'game/terminated_count': '0.0000', 'game/terminated_pct': '0.0000'}\n",
      "Epoch 22: {'l2_reg': '0.1306', 'loss': '1.9460', 'policy_entropy': '0.9818', 'policy_loss': '1.0104', 'value_loss': '0.8050', 'buffer/size': '128000.0000', 'buffer/valid_samples': '122304.0000', 'buffer/fullness_pct': '100.0000', 'perf/train_steps_per_sec': '512000000.0000', 'perf/samples_per_sec': '16384000000.0000', 'perf/collect_time_sec': '357.6666', 'perf/train_time_sec': '14.8201', 'perf/collect_steps_per_sec': '1.4315', 'perf/collect_game_steps_per_sec': '91.6160', 'game/terminated_count': '0.0000', 'game/terminated_pct': '0.0000'}\n",
      "Epoch 23: {'l2_reg': '0.1301', 'loss': '1.9719', 'policy_entropy': '0.9815', 'policy_loss': '1.0097', 'value_loss': '0.8321', 'buffer/size': '128000.0000', 'buffer/valid_samples': '122613.0000', 'buffer/fullness_pct': '100.0000', 'perf/train_steps_per_sec': '512000000.0000', 'perf/samples_per_sec': '16384000000.0000', 'perf/collect_time_sec': '354.4967', 'perf/train_time_sec': '14.6837', 'perf/collect_steps_per_sec': '1.4443', 'perf/collect_game_steps_per_sec': '92.4353', 'game/terminated_count': '0.0000', 'game/terminated_pct': '0.0000'}\n",
      "Epoch 24: {'l2_reg': '0.1297', 'loss': '1.9622', 'policy_entropy': '0.9934', 'policy_loss': '1.0196', 'value_loss': '0.8130', 'buffer/size': '128000.0000', 'buffer/valid_samples': '122925.0000', 'buffer/fullness_pct': '100.0000', 'perf/train_steps_per_sec': '4.0000', 'perf/samples_per_sec': '128.0000', 'perf/collect_time_sec': '352.0316', 'perf/train_time_sec': '14.6335', 'perf/collect_steps_per_sec': '1.4544', 'perf/collect_game_steps_per_sec': '93.0826', 'game/terminated_count': '0.0000', 'game/terminated_pct': '0.0000'}\n",
      "Epoch 25: {'l2_reg': '0.1292', 'loss': '1.9108', 'policy_entropy': '0.9871', 'policy_loss': '1.0091', 'value_loss': '0.7725', 'buffer/size': '128000.0000', 'buffer/valid_samples': '122791.0000', 'buffer/fullness_pct': '100.0000', 'perf/train_steps_per_sec': '512000000.0000', 'perf/samples_per_sec': '16384000000.0000', 'perf/collect_time_sec': '352.3547', 'perf/train_time_sec': '14.5288', 'perf/collect_steps_per_sec': '1.4531', 'perf/collect_game_steps_per_sec': '92.9972', 'game/terminated_count': '0.0000', 'game/terminated_pct': '0.0000'}\n",
      "Epoch 25: {'pip_count_baseline_avg_outcome': '-0.0400'}\n",
      "Epoch 26: {'l2_reg': '0.1288', 'loss': '1.8935', 'policy_entropy': '0.9702', 'policy_loss': '0.9924', 'value_loss': '0.7723', 'buffer/size': '128000.0000', 'buffer/valid_samples': '123432.0000', 'buffer/fullness_pct': '100.0000', 'perf/train_steps_per_sec': '512000000.0000', 'perf/samples_per_sec': '16384000000.0000', 'perf/collect_time_sec': '351.4986', 'perf/train_time_sec': '14.5982', 'perf/collect_steps_per_sec': '1.4566', 'perf/collect_game_steps_per_sec': '93.2237', 'game/terminated_count': '0.0000', 'game/terminated_pct': '0.0000'}\n",
      "Epoch 27: {'l2_reg': '0.1284', 'loss': '1.8824', 'policy_entropy': '0.9677', 'policy_loss': '0.9931', 'value_loss': '0.7609', 'buffer/size': '128000.0000', 'buffer/valid_samples': '122925.0000', 'buffer/fullness_pct': '100.0000', 'perf/train_steps_per_sec': '512000000.0000', 'perf/samples_per_sec': '16384000000.0000', 'perf/collect_time_sec': '353.0349', 'perf/train_time_sec': '14.8478', 'perf/collect_steps_per_sec': '1.4503', 'perf/collect_game_steps_per_sec': '92.8180', 'game/terminated_count': '0.0000', 'game/terminated_pct': '0.0000'}\n",
      "Epoch 28: {'l2_reg': '0.1279', 'loss': '1.9021', 'policy_entropy': '0.9761', 'policy_loss': '0.9987', 'value_loss': '0.7754', 'buffer/size': '128000.0000', 'buffer/valid_samples': '122951.0000', 'buffer/fullness_pct': '100.0000', 'perf/train_steps_per_sec': '512000000.0000', 'perf/samples_per_sec': '16384000000.0000', 'perf/collect_time_sec': '349.8548', 'perf/train_time_sec': '14.6718', 'perf/collect_steps_per_sec': '1.4635', 'perf/collect_game_steps_per_sec': '93.6617', 'game/terminated_count': '0.0000', 'game/terminated_pct': '0.0000'}\n",
      "Epoch 29: {'l2_reg': '0.1275', 'loss': '1.9214', 'policy_entropy': '0.9585', 'policy_loss': '0.9801', 'value_loss': '0.8137', 'buffer/size': '128000.0000', 'buffer/valid_samples': '122870.0000', 'buffer/fullness_pct': '100.0000', 'perf/train_steps_per_sec': '4.0000', 'perf/samples_per_sec': '128.0000', 'perf/collect_time_sec': '352.8748', 'perf/train_time_sec': '14.5961', 'perf/collect_steps_per_sec': '1.4509', 'perf/collect_game_steps_per_sec': '92.8601', 'game/terminated_count': '0.0000', 'game/terminated_pct': '0.0000'}\n",
      "Epoch 30: {'l2_reg': '0.1271', 'loss': '1.9125', 'policy_entropy': '0.9640', 'policy_loss': '0.9826', 'value_loss': '0.8027', 'buffer/size': '128000.0000', 'buffer/valid_samples': '123200.0000', 'buffer/fullness_pct': '100.0000', 'perf/train_steps_per_sec': '512000000.0000', 'perf/samples_per_sec': '16384000000.0000', 'perf/collect_time_sec': '354.1142', 'perf/train_time_sec': '14.6973', 'perf/collect_steps_per_sec': '1.4459', 'perf/collect_game_steps_per_sec': '92.5351', 'game/terminated_count': '0.0000', 'game/terminated_pct': '0.0000'}\n",
      "Epoch 30: {'pip_count_baseline_avg_outcome': '-0.0800'}\n",
      "Epoch 31: {'l2_reg': '0.1268', 'loss': '1.9371', 'policy_entropy': '0.9756', 'policy_loss': '1.0008', 'value_loss': '0.8096', 'buffer/size': '128000.0000', 'buffer/valid_samples': '122916.0000', 'buffer/fullness_pct': '100.0000', 'perf/train_steps_per_sec': '512000000.0000', 'perf/samples_per_sec': '16384000000.0000', 'perf/collect_time_sec': '351.5926', 'perf/train_time_sec': '14.6047', 'perf/collect_steps_per_sec': '1.4562', 'perf/collect_game_steps_per_sec': '93.1988', 'game/terminated_count': '0.0000', 'game/terminated_pct': '0.0000'}\n",
      "Epoch 32: {'l2_reg': '0.1264', 'loss': '1.9325', 'policy_entropy': '0.9735', 'policy_loss': '0.9969', 'value_loss': '0.8092', 'buffer/size': '128000.0000', 'buffer/valid_samples': '122893.0000', 'buffer/fullness_pct': '100.0000', 'perf/train_steps_per_sec': '512000000.0000', 'perf/samples_per_sec': '16384000000.0000', 'perf/collect_time_sec': '351.9056', 'perf/train_time_sec': '14.6614', 'perf/collect_steps_per_sec': '1.4549', 'perf/collect_game_steps_per_sec': '93.1159', 'game/terminated_count': '0.0000', 'game/terminated_pct': '0.0000'}\n"
     ]
    },
    {
     "name": "stdout",
     "output_type": "stream",
     "text": [
      "Epoch 34: {'l2_reg': '0.1257', 'loss': '1.8840', 'policy_entropy': '0.9691', 'policy_loss': '0.9960', 'value_loss': '0.7623', 'buffer/size': '128000.0000', 'buffer/valid_samples': '123647.0000', 'buffer/fullness_pct': '100.0000', 'perf/train_steps_per_sec': '512000000.0000', 'perf/samples_per_sec': '16384000000.0000', 'perf/collect_time_sec': '353.6053', 'perf/train_time_sec': '14.7696', 'perf/collect_steps_per_sec': '1.4479', 'perf/collect_game_steps_per_sec': '92.6683', 'game/terminated_count': '0.0000', 'game/terminated_pct': '0.0000'}\n",
      "Epoch 35: {'l2_reg': '0.1253', 'loss': '1.8847', 'policy_entropy': '0.9732', 'policy_loss': '0.9996', 'value_loss': '0.7598', 'buffer/size': '128000.0000', 'buffer/valid_samples': '122314.0000', 'buffer/fullness_pct': '100.0000', 'perf/train_steps_per_sec': '512000000.0000', 'perf/samples_per_sec': '16384000000.0000', 'perf/collect_time_sec': '353.3189', 'perf/train_time_sec': '14.8431', 'perf/collect_steps_per_sec': '1.4491', 'perf/collect_game_steps_per_sec': '92.7434', 'game/terminated_count': '0.0000', 'game/terminated_pct': '0.0000'}\n",
      "Epoch 35: {'pip_count_baseline_avg_outcome': '0.1400'}\n",
      "Epoch 36: {'l2_reg': '0.1249', 'loss': '1.8951', 'policy_entropy': '0.9859', 'policy_loss': '1.0114', 'value_loss': '0.7587', 'buffer/size': '128000.0000', 'buffer/valid_samples': '123878.0000', 'buffer/fullness_pct': '100.0000', 'perf/train_steps_per_sec': '4.0000', 'perf/samples_per_sec': '128.0000', 'perf/collect_time_sec': '354.1265', 'perf/train_time_sec': '14.8638', 'perf/collect_steps_per_sec': '1.4458', 'perf/collect_game_steps_per_sec': '92.5319', 'game/terminated_count': '0.0000', 'game/terminated_pct': '0.0000'}\n",
      "Epoch 37: {'l2_reg': '0.1246', 'loss': '1.8771', 'policy_entropy': '0.9776', 'policy_loss': '1.0058', 'value_loss': '0.7468', 'buffer/size': '128000.0000', 'buffer/valid_samples': '123822.0000', 'buffer/fullness_pct': '100.0000', 'perf/train_steps_per_sec': '512000000.0000', 'perf/samples_per_sec': '16384000000.0000', 'perf/collect_time_sec': '356.7291', 'perf/train_time_sec': '14.6970', 'perf/collect_steps_per_sec': '1.4353', 'perf/collect_game_steps_per_sec': '91.8568', 'game/terminated_count': '0.0000', 'game/terminated_pct': '0.0000'}\n",
      "Epoch 38: {'l2_reg': '0.1242', 'loss': '1.8961', 'policy_entropy': '0.9739', 'policy_loss': '0.9970', 'value_loss': '0.7749', 'buffer/size': '128000.0000', 'buffer/valid_samples': '122881.0000', 'buffer/fullness_pct': '100.0000', 'perf/train_steps_per_sec': '512000000.0000', 'perf/samples_per_sec': '16384000000.0000', 'perf/collect_time_sec': '353.7358', 'perf/train_time_sec': '14.6976', 'perf/collect_steps_per_sec': '1.4474', 'perf/collect_game_steps_per_sec': '92.6341', 'game/terminated_count': '0.0000', 'game/terminated_pct': '0.0000'}\n",
      "Epoch 39: {'l2_reg': '0.1238', 'loss': '1.9074', 'policy_entropy': '0.9733', 'policy_loss': '1.0002', 'value_loss': '0.7835', 'buffer/size': '128000.0000', 'buffer/valid_samples': '123328.0000', 'buffer/fullness_pct': '100.0000', 'perf/train_steps_per_sec': '512000000.0000', 'perf/samples_per_sec': '16384000000.0000', 'perf/collect_time_sec': '353.5349', 'perf/train_time_sec': '14.6422', 'perf/collect_steps_per_sec': '1.4482', 'perf/collect_game_steps_per_sec': '92.6867', 'game/terminated_count': '0.0000', 'game/terminated_pct': '0.0000'}\n",
      "Epoch 40: {'l2_reg': '0.1234', 'loss': '1.9120', 'policy_entropy': '0.9619', 'policy_loss': '0.9846', 'value_loss': '0.8040', 'buffer/size': '128000.0000', 'buffer/valid_samples': '123560.0000', 'buffer/fullness_pct': '100.0000', 'perf/train_steps_per_sec': '512000000.0000', 'perf/samples_per_sec': '16384000000.0000', 'perf/collect_time_sec': '354.9068', 'perf/train_time_sec': '14.6281', 'perf/collect_steps_per_sec': '1.4426', 'perf/collect_game_steps_per_sec': '92.3285', 'game/terminated_count': '0.0000', 'game/terminated_pct': '0.0000'}\n",
      "Epoch 40: {'pip_count_baseline_avg_outcome': '0.0000'}\n",
      "Epoch 41: {'l2_reg': '0.1230', 'loss': '1.9475', 'policy_entropy': '0.9656', 'policy_loss': '0.9854', 'value_loss': '0.8391', 'buffer/size': '128000.0000', 'buffer/valid_samples': '123414.0000', 'buffer/fullness_pct': '100.0000', 'perf/train_steps_per_sec': '512000000.0000', 'perf/samples_per_sec': '16384000000.0000', 'perf/collect_time_sec': '353.0106', 'perf/train_time_sec': '14.6134', 'perf/collect_steps_per_sec': '1.4504', 'perf/collect_game_steps_per_sec': '92.8244', 'game/terminated_count': '0.0000', 'game/terminated_pct': '0.0000'}\n",
      "Epoch 42: {'l2_reg': '0.1226', 'loss': '1.9025', 'policy_entropy': '0.9641', 'policy_loss': '0.9854', 'value_loss': '0.7945', 'buffer/size': '128000.0000', 'buffer/valid_samples': '122341.0000', 'buffer/fullness_pct': '100.0000', 'perf/train_steps_per_sec': '512000000.0000', 'perf/samples_per_sec': '16384000000.0000', 'perf/collect_time_sec': '352.9901', 'perf/train_time_sec': '14.7192', 'perf/collect_steps_per_sec': '1.4505', 'perf/collect_game_steps_per_sec': '92.8298', 'game/terminated_count': '0.0000', 'game/terminated_pct': '0.0000'}\n",
      "Epoch 43: {'l2_reg': '0.1222', 'loss': '1.9302', 'policy_entropy': '0.9716', 'policy_loss': '0.9934', 'value_loss': '0.8145', 'buffer/size': '128000.0000', 'buffer/valid_samples': '122617.0000', 'buffer/fullness_pct': '100.0000', 'perf/train_steps_per_sec': '512000000.0000', 'perf/samples_per_sec': '16384000000.0000', 'perf/collect_time_sec': '351.6562', 'perf/train_time_sec': '14.9642', 'perf/collect_steps_per_sec': '1.4560', 'perf/collect_game_steps_per_sec': '93.1819', 'game/terminated_count': '0.0000', 'game/terminated_pct': '0.0000'}\n",
      "Epoch 44: {'l2_reg': '0.1218', 'loss': '1.9233', 'policy_entropy': '0.9719', 'policy_loss': '0.9948', 'value_loss': '0.8067', 'buffer/size': '128000.0000', 'buffer/valid_samples': '122691.0000', 'buffer/fullness_pct': '100.0000', 'perf/train_steps_per_sec': '512000000.0000', 'perf/samples_per_sec': '16384000000.0000', 'perf/collect_time_sec': '354.4634', 'perf/train_time_sec': '14.6122', 'perf/collect_steps_per_sec': '1.4444', 'perf/collect_game_steps_per_sec': '92.4440', 'game/terminated_count': '0.0000', 'game/terminated_pct': '0.0000'}\n",
      "Epoch 45: {'l2_reg': '0.1215', 'loss': '1.9033', 'policy_entropy': '0.9819', 'policy_loss': '1.0046', 'value_loss': '0.7772', 'buffer/size': '128000.0000', 'buffer/valid_samples': '122623.0000', 'buffer/fullness_pct': '100.0000', 'perf/train_steps_per_sec': '512000000.0000', 'perf/samples_per_sec': '16384000000.0000', 'perf/collect_time_sec': '354.0329', 'perf/train_time_sec': '14.6613', 'perf/collect_steps_per_sec': '1.4462', 'perf/collect_game_steps_per_sec': '92.5564', 'game/terminated_count': '0.0000', 'game/terminated_pct': '0.0000'}\n",
      "Epoch 45: {'pip_count_baseline_avg_outcome': '-0.0800'}\n",
      "Epoch 46: {'l2_reg': '0.1211', 'loss': '1.9026', 'policy_entropy': '0.9764', 'policy_loss': '0.9949', 'value_loss': '0.7866', 'buffer/size': '128000.0000', 'buffer/valid_samples': '123167.0000', 'buffer/fullness_pct': '100.0000', 'perf/train_steps_per_sec': '512000000.0000', 'perf/samples_per_sec': '16384000000.0000', 'perf/collect_time_sec': '352.7046', 'perf/train_time_sec': '14.6531', 'perf/collect_steps_per_sec': '1.4516', 'perf/collect_game_steps_per_sec': '92.9049', 'game/terminated_count': '0.0000', 'game/terminated_pct': '0.0000'}\n",
      "Epoch 47: {'l2_reg': '0.1207', 'loss': '1.8912', 'policy_entropy': '0.9741', 'policy_loss': '0.9917', 'value_loss': '0.7787', 'buffer/size': '128000.0000', 'buffer/valid_samples': '122547.0000', 'buffer/fullness_pct': '100.0000', 'perf/train_steps_per_sec': '512000000.0000', 'perf/samples_per_sec': '16384000000.0000', 'perf/collect_time_sec': '356.0357', 'perf/train_time_sec': '14.5655', 'perf/collect_steps_per_sec': '1.4381', 'perf/collect_game_steps_per_sec': '92.0357', 'game/terminated_count': '0.0000', 'game/terminated_pct': '0.0000'}\n",
      "Epoch 48: {'l2_reg': '0.1204', 'loss': '1.8566', 'policy_entropy': '0.9602', 'policy_loss': '0.9801', 'value_loss': '0.7561', 'buffer/size': '128000.0000', 'buffer/valid_samples': '123856.0000', 'buffer/fullness_pct': '100.0000', 'perf/train_steps_per_sec': '512000000.0000', 'perf/samples_per_sec': '16384000000.0000', 'perf/collect_time_sec': '354.6369', 'perf/train_time_sec': '14.7962', 'perf/collect_steps_per_sec': '1.4437', 'perf/collect_game_steps_per_sec': '92.3987', 'game/terminated_count': '0.0000', 'game/terminated_pct': '0.0000'}\n"
     ]
    },
    {
     "name": "stdout",
     "output_type": "stream",
     "text": [
      "Epoch 49: {'l2_reg': '0.1200', 'loss': '1.8558', 'policy_entropy': '0.9585', 'policy_loss': '0.9752', 'value_loss': '0.7606', 'buffer/size': '128000.0000', 'buffer/valid_samples': '123561.0000', 'buffer/fullness_pct': '100.0000', 'perf/train_steps_per_sec': '512000000.0000', 'perf/samples_per_sec': '16384000000.0000', 'perf/collect_time_sec': '354.7618', 'perf/train_time_sec': '14.6606', 'perf/collect_steps_per_sec': '1.4432', 'perf/collect_game_steps_per_sec': '92.3662', 'game/terminated_count': '0.0000', 'game/terminated_pct': '0.0000'}\n",
      "Epoch 50: {'l2_reg': '0.1196', 'loss': '1.8066', 'policy_entropy': '0.9504', 'policy_loss': '0.9640', 'value_loss': '0.7229', 'buffer/size': '128000.0000', 'buffer/valid_samples': '123038.0000', 'buffer/fullness_pct': '100.0000', 'perf/train_steps_per_sec': '512000000.0000', 'perf/samples_per_sec': '16384000000.0000', 'perf/collect_time_sec': '354.3213', 'perf/train_time_sec': '14.6575', 'perf/collect_steps_per_sec': '1.4450', 'perf/collect_game_steps_per_sec': '92.4810', 'game/terminated_count': '0.0000', 'game/terminated_pct': '0.0000'}\n",
      "Epoch 50: {'pip_count_baseline_avg_outcome': '0.0000'}\n",
      "Epoch 51: {'l2_reg': '0.1193', 'loss': '1.8306', 'policy_entropy': '0.9442', 'policy_loss': '0.9593', 'value_loss': '0.7520', 'buffer/size': '128000.0000', 'buffer/valid_samples': '122691.0000', 'buffer/fullness_pct': '100.0000', 'perf/train_steps_per_sec': '512000000.0000', 'perf/samples_per_sec': '16384000000.0000', 'perf/collect_time_sec': '354.3207', 'perf/train_time_sec': '14.6993', 'perf/collect_steps_per_sec': '1.4450', 'perf/collect_game_steps_per_sec': '92.4812', 'game/terminated_count': '0.0000', 'game/terminated_pct': '0.0000'}\n",
      "Epoch 52: {'l2_reg': '0.1190', 'loss': '1.8479', 'policy_entropy': '0.9528', 'policy_loss': '0.9687', 'value_loss': '0.7602', 'buffer/size': '128000.0000', 'buffer/valid_samples': '123062.0000', 'buffer/fullness_pct': '100.0000', 'perf/train_steps_per_sec': '512000000.0000', 'perf/samples_per_sec': '16384000000.0000', 'perf/collect_time_sec': '353.7266', 'perf/train_time_sec': '14.7383', 'perf/collect_steps_per_sec': '1.4474', 'perf/collect_game_steps_per_sec': '92.6365', 'game/terminated_count': '0.0000', 'game/terminated_pct': '0.0000'}\n",
      "Epoch 53: {'l2_reg': '0.1186', 'loss': '1.8594', 'policy_entropy': '0.9673', 'policy_loss': '0.9845', 'value_loss': '0.7563', 'buffer/size': '128000.0000', 'buffer/valid_samples': '122901.0000', 'buffer/fullness_pct': '100.0000', 'perf/train_steps_per_sec': '512000000.0000', 'perf/samples_per_sec': '16384000000.0000', 'perf/collect_time_sec': '353.2731', 'perf/train_time_sec': '14.5878', 'perf/collect_steps_per_sec': '1.4493', 'perf/collect_game_steps_per_sec': '92.7554', 'game/terminated_count': '0.0000', 'game/terminated_pct': '0.0000'}\n",
      "Epoch 54: {'l2_reg': '0.1183', 'loss': '1.8716', 'policy_entropy': '0.9669', 'policy_loss': '0.9848', 'value_loss': '0.7685', 'buffer/size': '128000.0000', 'buffer/valid_samples': '122626.0000', 'buffer/fullness_pct': '100.0000', 'perf/train_steps_per_sec': '512000000.0000', 'perf/samples_per_sec': '16384000000.0000', 'perf/collect_time_sec': '355.6265', 'perf/train_time_sec': '14.7201', 'perf/collect_steps_per_sec': '1.4397', 'perf/collect_game_steps_per_sec': '92.1416', 'game/terminated_count': '0.0000', 'game/terminated_pct': '0.0000'}\n",
      "Epoch 55: {'l2_reg': '0.1180', 'loss': '1.8869', 'policy_entropy': '0.9693', 'policy_loss': '0.9854', 'value_loss': '0.7835', 'buffer/size': '128000.0000', 'buffer/valid_samples': '123933.0000', 'buffer/fullness_pct': '100.0000', 'perf/train_steps_per_sec': '512000000.0000', 'perf/samples_per_sec': '16384000000.0000', 'perf/collect_time_sec': '352.2184', 'perf/train_time_sec': '14.6910', 'perf/collect_steps_per_sec': '1.4536', 'perf/collect_game_steps_per_sec': '93.0332', 'game/terminated_count': '0.0000', 'game/terminated_pct': '0.0000'}\n",
      "Epoch 55: {'pip_count_baseline_avg_outcome': '0.1800'}\n",
      "Epoch 56: {'l2_reg': '0.1176', 'loss': '1.9063', 'policy_entropy': '0.9660', 'policy_loss': '0.9828', 'value_loss': '0.8059', 'buffer/size': '128000.0000', 'buffer/valid_samples': '123774.0000', 'buffer/fullness_pct': '100.0000', 'perf/train_steps_per_sec': '512000000.0000', 'perf/samples_per_sec': '16384000000.0000', 'perf/collect_time_sec': '353.4350', 'perf/train_time_sec': '14.6211', 'perf/collect_steps_per_sec': '1.4486', 'perf/collect_game_steps_per_sec': '92.7129', 'game/terminated_count': '0.0000', 'game/terminated_pct': '0.0000'}\n",
      "Epoch 57: {'l2_reg': '0.1173', 'loss': '1.8823', 'policy_entropy': '0.9790', 'policy_loss': '0.9952', 'value_loss': '0.7698', 'buffer/size': '128000.0000', 'buffer/valid_samples': '123054.0000', 'buffer/fullness_pct': '100.0000', 'perf/train_steps_per_sec': '512000000.0000', 'perf/samples_per_sec': '16384000000.0000', 'perf/collect_time_sec': '355.1309', 'perf/train_time_sec': '14.6944', 'perf/collect_steps_per_sec': '1.4417', 'perf/collect_game_steps_per_sec': '92.2702', 'game/terminated_count': '0.0000', 'game/terminated_pct': '0.0000'}\n",
      "Epoch 58: {'l2_reg': '0.1170', 'loss': '1.8680', 'policy_entropy': '0.9568', 'policy_loss': '0.9727', 'value_loss': '0.7783', 'buffer/size': '128000.0000', 'buffer/valid_samples': '123249.0000', 'buffer/fullness_pct': '100.0000', 'perf/train_steps_per_sec': '512000000.0000', 'perf/samples_per_sec': '16384000000.0000', 'perf/collect_time_sec': '352.3525', 'perf/train_time_sec': '14.8825', 'perf/collect_steps_per_sec': '1.4531', 'perf/collect_game_steps_per_sec': '92.9978', 'game/terminated_count': '0.0000', 'game/terminated_pct': '0.0000'}\n",
      "Epoch 59: {'l2_reg': '0.1167', 'loss': '1.8600', 'policy_entropy': '0.9716', 'policy_loss': '0.9889', 'value_loss': '0.7545', 'buffer/size': '128000.0000', 'buffer/valid_samples': '123543.0000', 'buffer/fullness_pct': '100.0000', 'perf/train_steps_per_sec': '512000000.0000', 'perf/samples_per_sec': '16384000000.0000', 'perf/collect_time_sec': '354.7162', 'perf/train_time_sec': '14.6044', 'perf/collect_steps_per_sec': '1.4434', 'perf/collect_game_steps_per_sec': '92.3781', 'game/terminated_count': '0.0000', 'game/terminated_pct': '0.0000'}\n",
      "Epoch 60: {'l2_reg': '0.1164', 'loss': '1.8336', 'policy_entropy': '0.9668', 'policy_loss': '0.9843', 'value_loss': '0.7329', 'buffer/size': '128000.0000', 'buffer/valid_samples': '123158.0000', 'buffer/fullness_pct': '100.0000', 'perf/train_steps_per_sec': '4.0000', 'perf/samples_per_sec': '128.0000', 'perf/collect_time_sec': '350.6676', 'perf/train_time_sec': '14.7216', 'perf/collect_steps_per_sec': '1.4601', 'perf/collect_game_steps_per_sec': '93.4446', 'game/terminated_count': '0.0000', 'game/terminated_pct': '0.0000'}\n",
      "Epoch 60: {'pip_count_baseline_avg_outcome': '-0.1800'}\n",
      "Epoch 61: {'l2_reg': '0.1161', 'loss': '1.8649', 'policy_entropy': '0.9730', 'policy_loss': '0.9896', 'value_loss': '0.7592', 'buffer/size': '128000.0000', 'buffer/valid_samples': '123003.0000', 'buffer/fullness_pct': '100.0000', 'perf/train_steps_per_sec': '512000000.0000', 'perf/samples_per_sec': '16384000000.0000', 'perf/collect_time_sec': '352.4734', 'perf/train_time_sec': '14.6268', 'perf/collect_steps_per_sec': '1.4526', 'perf/collect_game_steps_per_sec': '92.9659', 'game/terminated_count': '0.0000', 'game/terminated_pct': '0.0000'}\n",
      "Epoch 62: {'l2_reg': '0.1158', 'loss': '1.8694', 'policy_entropy': '0.9769', 'policy_loss': '0.9940', 'value_loss': '0.7596', 'buffer/size': '128000.0000', 'buffer/valid_samples': '123311.0000', 'buffer/fullness_pct': '100.0000', 'perf/train_steps_per_sec': '512000000.0000', 'perf/samples_per_sec': '16384000000.0000', 'perf/collect_time_sec': '353.0427', 'perf/train_time_sec': '14.5595', 'perf/collect_steps_per_sec': '1.4502', 'perf/collect_game_steps_per_sec': '92.8160', 'game/terminated_count': '0.0000', 'game/terminated_pct': '0.0000'}\n",
      "Epoch 63: {'l2_reg': '0.1155', 'loss': '1.8756', 'policy_entropy': '0.9740', 'policy_loss': '0.9929', 'value_loss': '0.7672', 'buffer/size': '128000.0000', 'buffer/valid_samples': '123056.0000', 'buffer/fullness_pct': '100.0000', 'perf/train_steps_per_sec': '512000000.0000', 'perf/samples_per_sec': '16384000000.0000', 'perf/collect_time_sec': '353.7807', 'perf/train_time_sec': '14.6270', 'perf/collect_steps_per_sec': '1.4472', 'perf/collect_game_steps_per_sec': '92.6224', 'game/terminated_count': '0.0000', 'game/terminated_pct': '0.0000'}\n"
     ]
    },
    {
     "name": "stdout",
     "output_type": "stream",
     "text": [
      "Epoch 64: {'l2_reg': '0.1152', 'loss': '1.9292', 'policy_entropy': '0.9826', 'policy_loss': '0.9999', 'value_loss': '0.8142', 'buffer/size': '128000.0000', 'buffer/valid_samples': '122464.0000', 'buffer/fullness_pct': '100.0000', 'perf/train_steps_per_sec': '512000000.0000', 'perf/samples_per_sec': '16384000000.0000', 'perf/collect_time_sec': '350.1001', 'perf/train_time_sec': '14.6755', 'perf/collect_steps_per_sec': '1.4624', 'perf/collect_game_steps_per_sec': '93.5961', 'game/terminated_count': '0.0000', 'game/terminated_pct': '0.0000'}\n",
      "Epoch 65: {'l2_reg': '0.1149', 'loss': '1.8630', 'policy_entropy': '0.9653', 'policy_loss': '0.9799', 'value_loss': '0.7682', 'buffer/size': '128000.0000', 'buffer/valid_samples': '122832.0000', 'buffer/fullness_pct': '100.0000', 'perf/train_steps_per_sec': '512000000.0000', 'perf/samples_per_sec': '16384000000.0000', 'perf/collect_time_sec': '352.2025', 'perf/train_time_sec': '14.7166', 'perf/collect_steps_per_sec': '1.4537', 'perf/collect_game_steps_per_sec': '93.0374', 'game/terminated_count': '0.0000', 'game/terminated_pct': '0.0000'}\n",
      "Epoch 65: {'pip_count_baseline_avg_outcome': '0.2800'}\n",
      "Epoch 66: {'l2_reg': '0.1146', 'loss': '1.8220', 'policy_entropy': '0.9588', 'policy_loss': '0.9773', 'value_loss': '0.7301', 'buffer/size': '128000.0000', 'buffer/valid_samples': '123252.0000', 'buffer/fullness_pct': '100.0000', 'perf/train_steps_per_sec': '512000000.0000', 'perf/samples_per_sec': '16384000000.0000', 'perf/collect_time_sec': '356.0782', 'perf/train_time_sec': '14.6631', 'perf/collect_steps_per_sec': '1.4379', 'perf/collect_game_steps_per_sec': '92.0247', 'game/terminated_count': '0.0000', 'game/terminated_pct': '0.0000'}\n",
      "Epoch 67: {'l2_reg': '0.1143', 'loss': '1.8710', 'policy_entropy': '0.9628', 'policy_loss': '0.9759', 'value_loss': '0.7809', 'buffer/size': '128000.0000', 'buffer/valid_samples': '123045.0000', 'buffer/fullness_pct': '100.0000', 'perf/train_steps_per_sec': '512000000.0000', 'perf/samples_per_sec': '16384000000.0000', 'perf/collect_time_sec': '351.8768', 'perf/train_time_sec': '14.6035', 'perf/collect_steps_per_sec': '1.4551', 'perf/collect_game_steps_per_sec': '93.1235', 'game/terminated_count': '0.0000', 'game/terminated_pct': '0.0000'}\n",
      "Epoch 68: {'l2_reg': '0.1140', 'loss': '1.8473', 'policy_entropy': '0.9612', 'policy_loss': '0.9798', 'value_loss': '0.7536', 'buffer/size': '128000.0000', 'buffer/valid_samples': '123105.0000', 'buffer/fullness_pct': '100.0000', 'perf/train_steps_per_sec': '4.0000', 'perf/samples_per_sec': '128.0000', 'perf/collect_time_sec': '352.3859', 'perf/train_time_sec': '14.6225', 'perf/collect_steps_per_sec': '1.4530', 'perf/collect_game_steps_per_sec': '92.9890', 'game/terminated_count': '0.0000', 'game/terminated_pct': '0.0000'}\n",
      "Epoch 69: {'l2_reg': '0.1136', 'loss': '1.7944', 'policy_entropy': '0.9522', 'policy_loss': '0.9645', 'value_loss': '0.7162', 'buffer/size': '128000.0000', 'buffer/valid_samples': '123776.0000', 'buffer/fullness_pct': '100.0000', 'perf/train_steps_per_sec': '512000000.0000', 'perf/samples_per_sec': '16384000000.0000', 'perf/collect_time_sec': '354.6760', 'perf/train_time_sec': '14.7773', 'perf/collect_steps_per_sec': '1.4436', 'perf/collect_game_steps_per_sec': '92.3886', 'game/terminated_count': '0.0000', 'game/terminated_pct': '0.0000'}\n",
      "Epoch 70: {'l2_reg': '0.1133', 'loss': '1.7853', 'policy_entropy': '0.9484', 'policy_loss': '0.9589', 'value_loss': '0.7131', 'buffer/size': '128000.0000', 'buffer/valid_samples': '123009.0000', 'buffer/fullness_pct': '100.0000', 'perf/train_steps_per_sec': '512000000.0000', 'perf/samples_per_sec': '16384000000.0000', 'perf/collect_time_sec': '353.5338', 'perf/train_time_sec': '14.9405', 'perf/collect_steps_per_sec': '1.4482', 'perf/collect_game_steps_per_sec': '92.6870', 'game/terminated_count': '0.0000', 'game/terminated_pct': '0.0000'}\n",
      "Epoch 70: {'pip_count_baseline_avg_outcome': '0.1600'}\n",
      "Epoch 71: {'l2_reg': '0.1130', 'loss': '1.7966', 'policy_entropy': '0.9522', 'policy_loss': '0.9621', 'value_loss': '0.7215', 'buffer/size': '128000.0000', 'buffer/valid_samples': '123294.0000', 'buffer/fullness_pct': '100.0000', 'perf/train_steps_per_sec': '512000000.0000', 'perf/samples_per_sec': '16384000000.0000', 'perf/collect_time_sec': '354.1858', 'perf/train_time_sec': '14.6710', 'perf/collect_steps_per_sec': '1.4456', 'perf/collect_game_steps_per_sec': '92.5164', 'game/terminated_count': '0.0000', 'game/terminated_pct': '0.0000'}\n",
      "Epoch 72: {'l2_reg': '0.1127', 'loss': '1.8104', 'policy_entropy': '0.9501', 'policy_loss': '0.9617', 'value_loss': '0.7360', 'buffer/size': '128000.0000', 'buffer/valid_samples': '123529.0000', 'buffer/fullness_pct': '100.0000', 'perf/train_steps_per_sec': '4.0000', 'perf/samples_per_sec': '128.0000', 'perf/collect_time_sec': '353.3323', 'perf/train_time_sec': '14.6370', 'perf/collect_steps_per_sec': '1.4491', 'perf/collect_game_steps_per_sec': '92.7399', 'game/terminated_count': '0.0000', 'game/terminated_pct': '0.0000'}\n",
      "Epoch 73: {'l2_reg': '0.1124', 'loss': '1.8034', 'policy_entropy': '0.9387', 'policy_loss': '0.9514', 'value_loss': '0.7396', 'buffer/size': '128000.0000', 'buffer/valid_samples': '123158.0000', 'buffer/fullness_pct': '100.0000', 'perf/train_steps_per_sec': '512000000.0000', 'perf/samples_per_sec': '16384000000.0000', 'perf/collect_time_sec': '353.4711', 'perf/train_time_sec': '14.9243', 'perf/collect_steps_per_sec': '1.4485', 'perf/collect_game_steps_per_sec': '92.7035', 'game/terminated_count': '0.0000', 'game/terminated_pct': '0.0000'}\n",
      "Epoch 74: {'l2_reg': '0.1121', 'loss': '1.8370', 'policy_entropy': '0.9495', 'policy_loss': '0.9630', 'value_loss': '0.7618', 'buffer/size': '128000.0000', 'buffer/valid_samples': '123379.0000', 'buffer/fullness_pct': '100.0000', 'perf/train_steps_per_sec': '512000000.0000', 'perf/samples_per_sec': '16384000000.0000', 'perf/collect_time_sec': '352.1197', 'perf/train_time_sec': '14.8002', 'perf/collect_steps_per_sec': '1.4541', 'perf/collect_game_steps_per_sec': '93.0593', 'game/terminated_count': '0.0000', 'game/terminated_pct': '0.0000'}\n",
      "Epoch 75: {'l2_reg': '0.1118', 'loss': '1.8744', 'policy_entropy': '0.9522', 'policy_loss': '0.9641', 'value_loss': '0.7984', 'buffer/size': '128000.0000', 'buffer/valid_samples': '123991.0000', 'buffer/fullness_pct': '100.0000', 'perf/train_steps_per_sec': '512000000.0000', 'perf/samples_per_sec': '16384000000.0000', 'perf/collect_time_sec': '354.7991', 'perf/train_time_sec': '14.6201', 'perf/collect_steps_per_sec': '1.4431', 'perf/collect_game_steps_per_sec': '92.3565', 'game/terminated_count': '0.0000', 'game/terminated_pct': '0.0000'}\n",
      "Epoch 75: {'pip_count_baseline_avg_outcome': '0.1000'}\n",
      "Epoch 76: {'l2_reg': '0.1116', 'loss': '1.8472', 'policy_entropy': '0.9463', 'policy_loss': '0.9609', 'value_loss': '0.7747', 'buffer/size': '128000.0000', 'buffer/valid_samples': '122931.0000', 'buffer/fullness_pct': '100.0000', 'perf/train_steps_per_sec': '4.0000', 'perf/samples_per_sec': '128.0000', 'perf/collect_time_sec': '352.5956', 'perf/train_time_sec': '14.8758', 'perf/collect_steps_per_sec': '1.4521', 'perf/collect_game_steps_per_sec': '92.9337', 'game/terminated_count': '0.0000', 'game/terminated_pct': '0.0000'}\n",
      "Epoch 77: {'l2_reg': '0.1113', 'loss': '1.8735', 'policy_entropy': '0.9558', 'policy_loss': '0.9734', 'value_loss': '0.7888', 'buffer/size': '128000.0000', 'buffer/valid_samples': '122351.0000', 'buffer/fullness_pct': '100.0000', 'perf/train_steps_per_sec': '512000000.0000', 'perf/samples_per_sec': '16384000000.0000', 'perf/collect_time_sec': '351.8777', 'perf/train_time_sec': '15.0893', 'perf/collect_steps_per_sec': '1.4551', 'perf/collect_game_steps_per_sec': '93.1233', 'game/terminated_count': '0.0000', 'game/terminated_pct': '0.0000'}\n",
      "Epoch 78: {'l2_reg': '0.1110', 'loss': '1.8522', 'policy_entropy': '0.9563', 'policy_loss': '0.9737', 'value_loss': '0.7676', 'buffer/size': '128000.0000', 'buffer/valid_samples': '122873.0000', 'buffer/fullness_pct': '100.0000', 'perf/train_steps_per_sec': '512000000.0000', 'perf/samples_per_sec': '16384000000.0000', 'perf/collect_time_sec': '356.4219', 'perf/train_time_sec': '14.9555', 'perf/collect_steps_per_sec': '1.4365', 'perf/collect_game_steps_per_sec': '91.9360', 'game/terminated_count': '0.0000', 'game/terminated_pct': '0.0000'}\n"
     ]
    },
    {
     "name": "stdout",
     "output_type": "stream",
     "text": [
      "Epoch 80: {'l2_reg': '0.1104', 'loss': '1.8992', 'policy_entropy': '0.9711', 'policy_loss': '0.9899', 'value_loss': '0.7989', 'buffer/size': '128000.0000', 'buffer/valid_samples': '122712.0000', 'buffer/fullness_pct': '100.0000', 'perf/train_steps_per_sec': '512000000.0000', 'perf/samples_per_sec': '16384000000.0000', 'perf/collect_time_sec': '352.0354', 'perf/train_time_sec': '14.8318', 'perf/collect_steps_per_sec': '1.4544', 'perf/collect_game_steps_per_sec': '93.0815', 'game/terminated_count': '0.0000', 'game/terminated_pct': '0.0000'}\n",
      "Epoch 80: {'pip_count_baseline_avg_outcome': '-0.0600'}\n",
      "Epoch 81: {'l2_reg': '0.1101', 'loss': '1.8912', 'policy_entropy': '0.9798', 'policy_loss': '0.9937', 'value_loss': '0.7874', 'buffer/size': '128000.0000', 'buffer/valid_samples': '123096.0000', 'buffer/fullness_pct': '100.0000', 'perf/train_steps_per_sec': '512000000.0000', 'perf/samples_per_sec': '16384000000.0000', 'perf/collect_time_sec': '353.9064', 'perf/train_time_sec': '14.6420', 'perf/collect_steps_per_sec': '1.4467', 'perf/collect_game_steps_per_sec': '92.5894', 'game/terminated_count': '0.0000', 'game/terminated_pct': '0.0000'}\n",
      "Epoch 82: {'l2_reg': '0.1098', 'loss': '1.8678', 'policy_entropy': '0.9652', 'policy_loss': '0.9814', 'value_loss': '0.7766', 'buffer/size': '128000.0000', 'buffer/valid_samples': '122884.0000', 'buffer/fullness_pct': '100.0000', 'perf/train_steps_per_sec': '512000000.0000', 'perf/samples_per_sec': '16384000000.0000', 'perf/collect_time_sec': '353.4154', 'perf/train_time_sec': '14.8250', 'perf/collect_steps_per_sec': '1.4487', 'perf/collect_game_steps_per_sec': '92.7181', 'game/terminated_count': '0.0000', 'game/terminated_pct': '0.0000'}\n",
      "Epoch 83: {'l2_reg': '0.1095', 'loss': '1.8630', 'policy_entropy': '0.9514', 'policy_loss': '0.9665', 'value_loss': '0.7870', 'buffer/size': '128000.0000', 'buffer/valid_samples': '123322.0000', 'buffer/fullness_pct': '100.0000', 'perf/train_steps_per_sec': '512000000.0000', 'perf/samples_per_sec': '16384000000.0000', 'perf/collect_time_sec': '353.1935', 'perf/train_time_sec': '14.7838', 'perf/collect_steps_per_sec': '1.4496', 'perf/collect_game_steps_per_sec': '92.7763', 'game/terminated_count': '0.0000', 'game/terminated_pct': '0.0000'}\n",
      "Epoch 84: {'l2_reg': '0.1093', 'loss': '1.8247', 'policy_entropy': '0.9496', 'policy_loss': '0.9614', 'value_loss': '0.7541', 'buffer/size': '128000.0000', 'buffer/valid_samples': '122331.0000', 'buffer/fullness_pct': '100.0000', 'perf/train_steps_per_sec': '512000000.0000', 'perf/samples_per_sec': '16384000000.0000', 'perf/collect_time_sec': '355.7727', 'perf/train_time_sec': '14.9492', 'perf/collect_steps_per_sec': '1.4391', 'perf/collect_game_steps_per_sec': '92.1037', 'game/terminated_count': '0.0000', 'game/terminated_pct': '0.0000'}\n",
      "Epoch 85: {'l2_reg': '0.1090', 'loss': '1.8270', 'policy_entropy': '0.9493', 'policy_loss': '0.9626', 'value_loss': '0.7554', 'buffer/size': '128000.0000', 'buffer/valid_samples': '123833.0000', 'buffer/fullness_pct': '100.0000', 'perf/train_steps_per_sec': '512000000.0000', 'perf/samples_per_sec': '16384000000.0000', 'perf/collect_time_sec': '353.5828', 'perf/train_time_sec': '14.8125', 'perf/collect_steps_per_sec': '1.4480', 'perf/collect_game_steps_per_sec': '92.6742', 'game/terminated_count': '0.0000', 'game/terminated_pct': '0.0000'}\n",
      "Epoch 85: {'pip_count_baseline_avg_outcome': '-0.0200'}\n",
      "Epoch 86: {'l2_reg': '0.1087', 'loss': '1.7992', 'policy_entropy': '0.9483', 'policy_loss': '0.9596', 'value_loss': '0.7309', 'buffer/size': '128000.0000', 'buffer/valid_samples': '122818.0000', 'buffer/fullness_pct': '100.0000', 'perf/train_steps_per_sec': '512000000.0000', 'perf/samples_per_sec': '16384000000.0000', 'perf/collect_time_sec': '356.5189', 'perf/train_time_sec': '14.9348', 'perf/collect_steps_per_sec': '1.4361', 'perf/collect_game_steps_per_sec': '91.9110', 'game/terminated_count': '0.0000', 'game/terminated_pct': '0.0000'}\n",
      "Epoch 87: {'l2_reg': '0.1084', 'loss': '1.8044', 'policy_entropy': '0.9648', 'policy_loss': '0.9793', 'value_loss': '0.7167', 'buffer/size': '128000.0000', 'buffer/valid_samples': '122686.0000', 'buffer/fullness_pct': '100.0000', 'perf/train_steps_per_sec': '512000000.0000', 'perf/samples_per_sec': '16384000000.0000', 'perf/collect_time_sec': '354.7579', 'perf/train_time_sec': '14.5992', 'perf/collect_steps_per_sec': '1.4432', 'perf/collect_game_steps_per_sec': '92.3672', 'game/terminated_count': '0.0000', 'game/terminated_pct': '0.0000'}\n",
      "Epoch 88: {'l2_reg': '0.1081', 'loss': '1.7746', 'policy_entropy': '0.9580', 'policy_loss': '0.9688', 'value_loss': '0.6977', 'buffer/size': '128000.0000', 'buffer/valid_samples': '122337.0000', 'buffer/fullness_pct': '100.0000', 'perf/train_steps_per_sec': '512000000.0000', 'perf/samples_per_sec': '16384000000.0000', 'perf/collect_time_sec': '352.0425', 'perf/train_time_sec': '14.8275', 'perf/collect_steps_per_sec': '1.4544', 'perf/collect_game_steps_per_sec': '93.0797', 'game/terminated_count': '0.0000', 'game/terminated_pct': '0.0000'}\n",
      "Epoch 89: {'l2_reg': '0.1078', 'loss': '1.7843', 'policy_entropy': '0.9577', 'policy_loss': '0.9726', 'value_loss': '0.7039', 'buffer/size': '128000.0000', 'buffer/valid_samples': '123030.0000', 'buffer/fullness_pct': '100.0000', 'perf/train_steps_per_sec': '512000000.0000', 'perf/samples_per_sec': '16384000000.0000', 'perf/collect_time_sec': '352.9520', 'perf/train_time_sec': '14.8141', 'perf/collect_steps_per_sec': '1.4506', 'perf/collect_game_steps_per_sec': '92.8398', 'game/terminated_count': '0.0000', 'game/terminated_pct': '0.0000'}\n",
      "Epoch 90: {'pip_count_baseline_avg_outcome': '0.3600'}\n",
      "Epoch 91: {'l2_reg': '0.1072', 'loss': '1.8280', 'policy_entropy': '0.9594', 'policy_loss': '0.9725', 'value_loss': '0.7483', 'buffer/size': '128000.0000', 'buffer/valid_samples': '123141.0000', 'buffer/fullness_pct': '100.0000', 'perf/train_steps_per_sec': '512000000.0000', 'perf/samples_per_sec': '16384000000.0000', 'perf/collect_time_sec': '354.7100', 'perf/train_time_sec': '14.5789', 'perf/collect_steps_per_sec': '1.4434', 'perf/collect_game_steps_per_sec': '92.3797', 'game/terminated_count': '0.0000', 'game/terminated_pct': '0.0000'}\n",
      "Epoch 92: {'l2_reg': '0.1069', 'loss': '1.8460', 'policy_entropy': '0.9651', 'policy_loss': '0.9794', 'value_loss': '0.7597', 'buffer/size': '128000.0000', 'buffer/valid_samples': '122978.0000', 'buffer/fullness_pct': '100.0000', 'perf/train_steps_per_sec': '512000000.0000', 'perf/samples_per_sec': '16384000000.0000', 'perf/collect_time_sec': '350.5207', 'perf/train_time_sec': '14.7224', 'perf/collect_steps_per_sec': '1.4607', 'perf/collect_game_steps_per_sec': '93.4838', 'game/terminated_count': '0.0000', 'game/terminated_pct': '0.0000'}\n",
      "Epoch 93: {'l2_reg': '0.1067', 'loss': '1.8234', 'policy_entropy': '0.9628', 'policy_loss': '0.9745', 'value_loss': '0.7422', 'buffer/size': '128000.0000', 'buffer/valid_samples': '123426.0000', 'buffer/fullness_pct': '100.0000', 'perf/train_steps_per_sec': '512000000.0000', 'perf/samples_per_sec': '16384000000.0000', 'perf/collect_time_sec': '354.2762', 'perf/train_time_sec': '14.6562', 'perf/collect_steps_per_sec': '1.4452', 'perf/collect_game_steps_per_sec': '92.4928', 'game/terminated_count': '0.0000', 'game/terminated_pct': '0.0000'}\n",
      "Epoch 94: {'l2_reg': '0.1064', 'loss': '1.8158', 'policy_entropy': '0.9593', 'policy_loss': '0.9699', 'value_loss': '0.7395', 'buffer/size': '128000.0000', 'buffer/valid_samples': '123629.0000', 'buffer/fullness_pct': '100.0000', 'perf/train_steps_per_sec': '512000000.0000', 'perf/samples_per_sec': '16384000000.0000', 'perf/collect_time_sec': '353.0946', 'perf/train_time_sec': '14.6180', 'perf/collect_steps_per_sec': '1.4500', 'perf/collect_game_steps_per_sec': '92.8023', 'game/terminated_count': '0.0000', 'game/terminated_pct': '0.0000'}\n",
      "Epoch 95: {'l2_reg': '0.1062', 'loss': '1.7980', 'policy_entropy': '0.9554', 'policy_loss': '0.9689', 'value_loss': '0.7229', 'buffer/size': '128000.0000', 'buffer/valid_samples': '122993.0000', 'buffer/fullness_pct': '100.0000', 'perf/train_steps_per_sec': '512000000.0000', 'perf/samples_per_sec': '16384000000.0000', 'perf/collect_time_sec': '354.7326', 'perf/train_time_sec': '14.8662', 'perf/collect_steps_per_sec': '1.4433', 'perf/collect_game_steps_per_sec': '92.3738', 'game/terminated_count': '0.0000', 'game/terminated_pct': '0.0000'}\n"
     ]
    },
    {
     "name": "stdout",
     "output_type": "stream",
     "text": [
      "Epoch 95: {'pip_count_baseline_avg_outcome': '-0.4000'}\n",
      "Epoch 96: {'l2_reg': '0.1059', 'loss': '1.7994', 'policy_entropy': '0.9633', 'policy_loss': '0.9735', 'value_loss': '0.7200', 'buffer/size': '128000.0000', 'buffer/valid_samples': '123497.0000', 'buffer/fullness_pct': '100.0000', 'perf/train_steps_per_sec': '512000000.0000', 'perf/samples_per_sec': '16384000000.0000', 'perf/collect_time_sec': '354.5346', 'perf/train_time_sec': '14.7543', 'perf/collect_steps_per_sec': '1.4441', 'perf/collect_game_steps_per_sec': '92.4254', 'game/terminated_count': '0.0000', 'game/terminated_pct': '0.0000'}\n",
      "Epoch 97: {'l2_reg': '0.1057', 'loss': '1.8233', 'policy_entropy': '0.9599', 'policy_loss': '0.9707', 'value_loss': '0.7469', 'buffer/size': '128000.0000', 'buffer/valid_samples': '122374.0000', 'buffer/fullness_pct': '100.0000', 'perf/train_steps_per_sec': '512000000.0000', 'perf/samples_per_sec': '16384000000.0000', 'perf/collect_time_sec': '354.3326', 'perf/train_time_sec': '14.5873', 'perf/collect_steps_per_sec': '1.4450', 'perf/collect_game_steps_per_sec': '92.4781', 'game/terminated_count': '0.0000', 'game/terminated_pct': '0.0000'}\n",
      "Epoch 98: {'l2_reg': '0.1055', 'loss': '1.8374', 'policy_entropy': '0.9660', 'policy_loss': '0.9775', 'value_loss': '0.7545', 'buffer/size': '128000.0000', 'buffer/valid_samples': '122868.0000', 'buffer/fullness_pct': '100.0000', 'perf/train_steps_per_sec': '512000000.0000', 'perf/samples_per_sec': '16384000000.0000', 'perf/collect_time_sec': '350.2466', 'perf/train_time_sec': '14.6275', 'perf/collect_steps_per_sec': '1.4618', 'perf/collect_game_steps_per_sec': '93.5569', 'game/terminated_count': '0.0000', 'game/terminated_pct': '0.0000'}\n",
      "Epoch 99: {'l2_reg': '0.1052', 'loss': '1.8499', 'policy_entropy': '0.9747', 'policy_loss': '0.9885', 'value_loss': '0.7562', 'buffer/size': '128000.0000', 'buffer/valid_samples': '122712.0000', 'buffer/fullness_pct': '100.0000', 'perf/train_steps_per_sec': '512000000.0000', 'perf/samples_per_sec': '16384000000.0000', 'perf/collect_time_sec': '351.1200', 'perf/train_time_sec': '14.5853', 'perf/collect_steps_per_sec': '1.4582', 'perf/collect_game_steps_per_sec': '93.3242', 'game/terminated_count': '0.0000', 'game/terminated_pct': '0.0000'}\n",
      "Epoch 100: {'l2_reg': '0.1050', 'loss': '1.8218', 'policy_entropy': '0.9702', 'policy_loss': '0.9796', 'value_loss': '0.7372', 'buffer/size': '128000.0000', 'buffer/valid_samples': '123040.0000', 'buffer/fullness_pct': '100.0000', 'perf/train_steps_per_sec': '512000000.0000', 'perf/samples_per_sec': '16384000000.0000', 'perf/collect_time_sec': '355.2312', 'perf/train_time_sec': '14.5762', 'perf/collect_steps_per_sec': '1.4413', 'perf/collect_game_steps_per_sec': '92.2441', 'game/terminated_count': '0.0000', 'game/terminated_pct': '0.0000'}\n",
      "Epoch 100: {'pip_count_baseline_avg_outcome': '0.2000'}\n",
      "Epoch 101: {'l2_reg': '0.1048', 'loss': '1.8287', 'policy_entropy': '0.9707', 'policy_loss': '0.9788', 'value_loss': '0.7452', 'buffer/size': '128000.0000', 'buffer/valid_samples': '122879.0000', 'buffer/fullness_pct': '100.0000', 'perf/train_steps_per_sec': '512000000.0000', 'perf/samples_per_sec': '16384000000.0000', 'perf/collect_time_sec': '354.3694', 'perf/train_time_sec': '14.5860', 'perf/collect_steps_per_sec': '1.4448', 'perf/collect_game_steps_per_sec': '92.4685', 'game/terminated_count': '0.0000', 'game/terminated_pct': '0.0000'}\n",
      "Epoch 102: {'l2_reg': '0.1045', 'loss': '1.8275', 'policy_entropy': '0.9702', 'policy_loss': '0.9790', 'value_loss': '0.7440', 'buffer/size': '128000.0000', 'buffer/valid_samples': '122970.0000', 'buffer/fullness_pct': '100.0000', 'perf/train_steps_per_sec': '512000000.0000', 'perf/samples_per_sec': '16384000000.0000', 'perf/collect_time_sec': '353.3381', 'perf/train_time_sec': '14.7452', 'perf/collect_steps_per_sec': '1.4490', 'perf/collect_game_steps_per_sec': '92.7384', 'game/terminated_count': '0.0000', 'game/terminated_pct': '0.0000'}\n",
      "Epoch 103: {'l2_reg': '0.1043', 'loss': '1.8238', 'policy_entropy': '0.9718', 'policy_loss': '0.9865', 'value_loss': '0.7331', 'buffer/size': '128000.0000', 'buffer/valid_samples': '123081.0000', 'buffer/fullness_pct': '100.0000', 'perf/train_steps_per_sec': '512000000.0000', 'perf/samples_per_sec': '16384000000.0000', 'perf/collect_time_sec': '354.6407', 'perf/train_time_sec': '14.6497', 'perf/collect_steps_per_sec': '1.4437', 'perf/collect_game_steps_per_sec': '92.3977', 'game/terminated_count': '0.0000', 'game/terminated_pct': '0.0000'}\n",
      "Epoch 104: {'l2_reg': '0.1040', 'loss': '1.8024', 'policy_entropy': '0.9549', 'policy_loss': '0.9688', 'value_loss': '0.7295', 'buffer/size': '128000.0000', 'buffer/valid_samples': '123790.0000', 'buffer/fullness_pct': '100.0000', 'perf/train_steps_per_sec': '512000000.0000', 'perf/samples_per_sec': '16384000000.0000', 'perf/collect_time_sec': '354.4485', 'perf/train_time_sec': '14.7709', 'perf/collect_steps_per_sec': '1.4445', 'perf/collect_game_steps_per_sec': '92.4479', 'game/terminated_count': '0.0000', 'game/terminated_pct': '0.0000'}\n",
      "Epoch 105: {'l2_reg': '0.1038', 'loss': '1.8111', 'policy_entropy': '0.9666', 'policy_loss': '0.9809', 'value_loss': '0.7264', 'buffer/size': '128000.0000', 'buffer/valid_samples': '122970.0000', 'buffer/fullness_pct': '100.0000', 'perf/train_steps_per_sec': '4.0000', 'perf/samples_per_sec': '128.0000', 'perf/collect_time_sec': '352.0286', 'perf/train_time_sec': '15.0147', 'perf/collect_steps_per_sec': '1.4544', 'perf/collect_game_steps_per_sec': '93.0833', 'game/terminated_count': '0.0000', 'game/terminated_pct': '0.0000'}\n",
      "Epoch 105: {'pip_count_baseline_avg_outcome': '0.1200'}\n",
      "Epoch 106: {'l2_reg': '0.1036', 'loss': '1.8066', 'policy_entropy': '0.9552', 'policy_loss': '0.9665', 'value_loss': '0.7366', 'buffer/size': '128000.0000', 'buffer/valid_samples': '123100.0000', 'buffer/fullness_pct': '100.0000', 'perf/train_steps_per_sec': '512000000.0000', 'perf/samples_per_sec': '16384000000.0000', 'perf/collect_time_sec': '353.8518', 'perf/train_time_sec': '14.7390', 'perf/collect_steps_per_sec': '1.4469', 'perf/collect_game_steps_per_sec': '92.6038', 'game/terminated_count': '0.0000', 'game/terminated_pct': '0.0000'}\n",
      "Epoch 107: {'l2_reg': '0.1033', 'loss': '1.8039', 'policy_entropy': '0.9649', 'policy_loss': '0.9773', 'value_loss': '0.7234', 'buffer/size': '128000.0000', 'buffer/valid_samples': '123531.0000', 'buffer/fullness_pct': '100.0000', 'perf/train_steps_per_sec': '512000000.0000', 'perf/samples_per_sec': '16384000000.0000', 'perf/collect_time_sec': '352.8156', 'perf/train_time_sec': '14.7263', 'perf/collect_steps_per_sec': '1.4512', 'perf/collect_game_steps_per_sec': '92.8757', 'game/terminated_count': '0.0000', 'game/terminated_pct': '0.0000'}\n",
      "Epoch 108: {'l2_reg': '0.1031', 'loss': '1.7829', 'policy_entropy': '0.9546', 'policy_loss': '0.9657', 'value_loss': '0.7141', 'buffer/size': '128000.0000', 'buffer/valid_samples': '122360.0000', 'buffer/fullness_pct': '100.0000', 'perf/train_steps_per_sec': '512000000.0000', 'perf/samples_per_sec': '16384000000.0000', 'perf/collect_time_sec': '353.0783', 'perf/train_time_sec': '14.6757', 'perf/collect_steps_per_sec': '1.4501', 'perf/collect_game_steps_per_sec': '92.8066', 'game/terminated_count': '0.0000', 'game/terminated_pct': '0.0000'}\n",
      "Epoch 109: {'l2_reg': '0.1028', 'loss': '1.8159', 'policy_entropy': '0.9549', 'policy_loss': '0.9647', 'value_loss': '0.7484', 'buffer/size': '128000.0000', 'buffer/valid_samples': '122318.0000', 'buffer/fullness_pct': '100.0000', 'perf/train_steps_per_sec': '512000000.0000', 'perf/samples_per_sec': '16384000000.0000', 'perf/collect_time_sec': '355.4386', 'perf/train_time_sec': '14.8381', 'perf/collect_steps_per_sec': '1.4405', 'perf/collect_game_steps_per_sec': '92.1903', 'game/terminated_count': '0.0000', 'game/terminated_pct': '0.0000'}\n",
      "Epoch 110: {'l2_reg': '0.1026', 'loss': '1.8042', 'policy_entropy': '0.9644', 'policy_loss': '0.9727', 'value_loss': '0.7289', 'buffer/size': '128000.0000', 'buffer/valid_samples': '122224.0000', 'buffer/fullness_pct': '100.0000', 'perf/train_steps_per_sec': '512000000.0000', 'perf/samples_per_sec': '16384000000.0000', 'perf/collect_time_sec': '354.3989', 'perf/train_time_sec': '14.8098', 'perf/collect_steps_per_sec': '1.4447', 'perf/collect_game_steps_per_sec': '92.4608', 'game/terminated_count': '0.0000', 'game/terminated_pct': '0.0000'}\n"
     ]
    },
    {
     "name": "stdout",
     "output_type": "stream",
     "text": [
      "Epoch 110: {'pip_count_baseline_avg_outcome': '-0.1000'}\n",
      "Epoch 111: {'l2_reg': '0.1023', 'loss': '1.7985', 'policy_entropy': '0.9536', 'policy_loss': '0.9610', 'value_loss': '0.7351', 'buffer/size': '128000.0000', 'buffer/valid_samples': '122536.0000', 'buffer/fullness_pct': '100.0000', 'perf/train_steps_per_sec': '512000000.0000', 'perf/samples_per_sec': '16384000000.0000', 'perf/collect_time_sec': '351.5562', 'perf/train_time_sec': '14.8159', 'perf/collect_steps_per_sec': '1.4564', 'perf/collect_game_steps_per_sec': '93.2084', 'game/terminated_count': '0.0000', 'game/terminated_pct': '0.0000'}\n",
      "Epoch 112: {'l2_reg': '0.1021', 'loss': '1.8201', 'policy_entropy': '0.9569', 'policy_loss': '0.9676', 'value_loss': '0.7504', 'buffer/size': '128000.0000', 'buffer/valid_samples': '123709.0000', 'buffer/fullness_pct': '100.0000', 'perf/train_steps_per_sec': '512000000.0000', 'perf/samples_per_sec': '16384000000.0000', 'perf/collect_time_sec': '353.2373', 'perf/train_time_sec': '14.6003', 'perf/collect_steps_per_sec': '1.4495', 'perf/collect_game_steps_per_sec': '92.7648', 'game/terminated_count': '0.0000', 'game/terminated_pct': '0.0000'}\n",
      "Epoch 113: {'l2_reg': '0.1019', 'loss': '1.8276', 'policy_entropy': '0.9601', 'policy_loss': '0.9702', 'value_loss': '0.7556', 'buffer/size': '128000.0000', 'buffer/valid_samples': '122961.0000', 'buffer/fullness_pct': '100.0000', 'perf/train_steps_per_sec': '512000000.0000', 'perf/samples_per_sec': '16384000000.0000', 'perf/collect_time_sec': '351.8015', 'perf/train_time_sec': '14.5869', 'perf/collect_steps_per_sec': '1.4554', 'perf/collect_game_steps_per_sec': '93.1434', 'game/terminated_count': '0.0000', 'game/terminated_pct': '0.0000'}\n",
      "Epoch 114: {'l2_reg': '0.1016', 'loss': '1.8255', 'policy_entropy': '0.9558', 'policy_loss': '0.9659', 'value_loss': '0.7580', 'buffer/size': '128000.0000', 'buffer/valid_samples': '123585.0000', 'buffer/fullness_pct': '100.0000', 'perf/train_steps_per_sec': '512000000.0000', 'perf/samples_per_sec': '16384000000.0000', 'perf/collect_time_sec': '353.9898', 'perf/train_time_sec': '14.6953', 'perf/collect_steps_per_sec': '1.4464', 'perf/collect_game_steps_per_sec': '92.5676', 'game/terminated_count': '0.0000', 'game/terminated_pct': '0.0000'}\n",
      "Epoch 115: {'l2_reg': '0.1014', 'loss': '1.8236', 'policy_entropy': '0.9524', 'policy_loss': '0.9631', 'value_loss': '0.7590', 'buffer/size': '128000.0000', 'buffer/valid_samples': '122478.0000', 'buffer/fullness_pct': '100.0000', 'perf/train_steps_per_sec': '4.0000', 'perf/samples_per_sec': '128.0000', 'perf/collect_time_sec': '352.5234', 'perf/train_time_sec': '14.5720', 'perf/collect_steps_per_sec': '1.4524', 'perf/collect_game_steps_per_sec': '92.9527', 'game/terminated_count': '0.0000', 'game/terminated_pct': '0.0000'}\n",
      "Epoch 115: {'pip_count_baseline_avg_outcome': '-0.1800'}\n",
      "Epoch 116: {'l2_reg': '0.1012', 'loss': '1.7989', 'policy_entropy': '0.9507', 'policy_loss': '0.9610', 'value_loss': '0.7367', 'buffer/size': '128000.0000', 'buffer/valid_samples': '123362.0000', 'buffer/fullness_pct': '100.0000', 'perf/train_steps_per_sec': '512000000.0000', 'perf/samples_per_sec': '16384000000.0000', 'perf/collect_time_sec': '353.7351', 'perf/train_time_sec': '14.5937', 'perf/collect_steps_per_sec': '1.4474', 'perf/collect_game_steps_per_sec': '92.6343', 'game/terminated_count': '0.0000', 'game/terminated_pct': '0.0000'}\n",
      "Epoch 117: {'l2_reg': '0.1010', 'loss': '1.7923', 'policy_entropy': '0.9569', 'policy_loss': '0.9651', 'value_loss': '0.7263', 'buffer/size': '128000.0000', 'buffer/valid_samples': '123224.0000', 'buffer/fullness_pct': '100.0000', 'perf/train_steps_per_sec': '512000000.0000', 'perf/samples_per_sec': '16384000000.0000', 'perf/collect_time_sec': '352.5268', 'perf/train_time_sec': '14.6112', 'perf/collect_steps_per_sec': '1.4524', 'perf/collect_game_steps_per_sec': '92.9518', 'game/terminated_count': '0.0000', 'game/terminated_pct': '0.0000'}\n",
      "Epoch 118: {'l2_reg': '0.1008', 'loss': '1.7829', 'policy_entropy': '0.9441', 'policy_loss': '0.9609', 'value_loss': '0.7212', 'buffer/size': '128000.0000', 'buffer/valid_samples': '122867.0000', 'buffer/fullness_pct': '100.0000', 'perf/train_steps_per_sec': '512000000.0000', 'perf/samples_per_sec': '16384000000.0000', 'perf/collect_time_sec': '352.4034', 'perf/train_time_sec': '14.7837', 'perf/collect_steps_per_sec': '1.4529', 'perf/collect_game_steps_per_sec': '92.9843', 'game/terminated_count': '0.0000', 'game/terminated_pct': '0.0000'}\n",
      "Epoch 119: {'l2_reg': '0.1005', 'loss': '1.7669', 'policy_entropy': '0.9521', 'policy_loss': '0.9621', 'value_loss': '0.7042', 'buffer/size': '128000.0000', 'buffer/valid_samples': '123537.0000', 'buffer/fullness_pct': '100.0000', 'perf/train_steps_per_sec': '512000000.0000', 'perf/samples_per_sec': '16384000000.0000', 'perf/collect_time_sec': '353.6524', 'perf/train_time_sec': '14.8879', 'perf/collect_steps_per_sec': '1.4477', 'perf/collect_game_steps_per_sec': '92.6560', 'game/terminated_count': '0.0000', 'game/terminated_pct': '0.0000'}\n",
      "Epoch 120: {'l2_reg': '0.1003', 'loss': '1.7483', 'policy_entropy': '0.9442', 'policy_loss': '0.9521', 'value_loss': '0.6959', 'buffer/size': '128000.0000', 'buffer/valid_samples': '122479.0000', 'buffer/fullness_pct': '100.0000', 'perf/train_steps_per_sec': '512000000.0000', 'perf/samples_per_sec': '16384000000.0000', 'perf/collect_time_sec': '352.1080', 'perf/train_time_sec': '15.2438', 'perf/collect_steps_per_sec': '1.4541', 'perf/collect_game_steps_per_sec': '93.0623', 'game/terminated_count': '0.0000', 'game/terminated_pct': '0.0000'}\n",
      "Epoch 120: {'pip_count_baseline_avg_outcome': '-0.2600'}\n",
      "Epoch 121: {'l2_reg': '0.1001', 'loss': '1.7718', 'policy_entropy': '0.9460', 'policy_loss': '0.9567', 'value_loss': '0.7150', 'buffer/size': '128000.0000', 'buffer/valid_samples': '124034.0000', 'buffer/fullness_pct': '100.0000', 'perf/train_steps_per_sec': '512000000.0000', 'perf/samples_per_sec': '16384000000.0000', 'perf/collect_time_sec': '353.5534', 'perf/train_time_sec': '15.0038', 'perf/collect_steps_per_sec': '1.4482', 'perf/collect_game_steps_per_sec': '92.6819', 'game/terminated_count': '0.0000', 'game/terminated_pct': '0.0000'}\n",
      "Epoch 122: {'l2_reg': '0.0998', 'loss': '1.7979', 'policy_entropy': '0.9455', 'policy_loss': '0.9525', 'value_loss': '0.7456', 'buffer/size': '128000.0000', 'buffer/valid_samples': '123171.0000', 'buffer/fullness_pct': '100.0000', 'perf/train_steps_per_sec': '512000000.0000', 'perf/samples_per_sec': '16384000000.0000', 'perf/collect_time_sec': '353.6357', 'perf/train_time_sec': '14.9249', 'perf/collect_steps_per_sec': '1.4478', 'perf/collect_game_steps_per_sec': '92.6603', 'game/terminated_count': '0.0000', 'game/terminated_pct': '0.0000'}\n",
      "Epoch 123: {'l2_reg': '0.0996', 'loss': '1.7979', 'policy_entropy': '0.9524', 'policy_loss': '0.9626', 'value_loss': '0.7357', 'buffer/size': '128000.0000', 'buffer/valid_samples': '122936.0000', 'buffer/fullness_pct': '100.0000', 'perf/train_steps_per_sec': '512000000.0000', 'perf/samples_per_sec': '16384000000.0000', 'perf/collect_time_sec': '353.5596', 'perf/train_time_sec': '14.8900', 'perf/collect_steps_per_sec': '1.4481', 'perf/collect_game_steps_per_sec': '92.6803', 'game/terminated_count': '0.0000', 'game/terminated_pct': '0.0000'}\n",
      "Epoch 124: {'l2_reg': '0.0994', 'loss': '1.8073', 'policy_entropy': '0.9633', 'policy_loss': '0.9695', 'value_loss': '0.7384', 'buffer/size': '128000.0000', 'buffer/valid_samples': '122682.0000', 'buffer/fullness_pct': '100.0000', 'perf/train_steps_per_sec': '4.0000', 'perf/samples_per_sec': '128.0000', 'perf/collect_time_sec': '352.7239', 'perf/train_time_sec': '14.6445', 'perf/collect_steps_per_sec': '1.4516', 'perf/collect_game_steps_per_sec': '92.8999', 'game/terminated_count': '0.0000', 'game/terminated_pct': '0.0000'}\n",
      "Epoch 125: {'l2_reg': '0.0992', 'loss': '1.8176', 'policy_entropy': '0.9687', 'policy_loss': '0.9760', 'value_loss': '0.7425', 'buffer/size': '128000.0000', 'buffer/valid_samples': '122939.0000', 'buffer/fullness_pct': '100.0000', 'perf/train_steps_per_sec': '512000000.0000', 'perf/samples_per_sec': '16384000000.0000', 'perf/collect_time_sec': '353.1423', 'perf/train_time_sec': '14.6233', 'perf/collect_steps_per_sec': '1.4498', 'perf/collect_game_steps_per_sec': '92.7898', 'game/terminated_count': '0.0000', 'game/terminated_pct': '0.0000'}\n"
     ]
    },
    {
     "name": "stdout",
     "output_type": "stream",
     "text": [
      "Epoch 125: {'pip_count_baseline_avg_outcome': '-0.1000'}\n",
      "Epoch 126: {'l2_reg': '0.0989', 'loss': '1.8367', 'policy_entropy': '0.9674', 'policy_loss': '0.9770', 'value_loss': '0.7607', 'buffer/size': '128000.0000', 'buffer/valid_samples': '123507.0000', 'buffer/fullness_pct': '100.0000', 'perf/train_steps_per_sec': '512000000.0000', 'perf/samples_per_sec': '16384000000.0000', 'perf/collect_time_sec': '350.5579', 'perf/train_time_sec': '14.8240', 'perf/collect_steps_per_sec': '1.4605', 'perf/collect_game_steps_per_sec': '93.4739', 'game/terminated_count': '0.0000', 'game/terminated_pct': '0.0000'}\n",
      "Epoch 127: {'l2_reg': '0.0987', 'loss': '1.7980', 'policy_entropy': '0.9474', 'policy_loss': '0.9529', 'value_loss': '0.7463', 'buffer/size': '128000.0000', 'buffer/valid_samples': '124064.0000', 'buffer/fullness_pct': '100.0000', 'perf/train_steps_per_sec': '512000000.0000', 'perf/samples_per_sec': '16384000000.0000', 'perf/collect_time_sec': '353.4618', 'perf/train_time_sec': '14.9409', 'perf/collect_steps_per_sec': '1.4485', 'perf/collect_game_steps_per_sec': '92.7059', 'game/terminated_count': '0.0000', 'game/terminated_pct': '0.0000'}\n",
      "Epoch 128: {'l2_reg': '0.0985', 'loss': '1.7818', 'policy_entropy': '0.9478', 'policy_loss': '0.9553', 'value_loss': '0.7279', 'buffer/size': '128000.0000', 'buffer/valid_samples': '122513.0000', 'buffer/fullness_pct': '100.0000', 'perf/train_steps_per_sec': '4.0000', 'perf/samples_per_sec': '128.0000', 'perf/collect_time_sec': '354.4896', 'perf/train_time_sec': '15.1281', 'perf/collect_steps_per_sec': '1.4443', 'perf/collect_game_steps_per_sec': '92.4371', 'game/terminated_count': '0.0000', 'game/terminated_pct': '0.0000'}\n",
      "Epoch 129: {'l2_reg': '0.0983', 'loss': '1.7671', 'policy_entropy': '0.9352', 'policy_loss': '0.9422', 'value_loss': '0.7266', 'buffer/size': '128000.0000', 'buffer/valid_samples': '122988.0000', 'buffer/fullness_pct': '100.0000', 'perf/train_steps_per_sec': '512000000.0000', 'perf/samples_per_sec': '16384000000.0000', 'perf/collect_time_sec': '352.7885', 'perf/train_time_sec': '14.9162', 'perf/collect_steps_per_sec': '1.4513', 'perf/collect_game_steps_per_sec': '92.8828', 'game/terminated_count': '0.0000', 'game/terminated_pct': '0.0000'}\n",
      "Epoch 130: {'l2_reg': '0.0981', 'loss': '1.7780', 'policy_entropy': '0.9284', 'policy_loss': '0.9356', 'value_loss': '0.7443', 'buffer/size': '128000.0000', 'buffer/valid_samples': '123089.0000', 'buffer/fullness_pct': '100.0000', 'perf/train_steps_per_sec': '512000000.0000', 'perf/samples_per_sec': '16384000000.0000', 'perf/collect_time_sec': '353.4862', 'perf/train_time_sec': '14.8840', 'perf/collect_steps_per_sec': '1.4484', 'perf/collect_game_steps_per_sec': '92.6995', 'game/terminated_count': '0.0000', 'game/terminated_pct': '0.0000'}\n",
      "Epoch 130: {'pip_count_baseline_avg_outcome': '-0.1200'}\n",
      "Epoch 131: {'l2_reg': '0.0979', 'loss': '1.7380', 'policy_entropy': '0.9227', 'policy_loss': '0.9280', 'value_loss': '0.7121', 'buffer/size': '128000.0000', 'buffer/valid_samples': '122749.0000', 'buffer/fullness_pct': '100.0000', 'perf/train_steps_per_sec': '512000000.0000', 'perf/samples_per_sec': '16384000000.0000', 'perf/collect_time_sec': '353.9961', 'perf/train_time_sec': '14.9209', 'perf/collect_steps_per_sec': '1.4463', 'perf/collect_game_steps_per_sec': '92.5660', 'game/terminated_count': '0.0000', 'game/terminated_pct': '0.0000'}\n",
      "Epoch 132: {'l2_reg': '0.0977', 'loss': '1.7448', 'policy_entropy': '0.9307', 'policy_loss': '0.9424', 'value_loss': '0.7047', 'buffer/size': '128000.0000', 'buffer/valid_samples': '122552.0000', 'buffer/fullness_pct': '100.0000', 'perf/train_steps_per_sec': '4.0000', 'perf/samples_per_sec': '128.0000', 'perf/collect_time_sec': '354.4966', 'perf/train_time_sec': '14.9904', 'perf/collect_steps_per_sec': '1.4443', 'perf/collect_game_steps_per_sec': '92.4353', 'game/terminated_count': '0.0000', 'game/terminated_pct': '0.0000'}\n",
      "Epoch 133: {'l2_reg': '0.0974', 'loss': '1.7512', 'policy_entropy': '0.9454', 'policy_loss': '0.9537', 'value_loss': '0.7001', 'buffer/size': '128000.0000', 'buffer/valid_samples': '123823.0000', 'buffer/fullness_pct': '100.0000', 'perf/train_steps_per_sec': '512000000.0000', 'perf/samples_per_sec': '16384000000.0000', 'perf/collect_time_sec': '356.8916', 'perf/train_time_sec': '15.0048', 'perf/collect_steps_per_sec': '1.4346', 'perf/collect_game_steps_per_sec': '91.8150', 'game/terminated_count': '0.0000', 'game/terminated_pct': '0.0000'}\n",
      "Epoch 134: {'l2_reg': '0.0972', 'loss': '1.7259', 'policy_entropy': '0.9354', 'policy_loss': '0.9438', 'value_loss': '0.6849', 'buffer/size': '128000.0000', 'buffer/valid_samples': '124044.0000', 'buffer/fullness_pct': '100.0000', 'perf/train_steps_per_sec': '512000000.0000', 'perf/samples_per_sec': '16384000000.0000', 'perf/collect_time_sec': '354.4107', 'perf/train_time_sec': '14.7983', 'perf/collect_steps_per_sec': '1.4447', 'perf/collect_game_steps_per_sec': '92.4577', 'game/terminated_count': '0.0000', 'game/terminated_pct': '0.0000'}\n",
      "Epoch 135: {'l2_reg': '0.0969', 'loss': '1.7227', 'policy_entropy': '0.9329', 'policy_loss': '0.9374', 'value_loss': '0.6884', 'buffer/size': '128000.0000', 'buffer/valid_samples': '123731.0000', 'buffer/fullness_pct': '100.0000', 'perf/train_steps_per_sec': '512000000.0000', 'perf/samples_per_sec': '16384000000.0000', 'perf/collect_time_sec': '354.2027', 'perf/train_time_sec': '14.6014', 'perf/collect_steps_per_sec': '1.4455', 'perf/collect_game_steps_per_sec': '92.5120', 'game/terminated_count': '0.0000', 'game/terminated_pct': '0.0000'}\n",
      "Epoch 135: {'pip_count_baseline_avg_outcome': '0.4200'}\n",
      "Epoch 136: {'l2_reg': '0.0967', 'loss': '1.7524', 'policy_entropy': '0.9353', 'policy_loss': '0.9436', 'value_loss': '0.7120', 'buffer/size': '128000.0000', 'buffer/valid_samples': '123118.0000', 'buffer/fullness_pct': '100.0000', 'perf/train_steps_per_sec': '512000000.0000', 'perf/samples_per_sec': '16384000000.0000', 'perf/collect_time_sec': '352.3773', 'perf/train_time_sec': '14.8563', 'perf/collect_steps_per_sec': '1.4530', 'perf/collect_game_steps_per_sec': '92.9912', 'game/terminated_count': '0.0000', 'game/terminated_pct': '0.0000'}\n",
      "Epoch 137: {'l2_reg': '0.0965', 'loss': '1.7783', 'policy_entropy': '0.9401', 'policy_loss': '0.9485', 'value_loss': '0.7333', 'buffer/size': '128000.0000', 'buffer/valid_samples': '122577.0000', 'buffer/fullness_pct': '100.0000', 'perf/train_steps_per_sec': '4.0000', 'perf/samples_per_sec': '128.0000', 'perf/collect_time_sec': '352.8329', 'perf/train_time_sec': '14.6496', 'perf/collect_steps_per_sec': '1.4511', 'perf/collect_game_steps_per_sec': '92.8712', 'game/terminated_count': '0.0000', 'game/terminated_pct': '0.0000'}\n",
      "Epoch 138: {'l2_reg': '0.0963', 'loss': '1.7720', 'policy_entropy': '0.9376', 'policy_loss': '0.9474', 'value_loss': '0.7283', 'buffer/size': '128000.0000', 'buffer/valid_samples': '123203.0000', 'buffer/fullness_pct': '100.0000', 'perf/train_steps_per_sec': '512000000.0000', 'perf/samples_per_sec': '16384000000.0000', 'perf/collect_time_sec': '355.0762', 'perf/train_time_sec': '14.9536', 'perf/collect_steps_per_sec': '1.4419', 'perf/collect_game_steps_per_sec': '92.2844', 'game/terminated_count': '0.0000', 'game/terminated_pct': '0.0000'}\n",
      "Epoch 139: {'l2_reg': '0.0961', 'loss': '1.7964', 'policy_entropy': '0.9409', 'policy_loss': '0.9473', 'value_loss': '0.7530', 'buffer/size': '128000.0000', 'buffer/valid_samples': '122579.0000', 'buffer/fullness_pct': '100.0000', 'perf/train_steps_per_sec': '512000000.0000', 'perf/samples_per_sec': '16384000000.0000', 'perf/collect_time_sec': '351.9419', 'perf/train_time_sec': '14.6925', 'perf/collect_steps_per_sec': '1.4548', 'perf/collect_game_steps_per_sec': '93.1063', 'game/terminated_count': '0.0000', 'game/terminated_pct': '0.0000'}\n",
      "Epoch 140: {'l2_reg': '0.0959', 'loss': '1.8155', 'policy_entropy': '0.9451', 'policy_loss': '0.9554', 'value_loss': '0.7642', 'buffer/size': '128000.0000', 'buffer/valid_samples': '122730.0000', 'buffer/fullness_pct': '100.0000', 'perf/train_steps_per_sec': '512000000.0000', 'perf/samples_per_sec': '16384000000.0000', 'perf/collect_time_sec': '354.0546', 'perf/train_time_sec': '14.6282', 'perf/collect_steps_per_sec': '1.4461', 'perf/collect_game_steps_per_sec': '92.5507', 'game/terminated_count': '0.0000', 'game/terminated_pct': '0.0000'}\n"
     ]
    },
    {
     "name": "stdout",
     "output_type": "stream",
     "text": [
      "Epoch 140: {'pip_count_baseline_avg_outcome': '0.0600'}\n",
      "Epoch 141: {'l2_reg': '0.0957', 'loss': '1.7719', 'policy_entropy': '0.9361', 'policy_loss': '0.9448', 'value_loss': '0.7314', 'buffer/size': '128000.0000', 'buffer/valid_samples': '122901.0000', 'buffer/fullness_pct': '100.0000', 'perf/train_steps_per_sec': '512000000.0000', 'perf/samples_per_sec': '16384000000.0000', 'perf/collect_time_sec': '353.4825', 'perf/train_time_sec': '14.6440', 'perf/collect_steps_per_sec': '1.4484', 'perf/collect_game_steps_per_sec': '92.7005', 'game/terminated_count': '0.0000', 'game/terminated_pct': '0.0000'}\n",
      "Epoch 142: {'l2_reg': '0.0956', 'loss': '1.8011', 'policy_entropy': '0.9532', 'policy_loss': '0.9630', 'value_loss': '0.7426', 'buffer/size': '128000.0000', 'buffer/valid_samples': '123311.0000', 'buffer/fullness_pct': '100.0000', 'perf/train_steps_per_sec': '4.0000', 'perf/samples_per_sec': '128.0000', 'perf/collect_time_sec': '353.0121', 'perf/train_time_sec': '14.9439', 'perf/collect_steps_per_sec': '1.4504', 'perf/collect_game_steps_per_sec': '92.8240', 'game/terminated_count': '0.0000', 'game/terminated_pct': '0.0000'}\n",
      "Epoch 143: {'l2_reg': '0.0954', 'loss': '1.8048', 'policy_entropy': '0.9518', 'policy_loss': '0.9609', 'value_loss': '0.7485', 'buffer/size': '128000.0000', 'buffer/valid_samples': '122772.0000', 'buffer/fullness_pct': '100.0000', 'perf/train_steps_per_sec': '512000000.0000', 'perf/samples_per_sec': '16384000000.0000', 'perf/collect_time_sec': '353.7548', 'perf/train_time_sec': '14.8684', 'perf/collect_steps_per_sec': '1.4473', 'perf/collect_game_steps_per_sec': '92.6291', 'game/terminated_count': '0.0000', 'game/terminated_pct': '0.0000'}\n",
      "Epoch 145: {'l2_reg': '0.0950', 'loss': '1.8103', 'policy_entropy': '0.9618', 'policy_loss': '0.9703', 'value_loss': '0.7450', 'buffer/size': '128000.0000', 'buffer/valid_samples': '122775.0000', 'buffer/fullness_pct': '100.0000', 'perf/train_steps_per_sec': '512000000.0000', 'perf/samples_per_sec': '16384000000.0000', 'perf/collect_time_sec': '354.5222', 'perf/train_time_sec': '14.8958', 'perf/collect_steps_per_sec': '1.4442', 'perf/collect_game_steps_per_sec': '92.4286', 'game/terminated_count': '0.0000', 'game/terminated_pct': '0.0000'}\n",
      "Epoch 145: {'pip_count_baseline_avg_outcome': '0.0800'}\n",
      "Epoch 146: {'l2_reg': '0.0948', 'loss': '1.8049', 'policy_entropy': '0.9607', 'policy_loss': '0.9676', 'value_loss': '0.7424', 'buffer/size': '128000.0000', 'buffer/valid_samples': '123710.0000', 'buffer/fullness_pct': '100.0000', 'perf/train_steps_per_sec': '512000000.0000', 'perf/samples_per_sec': '16384000000.0000', 'perf/collect_time_sec': '355.7139', 'perf/train_time_sec': '14.9210', 'perf/collect_steps_per_sec': '1.4394', 'perf/collect_game_steps_per_sec': '92.1190', 'game/terminated_count': '0.0000', 'game/terminated_pct': '0.0000'}\n",
      "Epoch 147: {'l2_reg': '0.0946', 'loss': '1.7848', 'policy_entropy': '0.9503', 'policy_loss': '0.9565', 'value_loss': '0.7337', 'buffer/size': '128000.0000', 'buffer/valid_samples': '122232.0000', 'buffer/fullness_pct': '100.0000', 'perf/train_steps_per_sec': '4.0000', 'perf/samples_per_sec': '128.0000', 'perf/collect_time_sec': '354.2293', 'perf/train_time_sec': '14.8989', 'perf/collect_steps_per_sec': '1.4454', 'perf/collect_game_steps_per_sec': '92.5050', 'game/terminated_count': '0.0000', 'game/terminated_pct': '0.0000'}\n",
      "Epoch 148: {'l2_reg': '0.0944', 'loss': '1.7698', 'policy_entropy': '0.9450', 'policy_loss': '0.9520', 'value_loss': '0.7234', 'buffer/size': '128000.0000', 'buffer/valid_samples': '123000.0000', 'buffer/fullness_pct': '100.0000', 'perf/train_steps_per_sec': '512000000.0000', 'perf/samples_per_sec': '16384000000.0000', 'perf/collect_time_sec': '355.5954', 'perf/train_time_sec': '14.6510', 'perf/collect_steps_per_sec': '1.4398', 'perf/collect_game_steps_per_sec': '92.1497', 'game/terminated_count': '0.0000', 'game/terminated_pct': '0.0000'}\n",
      "Epoch 149: {'l2_reg': '0.0942', 'loss': '1.7697', 'policy_entropy': '0.9482', 'policy_loss': '0.9551', 'value_loss': '0.7204', 'buffer/size': '128000.0000', 'buffer/valid_samples': '123449.0000', 'buffer/fullness_pct': '100.0000', 'perf/train_steps_per_sec': '512000000.0000', 'perf/samples_per_sec': '16384000000.0000', 'perf/collect_time_sec': '353.9362', 'perf/train_time_sec': '14.6179', 'perf/collect_steps_per_sec': '1.4466', 'perf/collect_game_steps_per_sec': '92.5817', 'game/terminated_count': '0.0000', 'game/terminated_pct': '0.0000'}\n"
     ]
    }
   ],
   "source": [
    "output = trainer.train_loop(seed=0, num_epochs=150, eval_every=5)"
   ]
  },
  {
   "cell_type": "markdown",
   "metadata": {},
   "source": [
    "and GIFs generated will appear in the same directory as this notebook, and also on your `wandb` dashboard."
   ]
  }
 ],
 "metadata": {
  "kernelspec": {
   "display_name": ".venv",
   "language": "python",
   "name": "python3"
  },
  "language_info": {
   "codemirror_mode": {
    "name": "ipython",
    "version": 3
   },
   "file_extension": ".py",
   "mimetype": "text/x-python",
   "name": "python",
   "nbconvert_exporter": "python",
   "pygments_lexer": "ipython3",
   "version": "undefined.undefined.undefined"
  }
 },
 "nbformat": 4,
 "nbformat_minor": 2
}
